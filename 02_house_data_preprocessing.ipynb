{
 "cells": [
  {
   "attachments": {},
   "cell_type": "markdown",
   "metadata": {},
   "source": [
    "### **라이브러리 호출**"
   ]
  },
  {
   "cell_type": "code",
   "execution_count": 160,
   "metadata": {},
   "outputs": [],
   "source": [
    "import pandas as pd\n",
    "import numpy as np\n",
    "from haversine import haversine, haversine_vector\n",
    "from geopy.geocoders import Nominatim\n",
    "import ast"
   ]
  },
  {
   "cell_type": "code",
   "execution_count": 161,
   "metadata": {},
   "outputs": [
    {
     "data": {
      "text/plain": [
       "Index(['아파트명', '면적', '법정동주소', '도로명주소', '위도', '경도', '세대수', '임대세대수', '영구임대세대수',\n",
       "       '국민임대세대수', '민간임대세대수', '공공임대세대수', '장기임대세대수', '기타임대세대수', '최고층', '최저층',\n",
       "       '최대공급면적', '최소공급면적', '총아파트동수', '용적률', '건폐율', '주차대수', '세대평균_주차대수', '건설사',\n",
       "       '공급면적', '전용면적', '전용율', '방수', '욕실수', '해당면적_세대수', '현관구조', '가격',\n",
       "       '초등학교_학군정보', '초등학교_설립정보', '입주예정일', '공급액(만원)'],\n",
       "      dtype='object')"
      ]
     },
     "execution_count": 161,
     "metadata": {},
     "output_type": "execute_result"
    }
   ],
   "source": [
    "apartment_data = pd.read_csv('청약홈_합본.csv', encoding='cp949').drop('Unnamed: 0', axis=1)\n",
    "apartment = apartment_data.copy()\n",
    "apartment.columns"
   ]
  },
  {
   "cell_type": "markdown",
   "metadata": {},
   "source": [
    "중복되는 컬럼 제거"
   ]
  },
  {
   "cell_type": "code",
   "execution_count": 162,
   "metadata": {},
   "outputs": [],
   "source": [
    "apartment.drop_duplicates(inplace=True)"
   ]
  },
  {
   "cell_type": "code",
   "execution_count": 163,
   "metadata": {},
   "outputs": [
    {
     "data": {
      "text/plain": [
       "(3345, 36)"
      ]
     },
     "execution_count": 163,
     "metadata": {},
     "output_type": "execute_result"
    }
   ],
   "source": [
    "apartment.shape"
   ]
  },
  {
   "cell_type": "markdown",
   "metadata": {},
   "source": [
    "입주예정일을 입주예정연도로 변경"
   ]
  },
  {
   "cell_type": "code",
   "execution_count": 164,
   "metadata": {},
   "outputs": [],
   "source": [
    "apartment['입주예정연도'] = apartment['입주예정일'].apply(lambda x: str(x).replace(\"-\",\"\")[0:4])"
   ]
  },
  {
   "cell_type": "code",
   "execution_count": 165,
   "metadata": {},
   "outputs": [],
   "source": [
    "apartment['location'] = tuple(zip(apartment['위도'], apartment['경도']))\n",
    "apartment_location = list(apartment['location'])"
   ]
  },
  {
   "attachments": {},
   "cell_type": "markdown",
   "metadata": {},
   "source": [
    "# 변수 추가\n",
    "\n",
    "* 대형건설사 시공 여부\n",
    "* 가까운 지하철 역과 그 거리, 해당 노선\n",
    "* 주변 의료기관 개수\n",
    "* 주변 공원 개수\n",
    "* 주변 대학 개수\n",
    "* 광역/기초\n",
    "* 주변 상권\n",
    "* 평당 공급액"
   ]
  },
  {
   "attachments": {},
   "cell_type": "markdown",
   "metadata": {},
   "source": [
    "### **1. 대형건설사**\n",
    "\n",
    "* 대형건설사가 시공에 참여한 아파트를 구분\n",
    "* '대형건설사' 기준: 10대 건설사(삼성물산, 현대건설, DL이앤씨, 포스코이앤씨, GS건설, 대우건설, 현대엔지니어링, 롯데건설, SK에코플랜트, HDC현대산업개발)에 포함\n"
   ]
  },
  {
   "cell_type": "code",
   "execution_count": 166,
   "metadata": {},
   "outputs": [],
   "source": [
    "# 숫자, ., 탭, ㈜, 주식회사 등 제거 \n",
    "\n",
    "apartment['건설사'] = apartment['건설사'].str.replace(\"[0-9.\\s]|\\t|\\(주\\)|㈜|주\\)|주식회사\", \"\", regex=True)"
   ]
  },
  {
   "cell_type": "code",
   "execution_count": 167,
   "metadata": {},
   "outputs": [],
   "source": [
    "# 건설사 이름 통일\n",
    "\n",
    "def replace_firm_name(firm):\n",
    "    if '현대산업개발' in firm:\n",
    "        firm = firm.replace('HDC현대산업개발', '현대산업개발')\n",
    "        firm = firm.replace('에이치디씨현대산업개발', '현대산업개발')\n",
    "        firm = firm.replace('현대산업개발', 'HDC현대산업개발')\n",
    "    if '디엘이앤씨' in firm:\n",
    "        firm = firm.replace('디엘이앤씨', 'DL이앤씨') \n",
    "    if '지에스건설' in firm:\n",
    "        firm = firm.replace('지에스건설', 'GS건설')\n",
    "    if '에스케이에코플랜트' in firm:\n",
    "        firm = firm.replace('에스케이에코플랜트', 'SK에코플랜트')\n",
    "    if '에스케이건설' in firm:\n",
    "        firm = firm.replace('에스케이건설', 'SK에코플랜트') # 사명 변경\n",
    "    if '포스코건설' in firm:\n",
    "        firm = firm.replace('포스코건설', '포스코이앤씨')   # 사명 변경\n",
    "    \n",
    "    return firm\n",
    "\n",
    "apartment['건설사'] = apartment['건설사'].apply(replace_firm_name)"
   ]
  },
  {
   "cell_type": "code",
   "execution_count": 168,
   "metadata": {},
   "outputs": [],
   "source": [
    "# 대형 건설사가 시공에 포함됐을 경우 '대형건설사' 컬럼 값 True\n",
    "\n",
    "대형건설사 = ['삼성물산', '현대건설', 'DL이앤씨', '포스코이앤씨', 'GS건설', '대우건설', '현대엔지니어링', '롯데건설', 'SK에코플랜트', 'HDC현대산업개발']\n",
    "apartment['대형건설사'] = apartment['건설사'].apply(lambda x: True if any(keyword in x for keyword in 대형건설사) else False)"
   ]
  },
  {
   "attachments": {},
   "cell_type": "markdown",
   "metadata": {},
   "source": [
    "### **2. 가장 가까운 지하철역명과 그 역과의 거리**\n",
    "\n",
    "* 도시철도 역사정보 데이터: https://data.kric.go.kr/rips/M_01_01/detail.do;jsessionid=1jTd7vFOC+oGNYyEJtzQH6i1?id=32&lcd=A\n",
    "\n",
    "* 서울 지하철역 좌표 데이터(보완/검토용): https://observablehq.com/@taekie/seoul_subway_station_coordinate"
   ]
  },
  {
   "cell_type": "code",
   "execution_count": 169,
   "metadata": {},
   "outputs": [],
   "source": [
    "all_rail = pd.read_excel(\"전체_도시철도역사정보_20230630.xlsx\")"
   ]
  },
  {
   "cell_type": "code",
   "execution_count": 170,
   "metadata": {},
   "outputs": [],
   "source": [
    "# 서울, 인천, 경기지역 지하철만 필터링\n",
    "\n",
    "cities_to_remove = ['대구', '부산', '대전', '광주광역시', '울산'] # '광주'만 넣을 경우 '경기도 광주' 포함\n",
    "\n",
    "# 기관명 또는 주소에 필터링 적용\n",
    "greater_seoul_rail = ~(all_rail['운영기관명'].str.contains('|'.join(cities_to_remove)) | all_rail['역사도로명주소'].str.contains('|'.join(cities_to_remove)))\n",
    "rail = all_rail[greater_seoul_rail]"
   ]
  },
  {
   "cell_type": "code",
   "execution_count": 171,
   "metadata": {},
   "outputs": [
    {
     "name": "stderr",
     "output_type": "stream",
     "text": [
      "C:\\Users\\henna\\AppData\\Local\\Temp\\ipykernel_1144\\2897763605.py:3: SettingWithCopyWarning: \n",
      "A value is trying to be set on a copy of a slice from a DataFrame.\n",
      "Try using .loc[row_indexer,col_indexer] = value instead\n",
      "\n",
      "See the caveats in the documentation: https://pandas.pydata.org/pandas-docs/stable/user_guide/indexing.html#returning-a-view-versus-a-copy\n",
      "  rail['역사명'] = rail['역사명'].str.replace(r\"\\s|\\n|\\([^()]*\\)|[.·]\", \"\", regex=True)\n",
      "C:\\Users\\henna\\AppData\\Local\\Temp\\ipykernel_1144\\2897763605.py:6: SettingWithCopyWarning: \n",
      "A value is trying to be set on a copy of a slice from a DataFrame.\n",
      "Try using .loc[row_indexer,col_indexer] = value instead\n",
      "\n",
      "See the caveats in the documentation: https://pandas.pydata.org/pandas-docs/stable/user_guide/indexing.html#returning-a-view-versus-a-copy\n",
      "  rail['역사명'] = rail['역사명'].apply(lambda x: x + '역' if not x.endswith('역') else x)\n"
     ]
    }
   ],
   "source": [
    "# 괄호와 괄호글, 공백, 탭, .,  줄바꿈 등 제거\n",
    "\n",
    "rail['역사명'] = rail['역사명'].str.replace(r\"\\s|\\n|\\([^()]*\\)|[.·]\", \"\", regex=True)\n",
    "\n",
    "# '역'으로 끝나지 않을 경우 역을 붙여줌\n",
    "rail['역사명'] = rail['역사명'].apply(lambda x: x + '역' if not x.endswith('역') else x)"
   ]
  },
  {
   "cell_type": "code",
   "execution_count": 172,
   "metadata": {},
   "outputs": [],
   "source": [
    "rail = rail[rail['노선명'] != '자기부상철도'] # 인천공항 자기부상열차는 무기한 운행 중단"
   ]
  },
  {
   "cell_type": "code",
   "execution_count": 173,
   "metadata": {},
   "outputs": [],
   "source": [
    "# station 데이터로 보완\n",
    "\n",
    "station = pd.read_csv(\"station_coordinate.csv\")\n",
    "station['name'] = station['name'] + '역'\n",
    "station['name'] = station['name'].str.replace(\"[.,]\", \"\", regex=True)\n",
    "station_name = set(station['name'].unique())\n",
    "\n",
    "rail_name = set(rail['역사명'].unique())"
   ]
  },
  {
   "cell_type": "code",
   "execution_count": 174,
   "metadata": {},
   "outputs": [
    {
     "data": {
      "text/plain": [
       "['이수역', '원곡역']"
      ]
     },
     "execution_count": 174,
     "metadata": {},
     "output_type": "execute_result"
    }
   ],
   "source": [
    "list(station_name - rail_name)"
   ]
  },
  {
   "cell_type": "code",
   "execution_count": 175,
   "metadata": {},
   "outputs": [],
   "source": [
    "# 총신대입구(이수)역은 4호선과 7호선 2개 역\n",
    "rail.loc[(rail['역사명'] == '총신대입구역') & (rail['노선명'] == '4호선'), '역위도'] = station[station['name'] == '총신대입구역']['lat'].values\n",
    "rail.loc[(rail['역사명'] == '총신대입구역') & (rail['노선명'] == '4호선'), '역경도'] = station[station['name'] == '총신대입구역']['lng'].values\n",
    "rail.loc[(rail['역사명'] == '총신대입구역') & (rail['노선명'] == '7호선'), '역위도'] = station[station['name'] == '이수역']['lat'].values\n",
    "rail.loc[(rail['역사명'] == '총신대입구역') & (rail['노선명'] == '7호선'), '역경도'] = station[station['name'] == '이수역']['lng'].values"
   ]
  },
  {
   "cell_type": "code",
   "execution_count": 176,
   "metadata": {},
   "outputs": [
    {
     "data": {
      "text/html": [
       "<div>\n",
       "<style scoped>\n",
       "    .dataframe tbody tr th:only-of-type {\n",
       "        vertical-align: middle;\n",
       "    }\n",
       "\n",
       "    .dataframe tbody tr th {\n",
       "        vertical-align: top;\n",
       "    }\n",
       "\n",
       "    .dataframe thead th {\n",
       "        text-align: right;\n",
       "    }\n",
       "</style>\n",
       "<table border=\"1\" class=\"dataframe\">\n",
       "  <thead>\n",
       "    <tr style=\"text-align: right;\">\n",
       "      <th></th>\n",
       "      <th>역번호</th>\n",
       "      <th>역사명</th>\n",
       "      <th>노선번호</th>\n",
       "      <th>노선명</th>\n",
       "      <th>영문역사명</th>\n",
       "      <th>한자역사명</th>\n",
       "      <th>환승역구분</th>\n",
       "      <th>환승노선번호</th>\n",
       "      <th>환승노선명</th>\n",
       "      <th>역위도</th>\n",
       "      <th>역경도</th>\n",
       "      <th>운영기관명</th>\n",
       "      <th>역사도로명주소</th>\n",
       "      <th>역사전화번호</th>\n",
       "      <th>데이터기준일자</th>\n",
       "    </tr>\n",
       "  </thead>\n",
       "  <tbody>\n",
       "    <tr>\n",
       "      <th>1041</th>\n",
       "      <td>4814</td>\n",
       "      <td>시우역</td>\n",
       "      <td>I41WS</td>\n",
       "      <td>서해선</td>\n",
       "      <td>Siu</td>\n",
       "      <td>時雨</td>\n",
       "      <td>일반역</td>\n",
       "      <td>NaN</td>\n",
       "      <td>NaN</td>\n",
       "      <td>37.313767</td>\n",
       "      <td>126.798303</td>\n",
       "      <td>한국철도공사</td>\n",
       "      <td>경기도 안산시 단원구 동산로 지하 50</td>\n",
       "      <td>1544-7788</td>\n",
       "      <td>2022-08-31</td>\n",
       "    </tr>\n",
       "  </tbody>\n",
       "</table>\n",
       "</div>"
      ],
      "text/plain": [
       "       역번호  역사명   노선번호  노선명 영문역사명 한자역사명 환승역구분 환승노선번호 환승노선명        역위도  \\\n",
       "1041  4814  시우역  I41WS  서해선   Siu    時雨   일반역    NaN   NaN  37.313767   \n",
       "\n",
       "             역경도   운영기관명                역사도로명주소     역사전화번호     데이터기준일자  \n",
       "1041  126.798303  한국철도공사  경기도 안산시 단원구 동산로 지하 50  1544-7788  2022-08-31  "
      ]
     },
     "execution_count": 176,
     "metadata": {},
     "output_type": "execute_result"
    }
   ],
   "source": [
    "# '원곡역'은 '시우역'으로 역사명이 변경되었음(rail데이터에 있어 무관)\n",
    "rail[rail['역사명'] == '시우역']"
   ]
  },
  {
   "cell_type": "code",
   "execution_count": 177,
   "metadata": {},
   "outputs": [],
   "source": [
    "merged_rail = rail.merge(station[['name', 'lat', 'lng']], left_on = '역사명', right_on='name', how='left')\n",
    "\n",
    "merged_rail['역위도'] = merged_rail['역위도'].fillna(merged_rail['lat'])\n",
    "merged_rail['역경도'] = merged_rail['역경도'].fillna(merged_rail['lng'])\n",
    "\n",
    "merged_rail.drop(['name', 'lat', 'lng'], axis=1, inplace=True)\n",
    "merged_rail = merged_rail.drop_duplicates()"
   ]
  },
  {
   "cell_type": "code",
   "execution_count": 178,
   "metadata": {},
   "outputs": [],
   "source": [
    "# station 데이터로 보완했음에도 불구하고 위경도가 없는 행들 확인\n",
    "\n",
    "blank_df = merged_rail[merged_rail['역위도'].isna() | merged_rail['역경도'].isna()]"
   ]
  },
  {
   "cell_type": "code",
   "execution_count": 179,
   "metadata": {},
   "outputs": [],
   "source": [
    "# 위경도가 없는 행들은 Nominatime 사용 주소로 위경도를 불러오길 시도\n",
    "def geocoding(address):\n",
    "    geo_local = Nominatim(user_agent='South Korea')\n",
    "    location = geo_local.geocode(address)\n",
    "    if location is not None and location.latitude is not None and location.longitude is not None:\n",
    "        geo = (location.latitude, location.longitude)\n",
    "        return geo\n",
    "    else:\n",
    "        return (0, 0)\n",
    "    \n",
    "blank_df.loc[:, '역위도'] = blank_df['역사도로명주소'].apply(lambda x: geocoding(x)[0])\n",
    "blank_df.loc[:, '역경도'] = blank_df['역사도로명주소'].apply(lambda x: geocoding(x)[1])"
   ]
  },
  {
   "cell_type": "code",
   "execution_count": 180,
   "metadata": {},
   "outputs": [
    {
     "data": {
      "text/html": [
       "<div>\n",
       "<style scoped>\n",
       "    .dataframe tbody tr th:only-of-type {\n",
       "        vertical-align: middle;\n",
       "    }\n",
       "\n",
       "    .dataframe tbody tr th {\n",
       "        vertical-align: top;\n",
       "    }\n",
       "\n",
       "    .dataframe thead th {\n",
       "        text-align: right;\n",
       "    }\n",
       "</style>\n",
       "<table border=\"1\" class=\"dataframe\">\n",
       "  <thead>\n",
       "    <tr style=\"text-align: right;\">\n",
       "      <th></th>\n",
       "      <th>역사명</th>\n",
       "      <th>역사도로명주소</th>\n",
       "    </tr>\n",
       "  </thead>\n",
       "  <tbody>\n",
       "    <tr>\n",
       "      <th>75</th>\n",
       "      <td>산곡역</td>\n",
       "      <td>인천광역시 부평구 길주로 지하 379 (산곡동)</td>\n",
       "    </tr>\n",
       "    <tr>\n",
       "      <th>186</th>\n",
       "      <td>오남역</td>\n",
       "      <td>경기도 남양주시 오남읍 진건오남로 지하 929</td>\n",
       "    </tr>\n",
       "    <tr>\n",
       "      <th>453</th>\n",
       "      <td>강일역</td>\n",
       "      <td>서울특별시 강동구 고덕로 지하456(강일동)</td>\n",
       "    </tr>\n",
       "    <tr>\n",
       "      <th>454</th>\n",
       "      <td>미사역</td>\n",
       "      <td>경기도 하남시 미사강변동로 지하90(망월동)</td>\n",
       "    </tr>\n",
       "    <tr>\n",
       "      <th>455</th>\n",
       "      <td>하남풍산역</td>\n",
       "      <td>경기도 하남시 덕풍서로 지하50(덕풍동)</td>\n",
       "    </tr>\n",
       "    <tr>\n",
       "      <th>456</th>\n",
       "      <td>하남시청역</td>\n",
       "      <td>경기도 하남시 하남대로 지하820(덕풍동)</td>\n",
       "    </tr>\n",
       "    <tr>\n",
       "      <th>457</th>\n",
       "      <td>하남검단산역</td>\n",
       "      <td>경기도 하남시 대청로 지하100(창우동)</td>\n",
       "    </tr>\n",
       "    <tr>\n",
       "      <th>587</th>\n",
       "      <td>남위례역</td>\n",
       "      <td>경기도 성남시 수정구 공원로 601(복정동)</td>\n",
       "    </tr>\n",
       "    <tr>\n",
       "      <th>637</th>\n",
       "      <td>삼전역</td>\n",
       "      <td>서울특별시 송파구 백제고분로 지하 187</td>\n",
       "    </tr>\n",
       "    <tr>\n",
       "      <th>638</th>\n",
       "      <td>석촌고분역</td>\n",
       "      <td>서울특별시 송파구 삼학사로 지하 53</td>\n",
       "    </tr>\n",
       "    <tr>\n",
       "      <th>641</th>\n",
       "      <td>송파나루역</td>\n",
       "      <td>서울특별시 송파구 백제고분로 지하 446</td>\n",
       "    </tr>\n",
       "    <tr>\n",
       "      <th>642</th>\n",
       "      <td>한성백제역</td>\n",
       "      <td>서울특별시 송파구 위례성대로 지하 51</td>\n",
       "    </tr>\n",
       "    <tr>\n",
       "      <th>645</th>\n",
       "      <td>둔촌오륜역</td>\n",
       "      <td>서울특별시 강동구 강동대로 지하 327</td>\n",
       "    </tr>\n",
       "    <tr>\n",
       "      <th>646</th>\n",
       "      <td>중앙보훈병원역</td>\n",
       "      <td>서울특별시 강동구 명일로 지하 117</td>\n",
       "    </tr>\n",
       "  </tbody>\n",
       "</table>\n",
       "</div>"
      ],
      "text/plain": [
       "         역사명                     역사도로명주소\n",
       "75       산곡역  인천광역시 부평구 길주로 지하 379 (산곡동)\n",
       "186      오남역   경기도 남양주시 오남읍 진건오남로 지하 929\n",
       "453      강일역    서울특별시 강동구 고덕로 지하456(강일동)\n",
       "454      미사역    경기도 하남시 미사강변동로 지하90(망월동)\n",
       "455    하남풍산역      경기도 하남시 덕풍서로 지하50(덕풍동)\n",
       "456    하남시청역     경기도 하남시 하남대로 지하820(덕풍동)\n",
       "457   하남검단산역      경기도 하남시 대청로 지하100(창우동)\n",
       "587     남위례역    경기도 성남시 수정구 공원로 601(복정동)\n",
       "637      삼전역      서울특별시 송파구 백제고분로 지하 187\n",
       "638    석촌고분역       서울특별시 송파구 삼학사로 지하 53 \n",
       "641    송파나루역      서울특별시 송파구 백제고분로 지하 446\n",
       "642    한성백제역       서울특별시 송파구 위례성대로 지하 51\n",
       "645    둔촌오륜역       서울특별시 강동구 강동대로 지하 327\n",
       "646  중앙보훈병원역        서울특별시 강동구 명일로 지하 117"
      ]
     },
     "execution_count": 180,
     "metadata": {},
     "output_type": "execute_result"
    }
   ],
   "source": [
    "# 그러나 여전히 업데이트 되지 않는 역들 존재재\n",
    "\n",
    "blank_df[(blank_df['역위도'] == 0)|(blank_df['역경도'] == 0)][['역사명', '역사도로명주소']]"
   ]
  },
  {
   "cell_type": "markdown",
   "metadata": {},
   "source": [
    "geocoding 함수가 적용되지 않는 것들은 데이터상 주소의 문제 -> 주소 수정"
   ]
  },
  {
   "cell_type": "code",
   "execution_count": 181,
   "metadata": {},
   "outputs": [],
   "source": [
    "address_updates = [\n",
    "    ('산곡역', '인천광역시 부평구 산곡동 10-32'),\n",
    "    ('오남역', '경기도 남양주시 오남읍 진건오남로 929'),\n",
    "    ('강일역', '서울특별시 강동구 강일동 산22-14'),\n",
    "    ('미사역', '경기도 하남시 망월동 109-8'),\n",
    "    ('하남풍산역', '경기도 하남시 덕풍동 727-3'),\n",
    "    ('하남시청역', '경기도 하남시 신장동 510-2'),\n",
    "    ('하남검단산역', '경기도 하남시 창우동 526'),\n",
    "    ('남위례역', '경기도 성남시 수정구 복정동 57'),\n",
    "    ('삼전역', '서울특별시 송파구 잠실동 347'),\n",
    "    ('석촌고분역', '서울특별시 송파구 석촌동 157'),\n",
    "    ('송파나루역', '서울특별시 송파구 송파동 3'),\n",
    "    ('한성백제역', '서울특별시 송파구 방이동 88-17'),\n",
    "    ('둔촌오륜역', '서울특별시 강동구 강동대로 303'),\n",
    "    ('중앙보훈병원역', '서울특별시 강동구 둔촌동 8-1')]\n",
    "\n",
    "for station_name, address in address_updates:\n",
    "    blank_df.loc[blank_df['역사명'] == station_name, '역사도로명주소'] = address"
   ]
  },
  {
   "cell_type": "code",
   "execution_count": 182,
   "metadata": {},
   "outputs": [],
   "source": [
    "blank_df.loc[:, '역위도'] = blank_df['역사도로명주소'].apply(lambda x: geocoding(x)[0])\n",
    "blank_df.loc[:, '역경도'] = blank_df['역사도로명주소'].apply(lambda x: geocoding(x)[1])"
   ]
  },
  {
   "cell_type": "code",
   "execution_count": 183,
   "metadata": {},
   "outputs": [
    {
     "data": {
      "text/html": [
       "<div>\n",
       "<style scoped>\n",
       "    .dataframe tbody tr th:only-of-type {\n",
       "        vertical-align: middle;\n",
       "    }\n",
       "\n",
       "    .dataframe tbody tr th {\n",
       "        vertical-align: top;\n",
       "    }\n",
       "\n",
       "    .dataframe thead th {\n",
       "        text-align: right;\n",
       "    }\n",
       "</style>\n",
       "<table border=\"1\" class=\"dataframe\">\n",
       "  <thead>\n",
       "    <tr style=\"text-align: right;\">\n",
       "      <th></th>\n",
       "      <th>역사명</th>\n",
       "      <th>역사도로명주소</th>\n",
       "    </tr>\n",
       "  </thead>\n",
       "  <tbody>\n",
       "  </tbody>\n",
       "</table>\n",
       "</div>"
      ],
      "text/plain": [
       "Empty DataFrame\n",
       "Columns: [역사명, 역사도로명주소]\n",
       "Index: []"
      ]
     },
     "execution_count": 183,
     "metadata": {},
     "output_type": "execute_result"
    }
   ],
   "source": [
    "# 이제 위도 경도가 없는 역은 없음을 확인\n",
    "blank_df[(blank_df['역위도'] == 0)|(blank_df['역경도'] == 0)][['역사명', '역사도로명주소']]"
   ]
  },
  {
   "cell_type": "code",
   "execution_count": 184,
   "metadata": {},
   "outputs": [],
   "source": [
    "# blank_df값으로 merged_rail 업데이트\n",
    "\n",
    "for index, data in merged_rail.iterrows():\n",
    "    if data['역사명'] in blank_df['역사명'].values:\n",
    "        new_info = blank_df.loc[blank_df['역사명'] == data['역사명']]\n",
    "        merged_rail.at[index, '역위도'] = new_info['역위도'].values[0]\n",
    "        merged_rail.at[index, '역경도'] = new_info['역경도'].values[0]"
   ]
  },
  {
   "cell_type": "code",
   "execution_count": 185,
   "metadata": {},
   "outputs": [
    {
     "data": {
      "text/html": [
       "<div>\n",
       "<style scoped>\n",
       "    .dataframe tbody tr th:only-of-type {\n",
       "        vertical-align: middle;\n",
       "    }\n",
       "\n",
       "    .dataframe tbody tr th {\n",
       "        vertical-align: top;\n",
       "    }\n",
       "\n",
       "    .dataframe thead th {\n",
       "        text-align: right;\n",
       "    }\n",
       "</style>\n",
       "<table border=\"1\" class=\"dataframe\">\n",
       "  <thead>\n",
       "    <tr style=\"text-align: right;\">\n",
       "      <th></th>\n",
       "      <th>역번호</th>\n",
       "      <th>역사명</th>\n",
       "      <th>노선번호</th>\n",
       "      <th>노선명</th>\n",
       "      <th>영문역사명</th>\n",
       "      <th>한자역사명</th>\n",
       "      <th>환승역구분</th>\n",
       "      <th>환승노선번호</th>\n",
       "      <th>환승노선명</th>\n",
       "      <th>역위도</th>\n",
       "      <th>역경도</th>\n",
       "      <th>운영기관명</th>\n",
       "      <th>역사도로명주소</th>\n",
       "      <th>역사전화번호</th>\n",
       "      <th>데이터기준일자</th>\n",
       "    </tr>\n",
       "  </thead>\n",
       "  <tbody>\n",
       "  </tbody>\n",
       "</table>\n",
       "</div>"
      ],
      "text/plain": [
       "Empty DataFrame\n",
       "Columns: [역번호, 역사명, 노선번호, 노선명, 영문역사명, 한자역사명, 환승역구분, 환승노선번호, 환승노선명, 역위도, 역경도, 운영기관명, 역사도로명주소, 역사전화번호, 데이터기준일자]\n",
       "Index: []"
      ]
     },
     "execution_count": 185,
     "metadata": {},
     "output_type": "execute_result"
    }
   ],
   "source": [
    "# 재확인\n",
    "merged_rail.loc[(merged_rail['역위도'] == 0) | (merged_rail['역경도'] == 0)]"
   ]
  },
  {
   "cell_type": "markdown",
   "metadata": {},
   "source": [
    "'역사명'이 다른데 '역위도'와 '역경도'가 같은 행 존재 -> 주소 수정 필요"
   ]
  },
  {
   "cell_type": "code",
   "execution_count": 186,
   "metadata": {},
   "outputs": [
    {
     "data": {
      "text/html": [
       "<div>\n",
       "<style scoped>\n",
       "    .dataframe tbody tr th:only-of-type {\n",
       "        vertical-align: middle;\n",
       "    }\n",
       "\n",
       "    .dataframe tbody tr th {\n",
       "        vertical-align: top;\n",
       "    }\n",
       "\n",
       "    .dataframe thead th {\n",
       "        text-align: right;\n",
       "    }\n",
       "</style>\n",
       "<table border=\"1\" class=\"dataframe\">\n",
       "  <thead>\n",
       "    <tr style=\"text-align: right;\">\n",
       "      <th></th>\n",
       "      <th>역번호</th>\n",
       "      <th>역사명</th>\n",
       "      <th>노선번호</th>\n",
       "      <th>노선명</th>\n",
       "      <th>영문역사명</th>\n",
       "      <th>한자역사명</th>\n",
       "      <th>환승역구분</th>\n",
       "      <th>환승노선번호</th>\n",
       "      <th>환승노선명</th>\n",
       "      <th>역위도</th>\n",
       "      <th>역경도</th>\n",
       "      <th>운영기관명</th>\n",
       "      <th>역사도로명주소</th>\n",
       "      <th>역사전화번호</th>\n",
       "      <th>데이터기준일자</th>\n",
       "    </tr>\n",
       "  </thead>\n",
       "  <tbody>\n",
       "    <tr>\n",
       "      <th>716</th>\n",
       "      <td>1701</td>\n",
       "      <td>구로역</td>\n",
       "      <td>I4101</td>\n",
       "      <td>경부선</td>\n",
       "      <td>Guro</td>\n",
       "      <td>九 老</td>\n",
       "      <td>일반역</td>\n",
       "      <td>NaN</td>\n",
       "      <td>NaN</td>\n",
       "      <td>37.503178</td>\n",
       "      <td>126.882037</td>\n",
       "      <td>한국철도공사</td>\n",
       "      <td>서울시 구로구 구로중앙로 174</td>\n",
       "      <td>1544-7788</td>\n",
       "      <td>2022-08-31</td>\n",
       "    </tr>\n",
       "    <tr>\n",
       "      <th>814</th>\n",
       "      <td>1205</td>\n",
       "      <td>구리역</td>\n",
       "      <td>I4108</td>\n",
       "      <td>경의중앙선</td>\n",
       "      <td>Guri</td>\n",
       "      <td>九 里</td>\n",
       "      <td>일반역</td>\n",
       "      <td>NaN</td>\n",
       "      <td>NaN</td>\n",
       "      <td>37.503178</td>\n",
       "      <td>126.882037</td>\n",
       "      <td>한국철도공사</td>\n",
       "      <td>경기도 구리시 건원대로 34번길 32-29(인창동 244-2)</td>\n",
       "      <td>1544-7788</td>\n",
       "      <td>2022-08-31</td>\n",
       "    </tr>\n",
       "    <tr>\n",
       "      <th>177</th>\n",
       "      <td>G105</td>\n",
       "      <td>걸포북변역</td>\n",
       "      <td>L41G1</td>\n",
       "      <td>김포골드라인</td>\n",
       "      <td>Geolpo Bukbyeon</td>\n",
       "      <td>杰浦北边</td>\n",
       "      <td>일반역</td>\n",
       "      <td>NaN</td>\n",
       "      <td>NaN</td>\n",
       "      <td>37.614886</td>\n",
       "      <td>126.728671</td>\n",
       "      <td>김포골드라인운영㈜</td>\n",
       "      <td>경기도 김포시 김포대로 1040</td>\n",
       "      <td>031-8048-1750</td>\n",
       "      <td>2023-05-26 00:00:00</td>\n",
       "    </tr>\n",
       "    <tr>\n",
       "      <th>178</th>\n",
       "      <td>G106</td>\n",
       "      <td>사우역</td>\n",
       "      <td>L41G1</td>\n",
       "      <td>김포골드라인</td>\n",
       "      <td>Sau(Gimpo City Hall)</td>\n",
       "      <td>萨乌</td>\n",
       "      <td>일반역</td>\n",
       "      <td>NaN</td>\n",
       "      <td>NaN</td>\n",
       "      <td>37.614886</td>\n",
       "      <td>126.728671</td>\n",
       "      <td>김포골드라인운영㈜</td>\n",
       "      <td>경기도 김포시 김포대로 852</td>\n",
       "      <td>031-8048-1760</td>\n",
       "      <td>2023-05-26 00:00:00</td>\n",
       "    </tr>\n",
       "    <tr>\n",
       "      <th>179</th>\n",
       "      <td>G107</td>\n",
       "      <td>풍무역</td>\n",
       "      <td>L41G1</td>\n",
       "      <td>김포골드라인</td>\n",
       "      <td>Pungmu</td>\n",
       "      <td>风舞</td>\n",
       "      <td>일반역</td>\n",
       "      <td>NaN</td>\n",
       "      <td>NaN</td>\n",
       "      <td>37.614886</td>\n",
       "      <td>126.728671</td>\n",
       "      <td>김포골드라인운영㈜</td>\n",
       "      <td>경기도 김포시 김포대로 710</td>\n",
       "      <td>031-8048-1770</td>\n",
       "      <td>2023-05-26 00:00:00</td>\n",
       "    </tr>\n",
       "    <tr>\n",
       "      <th>784</th>\n",
       "      <td>1268</td>\n",
       "      <td>화전역</td>\n",
       "      <td>I4108</td>\n",
       "      <td>경의중앙선</td>\n",
       "      <td>Hwajeon</td>\n",
       "      <td>花 田</td>\n",
       "      <td>일반역</td>\n",
       "      <td>NaN</td>\n",
       "      <td>NaN</td>\n",
       "      <td>37.637837</td>\n",
       "      <td>126.832503</td>\n",
       "      <td>한국철도공사</td>\n",
       "      <td>경기도 고양시 덕양구 화랑로 53(화전동 183-10)</td>\n",
       "      <td>1544-7788</td>\n",
       "      <td>2022-08-31</td>\n",
       "    </tr>\n",
       "    <tr>\n",
       "      <th>1016</th>\n",
       "      <td>1952</td>\n",
       "      <td>화정역</td>\n",
       "      <td>I4106</td>\n",
       "      <td>일산선</td>\n",
       "      <td>Hwajeong</td>\n",
       "      <td>花 井</td>\n",
       "      <td>일반역</td>\n",
       "      <td>NaN</td>\n",
       "      <td>NaN</td>\n",
       "      <td>37.637837</td>\n",
       "      <td>126.832503</td>\n",
       "      <td>한국철도공사</td>\n",
       "      <td>경기도 고양시 덕양구 화정동 400-2</td>\n",
       "      <td>1544-7788</td>\n",
       "      <td>2022-08-31</td>\n",
       "    </tr>\n",
       "    <tr>\n",
       "      <th>175</th>\n",
       "      <td>G103</td>\n",
       "      <td>장기역</td>\n",
       "      <td>L41G1</td>\n",
       "      <td>김포골드라인</td>\n",
       "      <td>Janggi</td>\n",
       "      <td>象棋</td>\n",
       "      <td>일반역</td>\n",
       "      <td>NaN</td>\n",
       "      <td>NaN</td>\n",
       "      <td>37.640823</td>\n",
       "      <td>126.666295</td>\n",
       "      <td>김포골드라인운영㈜</td>\n",
       "      <td>경기도 김포시 김포한강1로 59</td>\n",
       "      <td>031-8048-1730</td>\n",
       "      <td>2023-05-26 00:00:00</td>\n",
       "    </tr>\n",
       "    <tr>\n",
       "      <th>176</th>\n",
       "      <td>G104</td>\n",
       "      <td>운양역</td>\n",
       "      <td>L41G1</td>\n",
       "      <td>김포골드라인</td>\n",
       "      <td>Unyang</td>\n",
       "      <td>云阳</td>\n",
       "      <td>일반역</td>\n",
       "      <td>NaN</td>\n",
       "      <td>NaN</td>\n",
       "      <td>37.640823</td>\n",
       "      <td>126.666295</td>\n",
       "      <td>김포골드라인운영㈜</td>\n",
       "      <td>경기도 김포시 김포한강1로 235</td>\n",
       "      <td>031-8048-1740</td>\n",
       "      <td>2023-05-26 00:00:00</td>\n",
       "    </tr>\n",
       "  </tbody>\n",
       "</table>\n",
       "</div>"
      ],
      "text/plain": [
       "       역번호    역사명   노선번호     노선명                 영문역사명 한자역사명 환승역구분 환승노선번호  \\\n",
       "716   1701    구로역  I4101     경부선                  Guro   九 老   일반역    NaN   \n",
       "814   1205    구리역  I4108   경의중앙선                  Guri   九 里   일반역    NaN   \n",
       "177   G105  걸포북변역  L41G1  김포골드라인      Geolpo Bukbyeon   杰浦北边   일반역    NaN   \n",
       "178   G106    사우역  L41G1  김포골드라인  Sau(Gimpo City Hall)    萨乌   일반역    NaN   \n",
       "179   G107    풍무역  L41G1  김포골드라인                Pungmu    风舞   일반역    NaN   \n",
       "784   1268    화전역  I4108   경의중앙선               Hwajeon   花 田   일반역    NaN   \n",
       "1016  1952    화정역  I4106     일산선              Hwajeong   花 井   일반역    NaN   \n",
       "175   G103    장기역  L41G1  김포골드라인               Janggi     象棋   일반역    NaN   \n",
       "176   G104    운양역  L41G1  김포골드라인               Unyang     云阳   일반역    NaN   \n",
       "\n",
       "     환승노선명        역위도         역경도      운영기관명  \\\n",
       "716    NaN  37.503178  126.882037     한국철도공사   \n",
       "814    NaN  37.503178  126.882037     한국철도공사   \n",
       "177    NaN  37.614886  126.728671  김포골드라인운영㈜   \n",
       "178    NaN  37.614886  126.728671  김포골드라인운영㈜   \n",
       "179    NaN  37.614886  126.728671  김포골드라인운영㈜   \n",
       "784    NaN  37.637837  126.832503     한국철도공사   \n",
       "1016   NaN  37.637837  126.832503     한국철도공사   \n",
       "175    NaN  37.640823  126.666295  김포골드라인운영㈜   \n",
       "176    NaN  37.640823  126.666295  김포골드라인운영㈜   \n",
       "\n",
       "                                 역사도로명주소         역사전화번호              데이터기준일자  \n",
       "716                    서울시 구로구 구로중앙로 174      1544-7788           2022-08-31  \n",
       "814   경기도 구리시 건원대로 34번길 32-29(인창동 244-2)      1544-7788           2022-08-31  \n",
       "177                    경기도 김포시 김포대로 1040  031-8048-1750  2023-05-26 00:00:00  \n",
       "178                     경기도 김포시 김포대로 852  031-8048-1760  2023-05-26 00:00:00  \n",
       "179                     경기도 김포시 김포대로 710  031-8048-1770  2023-05-26 00:00:00  \n",
       "784       경기도 고양시 덕양구 화랑로 53(화전동 183-10)      1544-7788           2022-08-31  \n",
       "1016               경기도 고양시 덕양구 화정동 400-2      1544-7788           2022-08-31  \n",
       "175                    경기도 김포시 김포한강1로 59  031-8048-1730  2023-05-26 00:00:00  \n",
       "176                   경기도 김포시 김포한강1로 235  031-8048-1740  2023-05-26 00:00:00  "
      ]
     },
     "execution_count": 186,
     "metadata": {},
     "output_type": "execute_result"
    }
   ],
   "source": [
    "duplicated = merged_rail[merged_rail.duplicated(subset=['역위도', '역경도'], keep=False) & \n",
    "                         ~merged_rail.duplicated(subset=['역위도', '역경도', '역사명'], keep=False)\n",
    "                        ]\n",
    "duplicated_sorted = duplicated.sort_values(by=['역위도'])\n",
    "duplicated_sorted"
   ]
  },
  {
   "cell_type": "code",
   "execution_count": 187,
   "metadata": {},
   "outputs": [],
   "source": [
    "address_updates = [\n",
    "    ('구로역', '서울특별시 구로구 구로동 585-3'),\n",
    "    ('구리역', '경기도 구리시 인창동 244-2'),\n",
    "    ('걸포북변역', '경기도 김포시 북변동 135-10'),\n",
    "    ('사우역', '경기도 김포시 사우동 854'),\n",
    "    ('풍무역', '경기도 김포시 김포대로 710'),\n",
    "    ('화전역', '경기도 고양시 덕양구 화전동 183-10'),\n",
    "    ('화정역', '경기도 고양시 덕양구 화정동 1098'),\n",
    "    ('장기역', '경기도 김포시 장기동 1791'),\n",
    "    ('운양역', '경기도 김포시 운양동 1403')]\n",
    "\n",
    "for station_name, address in address_updates:\n",
    "    duplicated.loc[duplicated['역사명'] == station_name, '역사도로명주소'] = address\n",
    "    \n",
    "duplicated.loc[:, '역위도'] = duplicated['역사도로명주소'].apply(lambda x: geocoding(x)[0])\n",
    "duplicated.loc[:, '역경도'] = duplicated['역사도로명주소'].apply(lambda x: geocoding(x)[1])"
   ]
  },
  {
   "cell_type": "code",
   "execution_count": 188,
   "metadata": {},
   "outputs": [],
   "source": [
    "# 업데이트된 duplicated로 merged_rail 업데이트\n",
    "\n",
    "for index, data in merged_rail.iterrows():\n",
    "    if data['역사명'] in duplicated['역사명'].values:\n",
    "        new_info = duplicated.loc[duplicated['역사명'] == data['역사명']]\n",
    "        merged_rail.at[index, '역위도'] = new_info['역위도'].values[0]\n",
    "        merged_rail.at[index, '역경도'] = new_info['역경도'].values[0]"
   ]
  },
  {
   "cell_type": "code",
   "execution_count": 189,
   "metadata": {},
   "outputs": [
    {
     "data": {
      "text/html": [
       "<div>\n",
       "<style scoped>\n",
       "    .dataframe tbody tr th:only-of-type {\n",
       "        vertical-align: middle;\n",
       "    }\n",
       "\n",
       "    .dataframe tbody tr th {\n",
       "        vertical-align: top;\n",
       "    }\n",
       "\n",
       "    .dataframe thead th {\n",
       "        text-align: right;\n",
       "    }\n",
       "</style>\n",
       "<table border=\"1\" class=\"dataframe\">\n",
       "  <thead>\n",
       "    <tr style=\"text-align: right;\">\n",
       "      <th></th>\n",
       "      <th>역번호</th>\n",
       "      <th>역사명</th>\n",
       "      <th>노선번호</th>\n",
       "      <th>노선명</th>\n",
       "      <th>영문역사명</th>\n",
       "      <th>한자역사명</th>\n",
       "      <th>환승역구분</th>\n",
       "      <th>환승노선번호</th>\n",
       "      <th>환승노선명</th>\n",
       "      <th>역위도</th>\n",
       "      <th>역경도</th>\n",
       "      <th>운영기관명</th>\n",
       "      <th>역사도로명주소</th>\n",
       "      <th>역사전화번호</th>\n",
       "      <th>데이터기준일자</th>\n",
       "    </tr>\n",
       "  </thead>\n",
       "  <tbody>\n",
       "  </tbody>\n",
       "</table>\n",
       "</div>"
      ],
      "text/plain": [
       "Empty DataFrame\n",
       "Columns: [역번호, 역사명, 노선번호, 노선명, 영문역사명, 한자역사명, 환승역구분, 환승노선번호, 환승노선명, 역위도, 역경도, 운영기관명, 역사도로명주소, 역사전화번호, 데이터기준일자]\n",
       "Index: []"
      ]
     },
     "execution_count": 189,
     "metadata": {},
     "output_type": "execute_result"
    }
   ],
   "source": [
    "# 역위도와 역경도가 같은데 역사명은 다른 컬럼 존재 있는지 재확인 -> 없음 \n",
    "still_duplicated = merged_rail[merged_rail.duplicated(subset=['역위도', '역경도'], keep=False) & \n",
    "                         ~merged_rail.duplicated(subset=['역위도', '역경도', '역사명'], keep=False)]\n",
    "still_duplicated"
   ]
  },
  {
   "cell_type": "markdown",
   "metadata": {},
   "source": [
    "노선명 정리"
   ]
  },
  {
   "cell_type": "code",
   "execution_count": 190,
   "metadata": {},
   "outputs": [
    {
     "data": {
      "text/plain": [
       "array(['인천지하철 1호선', '인천지하철 2호선', '도시철도 7호선', '에버라인', '인천국제공항선', '우이신설선',\n",
       "       '신분당선', '수도권 경량도시철도 신림선', '김포골드라인', '진접선', '1호선', '2호선', '3호선',\n",
       "       '4호선', '5호선', '6호선', '7호선', '8호선', '수도권  도시철도 9호선', '의정부', '경강선',\n",
       "       '경부선', '경원선', '경의중앙선', '경인선', '경춘선', '분당선', '수인선', '안산과천선', '일산선',\n",
       "       '서해선'], dtype=object)"
      ]
     },
     "execution_count": 190,
     "metadata": {},
     "output_type": "execute_result"
    }
   ],
   "source": [
    "merged_rail['노선명'].unique()"
   ]
  },
  {
   "cell_type": "code",
   "execution_count": 191,
   "metadata": {},
   "outputs": [],
   "source": [
    "# 명칭 통일, 위경도 바뀐 데이터 수정\n",
    "merged_rail.loc[merged_rail['노선명'] == '도시철도 7호선', '노선명'] = '7호선'\n",
    "merged_rail.loc[merged_rail['노선명'] == '수도권  도시철도 9호선', '노선명'] = '9호선'\n",
    "merged_rail.loc[merged_rail['노선명'] == '의정부', '노선명'] = '의정부선'\n",
    "merged_rail.loc[merged_rail['노선명'] == '일산선', '노선명'] = '3호선'\n",
    "merged_rail.loc[merged_rail['노선명'] == '수도권 경량도시철도 신림선', '노선명'] = '신림선'\n",
    "merged_rail.loc[merged_rail['노선명'] == '경부선', '노선명'] = '1호선'\n",
    "merged_rail.loc[merged_rail['노선명'] == '경인선', '노선명'] = '1호선'\n",
    "merged_rail.loc[merged_rail['노선명'] == '경원선', '노선명'] = '1호선'\n",
    "merged_rail.loc[merged_rail['노선명'] == '안산과천선', '노선명'] = '4호선'\n",
    "\n",
    "errored = merged_rail['노선명'] == '신분당선'\n",
    "merged_rail.loc[errored, ['역위도', '역경도']] = merged_rail.loc[errored, ['역경도', '역위도']].values"
   ]
  },
  {
   "cell_type": "code",
   "execution_count": 192,
   "metadata": {},
   "outputs": [
    {
     "data": {
      "text/plain": [
       "array(['인천지하철 1호선', '인천지하철 2호선', '7호선', '에버라인', '인천국제공항선', '우이신설선',\n",
       "       '신분당선', '신림선', '김포골드라인', '진접선', '1호선', '2호선', '3호선', '4호선', '5호선',\n",
       "       '6호선', '8호선', '9호선', '의정부선', '경강선', '경의중앙선', '경춘선', '분당선', '수인선',\n",
       "       '서해선'], dtype=object)"
      ]
     },
     "execution_count": 192,
     "metadata": {},
     "output_type": "execute_result"
    }
   ],
   "source": [
    "merged_rail['노선명'].unique()"
   ]
  },
  {
   "cell_type": "code",
   "execution_count": 193,
   "metadata": {},
   "outputs": [],
   "source": [
    "merged_rail['location'] = tuple(zip(merged_rail['역위도'], merged_rail['역경도']))\n",
    "merged_rail['subway'] = merged_rail['노선명'] + ' ' + merged_rail['역사명']"
   ]
  },
  {
   "cell_type": "code",
   "execution_count": 194,
   "metadata": {},
   "outputs": [],
   "source": [
    "merged_rail.to_csv(\"subway.csv\", encoding='UTF-8', index=False)"
   ]
  },
  {
   "attachments": {},
   "cell_type": "markdown",
   "metadata": {},
   "source": [
    "### **수집한 데이터 오류 수정**\n",
    "\n",
    "* 청약 신도시 사업이 끝난 후 주소를 정상 발급된 지번(도로명)주소로 업데이트\n",
    "* 결측값 보완"
   ]
  },
  {
   "cell_type": "code",
   "execution_count": 195,
   "metadata": {},
   "outputs": [],
   "source": [
    "fixed = pd.read_csv(\"fixed_20230829.csv\")"
   ]
  },
  {
   "cell_type": "code",
   "execution_count": 196,
   "metadata": {},
   "outputs": [
    {
     "data": {
      "text/plain": [
       "Index(['아파트명', '법정동주소', '위도', '경도', '세대수', '임대세대수', '최고층', '최저층', '최대공급면적',\n",
       "       '최소공급면적', '총아파트동수', '용적률', '건폐율', '세대평균_주차대수', '공급면적', '전용면적', '전용율',\n",
       "       '방수', '욕실수', '현관구조', '입주예정연도', '공급액(만원)', '대형건설사'],\n",
       "      dtype='object')"
      ]
     },
     "execution_count": 196,
     "metadata": {},
     "output_type": "execute_result"
    }
   ],
   "source": [
    "fixed.columns"
   ]
  },
  {
   "cell_type": "markdown",
   "metadata": {},
   "source": [
    "지하철역"
   ]
  },
  {
   "cell_type": "code",
   "execution_count": 197,
   "metadata": {},
   "outputs": [
    {
     "data": {
      "text/html": [
       "<div>\n",
       "<style scoped>\n",
       "    .dataframe tbody tr th:only-of-type {\n",
       "        vertical-align: middle;\n",
       "    }\n",
       "\n",
       "    .dataframe tbody tr th {\n",
       "        vertical-align: top;\n",
       "    }\n",
       "\n",
       "    .dataframe thead th {\n",
       "        text-align: right;\n",
       "    }\n",
       "</style>\n",
       "<table border=\"1\" class=\"dataframe\">\n",
       "  <thead>\n",
       "    <tr style=\"text-align: right;\">\n",
       "      <th></th>\n",
       "      <th>역번호</th>\n",
       "      <th>역사명</th>\n",
       "      <th>노선번호</th>\n",
       "      <th>노선명</th>\n",
       "      <th>영문역사명</th>\n",
       "      <th>한자역사명</th>\n",
       "      <th>환승역구분</th>\n",
       "      <th>환승노선번호</th>\n",
       "      <th>환승노선명</th>\n",
       "      <th>역위도</th>\n",
       "      <th>역경도</th>\n",
       "      <th>운영기관명</th>\n",
       "      <th>역사도로명주소</th>\n",
       "      <th>역사전화번호</th>\n",
       "      <th>데이터기준일자</th>\n",
       "      <th>location</th>\n",
       "      <th>subway</th>\n",
       "    </tr>\n",
       "  </thead>\n",
       "  <tbody>\n",
       "    <tr>\n",
       "      <th>0</th>\n",
       "      <td>3110</td>\n",
       "      <td>계양역</td>\n",
       "      <td>S2801</td>\n",
       "      <td>인천지하철 1호선</td>\n",
       "      <td>Gyeyang</td>\n",
       "      <td>桂陽</td>\n",
       "      <td>환승역</td>\n",
       "      <td>S2801+I28A1</td>\n",
       "      <td>공항철도</td>\n",
       "      <td>37.571539</td>\n",
       "      <td>126.736319</td>\n",
       "      <td>인천교통공사</td>\n",
       "      <td>인천광역시 계양구 다남로 24</td>\n",
       "      <td>032-710-9105</td>\n",
       "      <td>2022-04-30 00:00:00</td>\n",
       "      <td>(37.571539, 126.736319)</td>\n",
       "      <td>인천지하철 1호선 계양역</td>\n",
       "    </tr>\n",
       "    <tr>\n",
       "      <th>2</th>\n",
       "      <td>3111</td>\n",
       "      <td>귤현역</td>\n",
       "      <td>S2801</td>\n",
       "      <td>인천지하철 1호선</td>\n",
       "      <td>Gyulhyeon</td>\n",
       "      <td>橘峴</td>\n",
       "      <td>일반역</td>\n",
       "      <td>-</td>\n",
       "      <td>-</td>\n",
       "      <td>37.566362</td>\n",
       "      <td>126.742498</td>\n",
       "      <td>인천교통공사</td>\n",
       "      <td>인천광역시 계양구 장제로 1136</td>\n",
       "      <td>032-515-9104</td>\n",
       "      <td>2022-04-30 00:00:00</td>\n",
       "      <td>(37.566362, 126.742498)</td>\n",
       "      <td>인천지하철 1호선 귤현역</td>\n",
       "    </tr>\n",
       "    <tr>\n",
       "      <th>3</th>\n",
       "      <td>3112</td>\n",
       "      <td>박촌역</td>\n",
       "      <td>S2801</td>\n",
       "      <td>인천지하철 1호선</td>\n",
       "      <td>Bakchon</td>\n",
       "      <td>朴村</td>\n",
       "      <td>일반역</td>\n",
       "      <td>-</td>\n",
       "      <td>-</td>\n",
       "      <td>37.553525</td>\n",
       "      <td>126.744946</td>\n",
       "      <td>인천교통공사</td>\n",
       "      <td>인천광역시 계양구 장제로 992</td>\n",
       "      <td>032-519-3122</td>\n",
       "      <td>2022-04-30 00:00:00</td>\n",
       "      <td>(37.553525, 126.744946)</td>\n",
       "      <td>인천지하철 1호선 박촌역</td>\n",
       "    </tr>\n",
       "    <tr>\n",
       "      <th>4</th>\n",
       "      <td>3113</td>\n",
       "      <td>임학역</td>\n",
       "      <td>S2801</td>\n",
       "      <td>인천지하철 1호선</td>\n",
       "      <td>Imhak</td>\n",
       "      <td>林鶴</td>\n",
       "      <td>일반역</td>\n",
       "      <td>-</td>\n",
       "      <td>-</td>\n",
       "      <td>37.545058</td>\n",
       "      <td>126.738642</td>\n",
       "      <td>인천교통공사</td>\n",
       "      <td>인천광역시 계양구 장제로 875</td>\n",
       "      <td>032-541-3113</td>\n",
       "      <td>2022-04-30 00:00:00</td>\n",
       "      <td>(37.545058, 126.738642)</td>\n",
       "      <td>인천지하철 1호선 임학역</td>\n",
       "    </tr>\n",
       "    <tr>\n",
       "      <th>5</th>\n",
       "      <td>3114</td>\n",
       "      <td>계산역</td>\n",
       "      <td>S2801</td>\n",
       "      <td>인천지하철 1호선</td>\n",
       "      <td>Gyesan</td>\n",
       "      <td>桂山</td>\n",
       "      <td>일반역</td>\n",
       "      <td>-</td>\n",
       "      <td>-</td>\n",
       "      <td>37.543243</td>\n",
       "      <td>126.728436</td>\n",
       "      <td>인천교통공사</td>\n",
       "      <td>인천광역시 계양구 경명대로 1089</td>\n",
       "      <td>032-546-3151</td>\n",
       "      <td>2022-04-30 00:00:00</td>\n",
       "      <td>(37.543243, 126.728436)</td>\n",
       "      <td>인천지하철 1호선 계산역</td>\n",
       "    </tr>\n",
       "  </tbody>\n",
       "</table>\n",
       "</div>"
      ],
      "text/plain": [
       "    역번호  역사명   노선번호        노선명      영문역사명 한자역사명 환승역구분       환승노선번호 환승노선명  \\\n",
       "0  3110  계양역  S2801  인천지하철 1호선    Gyeyang    桂陽   환승역  S2801+I28A1  공항철도   \n",
       "2  3111  귤현역  S2801  인천지하철 1호선  Gyulhyeon    橘峴   일반역            -     -   \n",
       "3  3112  박촌역  S2801  인천지하철 1호선    Bakchon    朴村   일반역            -     -   \n",
       "4  3113  임학역  S2801  인천지하철 1호선      Imhak    林鶴   일반역            -     -   \n",
       "5  3114  계산역  S2801  인천지하철 1호선     Gyesan    桂山   일반역            -     -   \n",
       "\n",
       "         역위도         역경도   운영기관명              역사도로명주소        역사전화번호  \\\n",
       "0  37.571539  126.736319  인천교통공사     인천광역시 계양구 다남로 24  032-710-9105   \n",
       "2  37.566362  126.742498  인천교통공사   인천광역시 계양구 장제로 1136  032-515-9104   \n",
       "3  37.553525  126.744946  인천교통공사    인천광역시 계양구 장제로 992  032-519-3122   \n",
       "4  37.545058  126.738642  인천교통공사    인천광역시 계양구 장제로 875  032-541-3113   \n",
       "5  37.543243  126.728436  인천교통공사  인천광역시 계양구 경명대로 1089  032-546-3151   \n",
       "\n",
       "               데이터기준일자                 location         subway  \n",
       "0  2022-04-30 00:00:00  (37.571539, 126.736319)  인천지하철 1호선 계양역  \n",
       "2  2022-04-30 00:00:00  (37.566362, 126.742498)  인천지하철 1호선 귤현역  \n",
       "3  2022-04-30 00:00:00  (37.553525, 126.744946)  인천지하철 1호선 박촌역  \n",
       "4  2022-04-30 00:00:00  (37.545058, 126.738642)  인천지하철 1호선 임학역  \n",
       "5  2022-04-30 00:00:00  (37.543243, 126.728436)  인천지하철 1호선 계산역  "
      ]
     },
     "execution_count": 197,
     "metadata": {},
     "output_type": "execute_result"
    }
   ],
   "source": [
    "merged_rail.head()"
   ]
  },
  {
   "cell_type": "code",
   "execution_count": 198,
   "metadata": {},
   "outputs": [],
   "source": [
    "fixed['location'] = tuple(zip(fixed['위도'], fixed['경도']))\n",
    "fixed_location = list(fixed['location'])\n",
    "\n",
    "subway_dict = dict(zip(merged_rail['subway'], merged_rail['location']))\n",
    "subway_location = list(subway_dict.values())\n",
    "to_subway = haversine_vector(subway_location, fixed_location, comb=True)\n",
    "\n",
    "close_subway = []\n",
    "close_distance = []\n",
    "for i in range(len(to_subway)):\n",
    "    subway_index = int(np.argmin(to_subway[i]))\n",
    "    closest_subway = list(subway_dict.keys())[subway_index]\n",
    "    closest_distance = to_subway[i][subway_index]\n",
    "    close_subway.append(closest_subway)\n",
    "    close_distance.append(closest_distance)\n",
    "    \n",
    "fixed.loc[:, '지하철역'] = close_subway\n",
    "fixed.loc[:, '지하철역_거리'] = close_distance\n",
    "fixed.loc[:, '지하철역_거리'] = fixed['지하철역_거리'].round(4)"
   ]
  },
  {
   "cell_type": "code",
   "execution_count": 199,
   "metadata": {},
   "outputs": [
    {
     "data": {
      "text/html": [
       "<div>\n",
       "<style scoped>\n",
       "    .dataframe tbody tr th:only-of-type {\n",
       "        vertical-align: middle;\n",
       "    }\n",
       "\n",
       "    .dataframe tbody tr th {\n",
       "        vertical-align: top;\n",
       "    }\n",
       "\n",
       "    .dataframe thead th {\n",
       "        text-align: right;\n",
       "    }\n",
       "</style>\n",
       "<table border=\"1\" class=\"dataframe\">\n",
       "  <thead>\n",
       "    <tr style=\"text-align: right;\">\n",
       "      <th></th>\n",
       "      <th>역사명</th>\n",
       "      <th>노선명_리스트</th>\n",
       "    </tr>\n",
       "  </thead>\n",
       "  <tbody>\n",
       "    <tr>\n",
       "      <th>0</th>\n",
       "      <td>419민주묘지역</td>\n",
       "      <td>[우이신설선]</td>\n",
       "    </tr>\n",
       "    <tr>\n",
       "      <th>1</th>\n",
       "      <td>가능역</td>\n",
       "      <td>[1호선]</td>\n",
       "    </tr>\n",
       "    <tr>\n",
       "      <th>2</th>\n",
       "      <td>가락시장역</td>\n",
       "      <td>[3호선, 8호선]</td>\n",
       "    </tr>\n",
       "    <tr>\n",
       "      <th>3</th>\n",
       "      <td>가산디지털단지역</td>\n",
       "      <td>[7호선, 1호선]</td>\n",
       "    </tr>\n",
       "    <tr>\n",
       "      <th>4</th>\n",
       "      <td>가양역</td>\n",
       "      <td>[9호선]</td>\n",
       "    </tr>\n",
       "    <tr>\n",
       "      <th>...</th>\n",
       "      <td>...</td>\n",
       "      <td>...</td>\n",
       "    </tr>\n",
       "    <tr>\n",
       "      <th>633</th>\n",
       "      <td>회현역</td>\n",
       "      <td>[4호선]</td>\n",
       "    </tr>\n",
       "    <tr>\n",
       "      <th>634</th>\n",
       "      <td>효자역</td>\n",
       "      <td>[의정부선]</td>\n",
       "    </tr>\n",
       "    <tr>\n",
       "      <th>635</th>\n",
       "      <td>효창공원앞역</td>\n",
       "      <td>[6호선, 경의중앙선]</td>\n",
       "    </tr>\n",
       "    <tr>\n",
       "      <th>636</th>\n",
       "      <td>흑석역</td>\n",
       "      <td>[9호선]</td>\n",
       "    </tr>\n",
       "    <tr>\n",
       "      <th>637</th>\n",
       "      <td>흥선역</td>\n",
       "      <td>[의정부선]</td>\n",
       "    </tr>\n",
       "  </tbody>\n",
       "</table>\n",
       "<p>638 rows × 2 columns</p>\n",
       "</div>"
      ],
      "text/plain": [
       "          역사명       노선명_리스트\n",
       "0    419민주묘지역       [우이신설선]\n",
       "1         가능역         [1호선]\n",
       "2       가락시장역    [3호선, 8호선]\n",
       "3    가산디지털단지역    [7호선, 1호선]\n",
       "4         가양역         [9호선]\n",
       "..        ...           ...\n",
       "633       회현역         [4호선]\n",
       "634       효자역        [의정부선]\n",
       "635    효창공원앞역  [6호선, 경의중앙선]\n",
       "636       흑석역         [9호선]\n",
       "637       흥선역        [의정부선]\n",
       "\n",
       "[638 rows x 2 columns]"
      ]
     },
     "execution_count": 199,
     "metadata": {},
     "output_type": "execute_result"
    }
   ],
   "source": [
    "rail_list = merged_rail[['역사명', '노선명']]\n",
    "grouped_rail = rail_list.groupby('역사명')['노선명'].apply(list).reset_index()\n",
    "grouped_rail.rename(columns={'노선명': '노선명_리스트'}, inplace=True)\n",
    "grouped_rail"
   ]
  },
  {
   "cell_type": "code",
   "execution_count": 200,
   "metadata": {},
   "outputs": [],
   "source": [
    "fixed['지하철역'] = fixed['지하철역'].apply(lambda x: x.split(\" \")[-1])\n",
    "apartment_rail = pd.merge(fixed, grouped_rail, left_on='지하철역', right_on='역사명', how='inner')"
   ]
  },
  {
   "cell_type": "markdown",
   "metadata": {},
   "source": [
    "### **3. 주변 의료기관 개수**\n",
    "\n",
    "병원과의 직선거리 \n",
    "* 1차 병원 1km \n",
    "* 2차 병원 2km \n",
    "* 3차 병원 3km"
   ]
  },
  {
   "cell_type": "code",
   "execution_count": 201,
   "metadata": {},
   "outputs": [],
   "source": [
    "hospital = pd.read_csv(\"hospital.csv\")\n",
    "hospital = hospital[hospital['location'] != '(0.0, 0.0)']\n",
    "hospital.loc[:, 'location'] = hospital['location'].apply(ast.literal_eval)"
   ]
  },
  {
   "cell_type": "code",
   "execution_count": 202,
   "metadata": {},
   "outputs": [],
   "source": [
    "hospital_location_1 = list(hospital[hospital['종별코드명'] == '1차']['location'].unique())\n",
    "hospital_location_2 = list(hospital[hospital['종별코드명'] == '2차']['location'].unique())\n",
    "hospital_location_3 = list(hospital[hospital['종별코드명'] == '3차']['location'].unique())"
   ]
  },
  {
   "cell_type": "code",
   "execution_count": 203,
   "metadata": {},
   "outputs": [],
   "source": [
    "# 1차 병원\n",
    "distance_to_hospitals = haversine_vector(hospital_location_1, fixed_location, comb=True)\n",
    "\n",
    "num_close_hospital_1 = []\n",
    "for distance in distance_to_hospitals:\n",
    "    number = np.sum(distance <= 1)\n",
    "    num_close_hospital_1.append(number)\n",
    "apartment_rail['1차병원'] = num_close_hospital_1\n",
    "\n",
    "# 2차 병원\n",
    "distance_to_hospitals = haversine_vector(hospital_location_2, fixed_location, comb=True)\n",
    "\n",
    "num_close_hospital_2 = []\n",
    "for distance in distance_to_hospitals:\n",
    "    number = np.sum(distance <= 2)\n",
    "    num_close_hospital_2.append(number)\n",
    "\n",
    "apartment_rail['2차병원'] = num_close_hospital_2\n",
    "\n",
    "# 3차 병원\n",
    "distance_to_hospitals = haversine_vector(hospital_location_3, fixed_location, comb=True)\n",
    "\n",
    "num_close_hospital_3 = []\n",
    "for distance in distance_to_hospitals:\n",
    "    number = np.sum(distance <= 3)\n",
    "    num_close_hospital_3.append(number)\n",
    "apartment_rail['3차병원'] = num_close_hospital_3"
   ]
  },
  {
   "attachments": {},
   "cell_type": "markdown",
   "metadata": {},
   "source": [
    "### **4. 주변 공원 개수**\n",
    "\n",
    "* 전국도시공원정보표준데이터: https://www.data.go.kr/data/15012890/standard.do"
   ]
  },
  {
   "cell_type": "code",
   "execution_count": 204,
   "metadata": {},
   "outputs": [],
   "source": [
    "park = pd.read_csv('park.csv', encoding='euc-kr')\n",
    "park_df = park[~park['공원구분'].isin(['묘지공원', '도시농업공원', '가로공원', '공공공지', '기타', '기타공원'])]\n",
    "park_df.loc[park_df['공원구분'] == '어린인공원', '공원구분'] = '어린이공원'\n",
    "park_df.loc[park_df['공원구분'] == '도시자연공원구역', '공원구분'] = '도시자연공원'\n",
    "park_df.loc[park_df['공원구분'] == '도시자연공원구역', '공원구분'] = '도시자연공원'\n",
    "park_df = park_df[park_df['제공기관명'].str.contains('서울|경기|인천')]\n",
    "park_df = park_df.dropna(subset=['위도', '경도'])\n",
    "park_df['location'] = tuple(zip(park_df['위도'], park_df['경도']))\n",
    "park_df = park_df[['공원명', 'location']]"
   ]
  },
  {
   "cell_type": "code",
   "execution_count": 205,
   "metadata": {},
   "outputs": [],
   "source": [
    "location = list(apartment_rail['location'])\n",
    "park_location = list(park_df['location'])\n",
    "\n",
    "distance_to_park = haversine_vector(park_location, location, comb=True)\n",
    "\n",
    "num_close_park = []\n",
    "for distance in distance_to_park:\n",
    "    number = np.sum(distance <= 1)\n",
    "    num_close_park.append(number)\n",
    "    \n",
    "apartment_rail['공원'] = num_close_park"
   ]
  },
  {
   "attachments": {},
   "cell_type": "markdown",
   "metadata": {},
   "source": [
    "### **5. 주변 대학 개수**\n",
    "교육부_전국대학교개황: https://www.data.go.kr/data/15100330/fileData.do"
   ]
  },
  {
   "cell_type": "code",
   "execution_count": 206,
   "metadata": {},
   "outputs": [],
   "source": [
    "university = pd.read_csv(\"university.csv\")\n",
    "university_df = university[university['학교구분'].isin(['대학', '전문대학'])]"
   ]
  },
  {
   "cell_type": "code",
   "execution_count": 207,
   "metadata": {},
   "outputs": [],
   "source": [
    "university['location'] = tuple(zip(university['Latitude'], university['Longitude']))\n",
    "university_location = list(university['location'])\n",
    "distance_to_univ = haversine_vector(university_location, location, comb=True)\n",
    "\n",
    "num_close_univ = []\n",
    "for distance in distance_to_univ:\n",
    "    number = np.sum(distance <= 1)\n",
    "    num_close_univ.append(number)\n",
    "    \n",
    "apartment_rail['대학'] = num_close_univ"
   ]
  },
  {
   "cell_type": "code",
   "execution_count": 208,
   "metadata": {},
   "outputs": [
    {
     "data": {
      "text/html": [
       "<div>\n",
       "<style scoped>\n",
       "    .dataframe tbody tr th:only-of-type {\n",
       "        vertical-align: middle;\n",
       "    }\n",
       "\n",
       "    .dataframe tbody tr th {\n",
       "        vertical-align: top;\n",
       "    }\n",
       "\n",
       "    .dataframe thead th {\n",
       "        text-align: right;\n",
       "    }\n",
       "</style>\n",
       "<table border=\"1\" class=\"dataframe\">\n",
       "  <thead>\n",
       "    <tr style=\"text-align: right;\">\n",
       "      <th></th>\n",
       "      <th>아파트명</th>\n",
       "      <th>법정동주소</th>\n",
       "      <th>위도</th>\n",
       "      <th>경도</th>\n",
       "      <th>세대수</th>\n",
       "      <th>임대세대수</th>\n",
       "      <th>최고층</th>\n",
       "      <th>최저층</th>\n",
       "      <th>최대공급면적</th>\n",
       "      <th>최소공급면적</th>\n",
       "      <th>...</th>\n",
       "      <th>location</th>\n",
       "      <th>지하철역</th>\n",
       "      <th>지하철역_거리</th>\n",
       "      <th>역사명</th>\n",
       "      <th>노선명_리스트</th>\n",
       "      <th>1차병원</th>\n",
       "      <th>2차병원</th>\n",
       "      <th>3차병원</th>\n",
       "      <th>공원</th>\n",
       "      <th>대학</th>\n",
       "    </tr>\n",
       "  </thead>\n",
       "  <tbody>\n",
       "  </tbody>\n",
       "</table>\n",
       "<p>0 rows × 33 columns</p>\n",
       "</div>"
      ],
      "text/plain": [
       "Empty DataFrame\n",
       "Columns: [아파트명, 법정동주소, 위도, 경도, 세대수, 임대세대수, 최고층, 최저층, 최대공급면적, 최소공급면적, 총아파트동수, 용적률, 건폐율, 세대평균_주차대수, 공급면적, 전용면적, 전용율, 방수, 욕실수, 현관구조, 입주예정연도, 공급액(만원), 대형건설사, location, 지하철역, 지하철역_거리, 역사명, 노선명_리스트, 1차병원, 2차병원, 3차병원, 공원, 대학]\n",
       "Index: []\n",
       "\n",
       "[0 rows x 33 columns]"
      ]
     },
     "execution_count": 208,
     "metadata": {},
     "output_type": "execute_result"
    }
   ],
   "source": [
    "apartment_rail[apartment_rail['공원'].isna() | apartment_rail['대학'].isna()]"
   ]
  },
  {
   "attachments": {},
   "cell_type": "markdown",
   "metadata": {},
   "source": [
    "### **6. 광역 / 기초 변수 추가 & 상권 변수 추가** "
   ]
  },
  {
   "cell_type": "code",
   "execution_count": 209,
   "metadata": {},
   "outputs": [
    {
     "data": {
      "text/plain": [
       "광역\n",
       "경기도      2044\n",
       "인천광역시     509\n",
       "서울특별시     439\n",
       "서울시       197\n",
       "인천시       131\n",
       "안양동         4\n",
       "광주시         3\n",
       "Name: count, dtype: int64"
      ]
     },
     "execution_count": 209,
     "metadata": {},
     "output_type": "execute_result"
    }
   ],
   "source": [
    "apartment_rail.loc[:, '법정동주소'] = apartment_rail['법정동주소'].str.replace(r\"\\t\", \"\", regex=True)\n",
    "apartment_rail['광역'] = apartment_rail['법정동주소'].apply(lambda x: x.split(\" \")[0])\n",
    "apartment_rail['광역'].value_counts()"
   ]
  },
  {
   "cell_type": "code",
   "execution_count": 210,
   "metadata": {},
   "outputs": [
    {
     "data": {
      "text/plain": [
       "광역\n",
       "경기    2051\n",
       "인천     640\n",
       "서울     636\n",
       "Name: count, dtype: int64"
      ]
     },
     "execution_count": 210,
     "metadata": {},
     "output_type": "execute_result"
    }
   ],
   "source": [
    "apartment_rail.loc[apartment_rail['광역'] == '안양동', '법정동주소'] = '경기도 안양시 만안구 안양동 전파로61번길 20'\n",
    "apartment_rail.loc[apartment_rail['광역'] == '광주시', '법정동주소'] = '경기도 광주시 탄벌동 532-2번지'\n",
    "\n",
    "apartment_rail['광역'] = apartment_rail['법정동주소'].apply(lambda x: x.split(\" \")[0])\n",
    "apartment_rail.loc[(apartment_rail['광역'] == '서울시') | (apartment_rail['광역'] == '서울특별시'), '광역'] = '서울'\n",
    "apartment_rail.loc[(apartment_rail['광역'] == '인천시') | (apartment_rail['광역'] == '인천광역시'), '광역'] = '인천'\n",
    "apartment_rail.loc[(apartment_rail['광역'] == '경기도'), '광역'] = '경기'\n",
    "\n",
    "apartment_rail['광역'].value_counts()"
   ]
  },
  {
   "cell_type": "code",
   "execution_count": 211,
   "metadata": {},
   "outputs": [
    {
     "data": {
      "text/plain": [
       "array(['강동구', '강남구', '성남시', '수원시', '광명시', '구로구', '연수구', '동대문구', '서초구',\n",
       "       '부평구', '안양시', '성북구', '의왕시', '서구', '평택시', '안성시', '용인시', '광주시', '중구',\n",
       "       '미추홀구', '남동구', '화성시', '이천시', '의정부시', '부천시', '파주시', '구리시', '강북구',\n",
       "       '계양구', '오산시', '도봉구', '남양주시', '고양시', '양주시', '시흥시', '과천시', '포천시',\n",
       "       '동작구', '용인처인구', '안산시', '강서구', '은평구', '강화군', '동구', '송파구', '노원구',\n",
       "       '가평군', '동두천시', '광진구', '중랑구', '종로구', '하남시', '양평군', '김포시', '영등포구',\n",
       "       '여주시', '관악구', '양천구', '고양덕양구', '연천군', '성동구', '서대문구', '군포시', '성남수정구',\n",
       "       '용산구', '금천구'], dtype=object)"
      ]
     },
     "execution_count": 211,
     "metadata": {},
     "output_type": "execute_result"
    }
   ],
   "source": [
    "apartment_rail['기초'] = apartment_rail['법정동주소'].apply(lambda x: x.split(\" \")[1])\n",
    "apartment_rail['기초'].unique()"
   ]
  },
  {
   "cell_type": "code",
   "execution_count": 212,
   "metadata": {},
   "outputs": [],
   "source": [
    "apartment_rail.loc[apartment_rail['기초'] == '용인처인구', '기초'] = '용인시'\n",
    "apartment_rail.loc[apartment_rail['기초'] == '성남수정구', '기초'] = '성남시'\n",
    "apartment_rail.loc[apartment_rail['기초'] == '고양덕양구', '기초'] = '고양시'"
   ]
  },
  {
   "cell_type": "code",
   "execution_count": 213,
   "metadata": {},
   "outputs": [
    {
     "data": {
      "text/plain": [
       "array(['강동구', '강남구', '성남시', '수원시', '광명시', '구로구', '연수구', '동대문구', '서초구',\n",
       "       '부평구', '안양시', '성북구', '의왕시', '서구', '평택시', '안성시', '용인시', '광주시', '중구',\n",
       "       '미추홀구', '남동구', '화성시', '이천시', '의정부시', '부천시', '파주시', '구리시', '강북구',\n",
       "       '계양구', '오산시', '도봉구', '남양주시', '고양시', '양주시', '시흥시', '과천시', '포천시',\n",
       "       '동작구', '안산시', '강서구', '은평구', '강화군', '동구', '송파구', '노원구', '가평군',\n",
       "       '동두천시', '광진구', '중랑구', '종로구', '하남시', '양평군', '김포시', '영등포구', '여주시',\n",
       "       '관악구', '양천구', '연천군', '성동구', '서대문구', '군포시', '용산구', '금천구'],\n",
       "      dtype=object)"
      ]
     },
     "execution_count": 213,
     "metadata": {},
     "output_type": "execute_result"
    }
   ],
   "source": [
    "apartment_rail['기초'].unique()"
   ]
  },
  {
   "attachments": {},
   "cell_type": "markdown",
   "metadata": {},
   "source": [
    "#### 상권_변수"
   ]
  },
  {
   "cell_type": "code",
   "execution_count": 214,
   "metadata": {},
   "outputs": [
    {
     "data": {
      "text/html": [
       "<div>\n",
       "<style scoped>\n",
       "    .dataframe tbody tr th:only-of-type {\n",
       "        vertical-align: middle;\n",
       "    }\n",
       "\n",
       "    .dataframe tbody tr th {\n",
       "        vertical-align: top;\n",
       "    }\n",
       "\n",
       "    .dataframe thead th {\n",
       "        text-align: right;\n",
       "    }\n",
       "</style>\n",
       "<table border=\"1\" class=\"dataframe\">\n",
       "  <thead>\n",
       "    <tr style=\"text-align: right;\">\n",
       "      <th></th>\n",
       "      <th>광역시도</th>\n",
       "      <th>시군구</th>\n",
       "      <th>소매</th>\n",
       "      <th>음식</th>\n",
       "      <th>교육</th>\n",
       "      <th>장례식장</th>\n",
       "      <th>보건의료</th>\n",
       "      <th>유원지오락</th>\n",
       "      <th>총인구수</th>\n",
       "    </tr>\n",
       "  </thead>\n",
       "  <tbody>\n",
       "    <tr>\n",
       "      <th>0</th>\n",
       "      <td>서울</td>\n",
       "      <td>종로구</td>\n",
       "      <td>9,208</td>\n",
       "      <td>6,184</td>\n",
       "      <td>975</td>\n",
       "      <td>11</td>\n",
       "      <td>198</td>\n",
       "      <td>246</td>\n",
       "      <td>141,223</td>\n",
       "    </tr>\n",
       "    <tr>\n",
       "      <th>1</th>\n",
       "      <td>서울</td>\n",
       "      <td>중구</td>\n",
       "      <td>12,053</td>\n",
       "      <td>5,521</td>\n",
       "      <td>587</td>\n",
       "      <td>18</td>\n",
       "      <td>253</td>\n",
       "      <td>204</td>\n",
       "      <td>120,317</td>\n",
       "    </tr>\n",
       "    <tr>\n",
       "      <th>2</th>\n",
       "      <td>서울</td>\n",
       "      <td>용산구</td>\n",
       "      <td>9,175</td>\n",
       "      <td>4,830</td>\n",
       "      <td>856</td>\n",
       "      <td>9</td>\n",
       "      <td>137</td>\n",
       "      <td>176</td>\n",
       "      <td>740</td>\n",
       "    </tr>\n",
       "    <tr>\n",
       "      <th>3</th>\n",
       "      <td>서울</td>\n",
       "      <td>성동구</td>\n",
       "      <td>9,516</td>\n",
       "      <td>4,310</td>\n",
       "      <td>1,034</td>\n",
       "      <td>7</td>\n",
       "      <td>171</td>\n",
       "      <td>276</td>\n",
       "      <td>280,707</td>\n",
       "    </tr>\n",
       "    <tr>\n",
       "      <th>4</th>\n",
       "      <td>서울</td>\n",
       "      <td>광진구</td>\n",
       "      <td>10,989</td>\n",
       "      <td>4,955</td>\n",
       "      <td>1,016</td>\n",
       "      <td>7</td>\n",
       "      <td>203</td>\n",
       "      <td>556</td>\n",
       "      <td>337,258</td>\n",
       "    </tr>\n",
       "  </tbody>\n",
       "</table>\n",
       "</div>"
      ],
      "text/plain": [
       "  광역시도  시군구      소매     음식     교육  장례식장 보건의료 유원지오락     총인구수\n",
       "0   서울  종로구   9,208  6,184    975    11  198   246  141,223\n",
       "1   서울   중구  12,053  5,521    587    18  253   204  120,317\n",
       "2   서울  용산구   9,175  4,830    856     9  137   176      740\n",
       "3   서울  성동구   9,516  4,310  1,034     7  171   276  280,707\n",
       "4   서울  광진구  10,989  4,955  1,016     7  203   556  337,258"
      ]
     },
     "execution_count": 214,
     "metadata": {},
     "output_type": "execute_result"
    }
   ],
   "source": [
    "area = pd.read_csv(\"상권_변수.csv\")\n",
    "area.head()"
   ]
  },
  {
   "cell_type": "code",
   "execution_count": 215,
   "metadata": {},
   "outputs": [],
   "source": [
    "merged = pd.merge(apartment_rail, area, left_on=['광역', '기초'], right_on=['광역시도', '시군구'], how='inner')"
   ]
  },
  {
   "cell_type": "code",
   "execution_count": 216,
   "metadata": {},
   "outputs": [],
   "source": [
    "merged = merged[['아파트명', '법정동주소', '위도', '경도', '세대수', '임대세대수', '최고층', '최저층', '최대공급면적',\n",
    "       '최소공급면적', '총아파트동수', '용적률', '건폐율', '세대평균_주차대수', '공급면적', '전용면적', '전용율',\n",
    "       '방수', '욕실수', '현관구조', '입주예정연도', '공급액(만원)', '대형건설사', '지하철역', '지하철역_거리', \n",
    "       '역사명', '노선명_리스트', '1차병원', '2차병원', '3차병원', '공원', '대학', '광역', '기초', \n",
    "       '소매', '음식', '교육', '장례식장', '보건의료', '유원지오락', '총인구수']]"
   ]
  },
  {
   "attachments": {},
   "cell_type": "markdown",
   "metadata": {},
   "source": [
    "##### 추가적인 전처리\n",
    "\n",
    "- 용적률과 건폐율이 바뀜\n",
    "- 세대평균 주차대수가 잘못된 값 수정"
   ]
  },
  {
   "cell_type": "code",
   "execution_count": 217,
   "metadata": {},
   "outputs": [
    {
     "data": {
      "text/html": [
       "<div>\n",
       "<style scoped>\n",
       "    .dataframe tbody tr th:only-of-type {\n",
       "        vertical-align: middle;\n",
       "    }\n",
       "\n",
       "    .dataframe tbody tr th {\n",
       "        vertical-align: top;\n",
       "    }\n",
       "\n",
       "    .dataframe thead th {\n",
       "        text-align: right;\n",
       "    }\n",
       "</style>\n",
       "<table border=\"1\" class=\"dataframe\">\n",
       "  <thead>\n",
       "    <tr style=\"text-align: right;\">\n",
       "      <th></th>\n",
       "      <th>아파트명</th>\n",
       "      <th>용적률</th>\n",
       "      <th>건폐율</th>\n",
       "    </tr>\n",
       "  </thead>\n",
       "  <tbody>\n",
       "    <tr>\n",
       "      <th>3017</th>\n",
       "      <td>가평 센트럴파크 더 스카이</td>\n",
       "      <td>482.0</td>\n",
       "      <td>66.0</td>\n",
       "    </tr>\n",
       "    <tr>\n",
       "      <th>3018</th>\n",
       "      <td>가평 센트럴파크 더 스카이</td>\n",
       "      <td>482.0</td>\n",
       "      <td>66.0</td>\n",
       "    </tr>\n",
       "    <tr>\n",
       "      <th>3019</th>\n",
       "      <td>가평 센트럴파크 더 스카이</td>\n",
       "      <td>482.0</td>\n",
       "      <td>66.0</td>\n",
       "    </tr>\n",
       "    <tr>\n",
       "      <th>3020</th>\n",
       "      <td>가평 센트럴파크 더 스카이</td>\n",
       "      <td>482.0</td>\n",
       "      <td>66.0</td>\n",
       "    </tr>\n",
       "    <tr>\n",
       "      <th>3021</th>\n",
       "      <td>가평 센트럴파크 더 스카이</td>\n",
       "      <td>482.0</td>\n",
       "      <td>66.0</td>\n",
       "    </tr>\n",
       "    <tr>\n",
       "      <th>3022</th>\n",
       "      <td>가평 센트럴파크 더 스카이</td>\n",
       "      <td>482.0</td>\n",
       "      <td>66.0</td>\n",
       "    </tr>\n",
       "    <tr>\n",
       "      <th>3023</th>\n",
       "      <td>가평 센트럴파크 더 스카이</td>\n",
       "      <td>482.0</td>\n",
       "      <td>66.0</td>\n",
       "    </tr>\n",
       "    <tr>\n",
       "      <th>3024</th>\n",
       "      <td>가평 센트럴파크 더 스카이</td>\n",
       "      <td>482.0</td>\n",
       "      <td>66.0</td>\n",
       "    </tr>\n",
       "  </tbody>\n",
       "</table>\n",
       "</div>"
      ],
      "text/plain": [
       "                아파트명    용적률   건폐율\n",
       "3017  가평 센트럴파크 더 스카이  482.0  66.0\n",
       "3018  가평 센트럴파크 더 스카이  482.0  66.0\n",
       "3019  가평 센트럴파크 더 스카이  482.0  66.0\n",
       "3020  가평 센트럴파크 더 스카이  482.0  66.0\n",
       "3021  가평 센트럴파크 더 스카이  482.0  66.0\n",
       "3022  가평 센트럴파크 더 스카이  482.0  66.0\n",
       "3023  가평 센트럴파크 더 스카이  482.0  66.0\n",
       "3024  가평 센트럴파크 더 스카이  482.0  66.0"
      ]
     },
     "execution_count": 217,
     "metadata": {},
     "output_type": "execute_result"
    }
   ],
   "source": [
    "merged.loc[merged['건폐율'] > 100, ['용적률','건폐율']] = merged.loc[merged['건폐율'] > 100, ['건폐율', '용적률']].values\n",
    "merged[merged['아파트명'] == '가평 센트럴파크 더 스카이'][['아파트명', '용적률', '건폐율']] "
   ]
  },
  {
   "cell_type": "code",
   "execution_count": 218,
   "metadata": {},
   "outputs": [
    {
     "data": {
      "text/html": [
       "<div>\n",
       "<style scoped>\n",
       "    .dataframe tbody tr th:only-of-type {\n",
       "        vertical-align: middle;\n",
       "    }\n",
       "\n",
       "    .dataframe tbody tr th {\n",
       "        vertical-align: top;\n",
       "    }\n",
       "\n",
       "    .dataframe thead th {\n",
       "        text-align: right;\n",
       "    }\n",
       "</style>\n",
       "<table border=\"1\" class=\"dataframe\">\n",
       "  <thead>\n",
       "    <tr style=\"text-align: right;\">\n",
       "      <th></th>\n",
       "      <th>아파트명</th>\n",
       "      <th>세대평균_주차대수</th>\n",
       "    </tr>\n",
       "  </thead>\n",
       "  <tbody>\n",
       "    <tr>\n",
       "      <th>92</th>\n",
       "      <td>고덕 아르테스 미소지움</td>\n",
       "      <td>3.3</td>\n",
       "    </tr>\n",
       "    <tr>\n",
       "      <th>93</th>\n",
       "      <td>고덕 아르테스 미소지움</td>\n",
       "      <td>3.3</td>\n",
       "    </tr>\n",
       "    <tr>\n",
       "      <th>94</th>\n",
       "      <td>고덕 아르테스 미소지움</td>\n",
       "      <td>3.3</td>\n",
       "    </tr>\n",
       "    <tr>\n",
       "      <th>786</th>\n",
       "      <td>안양 광신프로그레스 리버뷰</td>\n",
       "      <td>6.3</td>\n",
       "    </tr>\n",
       "    <tr>\n",
       "      <th>787</th>\n",
       "      <td>안양 광신프로그레스 리버뷰</td>\n",
       "      <td>6.3</td>\n",
       "    </tr>\n",
       "    <tr>\n",
       "      <th>788</th>\n",
       "      <td>안양 광신프로그레스 리버뷰</td>\n",
       "      <td>6.3</td>\n",
       "    </tr>\n",
       "    <tr>\n",
       "      <th>789</th>\n",
       "      <td>안양 광신프로그레스 리버뷰</td>\n",
       "      <td>6.3</td>\n",
       "    </tr>\n",
       "    <tr>\n",
       "      <th>790</th>\n",
       "      <td>평촌 트리지아</td>\n",
       "      <td>3.3</td>\n",
       "    </tr>\n",
       "    <tr>\n",
       "      <th>791</th>\n",
       "      <td>평촌 트리지아</td>\n",
       "      <td>3.3</td>\n",
       "    </tr>\n",
       "    <tr>\n",
       "      <th>792</th>\n",
       "      <td>평촌 트리지아</td>\n",
       "      <td>3.3</td>\n",
       "    </tr>\n",
       "    <tr>\n",
       "      <th>2602</th>\n",
       "      <td>대곡역 롯데캐슬 엘클라씨</td>\n",
       "      <td>4.0</td>\n",
       "    </tr>\n",
       "    <tr>\n",
       "      <th>2603</th>\n",
       "      <td>대곡역 롯데캐슬 엘클라씨</td>\n",
       "      <td>4.0</td>\n",
       "    </tr>\n",
       "    <tr>\n",
       "      <th>3049</th>\n",
       "      <td>자양 하늘채 베르</td>\n",
       "      <td>3.2</td>\n",
       "    </tr>\n",
       "    <tr>\n",
       "      <th>3050</th>\n",
       "      <td>자양 하늘채 베르</td>\n",
       "      <td>3.2</td>\n",
       "    </tr>\n",
       "  </tbody>\n",
       "</table>\n",
       "</div>"
      ],
      "text/plain": [
       "                아파트명  세대평균_주차대수\n",
       "92      고덕 아르테스 미소지움        3.3\n",
       "93      고덕 아르테스 미소지움        3.3\n",
       "94      고덕 아르테스 미소지움        3.3\n",
       "786   안양 광신프로그레스 리버뷰        6.3\n",
       "787   안양 광신프로그레스 리버뷰        6.3\n",
       "788   안양 광신프로그레스 리버뷰        6.3\n",
       "789   안양 광신프로그레스 리버뷰        6.3\n",
       "790          평촌 트리지아        3.3\n",
       "791          평촌 트리지아        3.3\n",
       "792          평촌 트리지아        3.3\n",
       "2602   대곡역 롯데캐슬 엘클라씨        4.0\n",
       "2603   대곡역 롯데캐슬 엘클라씨        4.0\n",
       "3049       자양 하늘채 베르        3.2\n",
       "3050       자양 하늘채 베르        3.2"
      ]
     },
     "execution_count": 218,
     "metadata": {},
     "output_type": "execute_result"
    }
   ],
   "source": [
    "merged[merged['세대평균_주차대수']>=3][['아파트명', '세대평균_주차대수']]"
   ]
  },
  {
   "cell_type": "code",
   "execution_count": 219,
   "metadata": {},
   "outputs": [],
   "source": [
    "merged.loc[merged['아파트명'] == '대곡역 롯데캐슬 엘클라씨', '세대평균_주차대수'] = 1.2\n",
    "merged.loc[merged['아파트명'] == '고덕 아르테스 미소지움', '세대평균_주차대수'] = 1.2\n",
    "merged.loc[merged['아파트명'] == '안양 광신프로그레스 리버뷰', '세대평균_주차대수'] = 1.17\n",
    "merged.loc[merged['아파트명'] == '평촌 트리지아', '세대평균_주차대수'] = 1.26\n",
    "merged.loc[merged['아파트명'] == '자양 하늘채 베르', '세대평균_주차대수'] = 0.98"
   ]
  },
  {
   "cell_type": "markdown",
   "metadata": {},
   "source": [
    "### **7. 투기과열지구 및 조정대상지역 & 분양가 상한제 적용지역 여부**\n",
    "\n",
    "* 2023년 1월 3일 기점 투기과열지구 및 조정대상지역 & 분양가 상한제 적용지역 변화\n",
    "* 따라서 2023년 1월부터 청약이 진행된 아파트의 경우 1월 3일 변경 후 기준 적용\n",
    "* 2022년까지 청약이 진행된 아파트의 경우 1월 3일 변경 전 기준 적용"
   ]
  },
  {
   "cell_type": "markdown",
   "metadata": {},
   "source": [
    "**2023년 1월 3일 변경 후 투기과열지구 및 조정대상지역 & 분양가 상한제 적용지역**\n",
    "* 서울특별시 송파구 / 강남구 / 서초구 / 용산구로 동일"
   ]
  },
  {
   "cell_type": "code",
   "execution_count": 220,
   "metadata": {},
   "outputs": [],
   "source": [
    "merged.loc[merged['기초'].isin(['송파구', '강남구', '서초구', '용산구']), '투기과열지구_after'] = 1\n",
    "merged.loc[~merged['기초'].isin(['송파구', '강남구', '서초구', '용산구']), '투기과열지구_after'] = 0\n",
    "merged.loc[merged['기초'].isin(['송파구', '강남구', '서초구', '용산구']), '분양가상한제_after'] = 1\n",
    "merged.loc[~merged['기초'].isin(['송파구', '강남구', '서초구', '용산구']),'분양가상한제_after'] = 0"
   ]
  },
  {
   "cell_type": "markdown",
   "metadata": {},
   "source": [
    "**2023년 1월 3일 변경 전 투기과열지구 및 조정대상지역**\n",
    "* 서울특별시 전체 구\n",
    "* 경기도 과천시 / 광명시 / 하남시 / 성남시(분당/수정구)\n",
    "* 2023년 이전 분양받은 아파트만 적용"
   ]
  },
  {
   "cell_type": "code",
   "execution_count": 221,
   "metadata": {},
   "outputs": [],
   "source": [
    "apartment_after_2023 = ['청계SKVIEW', '래미안라그란데', '수유시그니티', '롯데캐슬이스트폴', '강동중앙하이츠시티', '용산호반써밋에이디션', '둔촌현대수린나', '청량리롯데캐슬하이루체', \\\n",
    "                        '서울대벤처타운역푸르지오', 'DMC가재울아이파크', '새절역두산위브트레지움', '엘리프미아역2단지', '엘리프미아역1단지', '휘경자이디센시아', '센트레빌아스테리움시그니처', \\\n",
    "                        '영등포자이디그니티', '포레나인천학익', '인천용현경남아너스빌', '인천연희공원호반써밋파크에디션', '서희스타힐스스타디움센트럴씨티', '인천검단신도시AB19블럭호반써밋', \\\n",
    "                        '미추홀루브루숭의', '칸타빌더스위트', '왕길역금호어울림에듀그린', '검단신도시금강펜테리움3차센트럴파크', '송도역경남아너스빌', '더샵아르테', '진위역서희스타힐스더파크뷰', \\\n",
    "                        '효성해링턴플레이스목감역', '평택고덕국제신도시A-49블록호반써밋3차', '광명센트럴아이파크', '이천중리우미린트리쉐이드', '시흥롯데캐슬시그니처2블록', '시흥롯데캐슬시그니처1블록',\\\n",
    "                        '평택브레인시티대광로제비앙모아엘가', '이안평택안중역', 'e편한세상동탄파크아너스A56블럭','지제역반도체밸리제일풍경채2블록', '오산세교하우스토리더센트럴', '부천역청담더마크', \\\n",
    "                        '청광플러스원', '운정자이시그니처', '인덕원퍼스비엘', '시흥센트럴헤센', '중앙하이츠금광프리미엄아파트', '시화MTV푸르지오디오션', '광명자이더샵포레나', '해링턴플레이스다산파크', \\\n",
    "                        'e편한세상용인역플랫폼시티', '해링턴플레이스진사(2BL)', '해링턴플레이스진사(1BL)', '봉담중흥S-클래스센트럴에듀', '동탄신도시금강펜테리움6차센트럴파크(A59블럭)', '이안시그니처역곡', \\\n",
    "                        '동탄파크릭스A55BL', '파주운정신도시디에트르센트럴', '평택화양서희스타힐스센트럴파크', '고덕자이센트로', 'e편한세상동탄파크아너스A56블럭', '힐스테이트평택화양', \\\n",
    "                        '구리역롯데캐슬시그니처', '수원성중흥S-클래스', '회천2차대광로제비앙센트럴']\n",
    "merged['아파트명'] = merged['아파트명'].str.replace(' ', '')"
   ]
  },
  {
   "cell_type": "code",
   "execution_count": 222,
   "metadata": {},
   "outputs": [],
   "source": [
    "apartment_before_2023_set = set(list(merged['아파트명'].unique())) - set(apartment_after_2023)\n",
    "apartment_before_2023 = list(apartment_before_2023_set)"
   ]
  },
  {
   "cell_type": "code",
   "execution_count": 223,
   "metadata": {},
   "outputs": [],
   "source": [
    "merged.loc[(merged['아파트명'].isin(apartment_before_2023)) & (merged['광역'] == '서울'), '투기과열지구_before'] = 1\n",
    "merged.loc[(merged['아파트명'].isin(apartment_before_2023)) & (merged['기초'].isin(['과천시', '광명시', '하남시'])), '투기과열지구_before'] = 1\n",
    "merged.loc[(merged['아파트명'].isin(apartment_before_2023)) & (merged['기초'] == '성남시') & merged['법정동주소'].str.contains('분당|수정'), '투기과열지구_before'] = 1\n",
    "merged['투기과열지구_before'] = merged['투기과열지구_before'].fillna(0)"
   ]
  },
  {
   "cell_type": "code",
   "execution_count": 224,
   "metadata": {},
   "outputs": [
    {
     "data": {
      "text/plain": [
       "투기과열지구_before\n",
       "0.0    2665\n",
       "1.0     662\n",
       "Name: count, dtype: int64"
      ]
     },
     "execution_count": 224,
     "metadata": {},
     "output_type": "execute_result"
    }
   ],
   "source": [
    "merged['투기과열지구_before'].value_counts()"
   ]
  },
  {
   "cell_type": "markdown",
   "metadata": {},
   "source": [
    "**2023년 1월 3일 변경 전 분양가상한제 적용지역**\n",
    "* 서울특별시: 강남구, 서초구, 송파구, 강동구, 영등포구, 마포구, 성동구, 동작구, 양천구, 용산구, 중구, 광진구, 서대문구  \n",
    "    * 강서구(5개동)  : 방화동, 공항동, 마곡동, 등촌동, 화곡동   \n",
    "    * 노원구(4개동)  : 상계동, 중계동, 하계동, 월계동  \n",
    "    * 동대문구(8개동) : 제기동, 회기동, 이문동, 휘경동, 청량리동, 답십리동, 전농동, 용두동 \n",
    "    * 성북구(13개동) : 정릉동, 성북동, 동소문동(2/3가), 삼선동(1/2/3가), 보문동(1가), 안암동(3가), 동선동(4가), 돈암동, 길음동, 장위동    \n",
    "    * 은평구(7개동) : 갈현동, 불광동, 대조동, 역촌동, 신사동, 증산동, 수색동   \n",
    "* 경기도\n",
    "    * 과천시(5개동) : 별양동, 부림동, 원문동, 주암동, 중앙동  \n",
    "    * 하남시(4개동) : 창우동, 신장동, 덕풍동, 풍산동  \n",
    "    * 광명시(4개동) : 광명동, 소하동, 철산동', 하안동  "
   ]
  },
  {
   "cell_type": "code",
   "execution_count": 225,
   "metadata": {},
   "outputs": [],
   "source": [
    "merged.loc[(merged['아파트명'].isin(apartment_before_2023)) & (merged['광역'] == '서울') & (merged['기초'].isin(['강남구', '서초구', '송파구', '강동구', '영등포구', '마포구', '성동구', '동작구',\\\n",
    "                                                              '양천구', '용산구', '중구', '광진구', '서대문구'])), '분양가상한제_before'] = 1\n",
    "merged.loc[(merged['아파트명'].isin(apartment_before_2023)) & (merged['기초'] == '강서구') & (merged['법정동주소'].str.contains('방화|공항동|마곡|등촌|화곡')), '분양가상한제_before'] = 1\n",
    "merged.loc[(merged['아파트명'].isin(apartment_before_2023)) & (merged['기초'] == '노원구') & (merged['법정동주소'].str.contains('상계|중계|하계|월계')), '분양가상한제_before'] = 1\n",
    "merged.loc[(merged['아파트명'].isin(apartment_before_2023)) & (merged['기초'] == '동대문구') & (merged['법정동주소'].str.contains('제기|회귀|이문|휘경|청량리|답십리|전농|용두')), '분양가상한제_before'] = 1\n",
    "merged.loc[(merged['아파트명'].isin(apartment_before_2023)) & (merged['기초'] == '성북구') & (merged['법정동주소'].str.contains('정릉|성북|동소문|삼선|보문|안암|동선|돈암|길음|장위')), '분양가상한제_before'] = 1"
   ]
  },
  {
   "cell_type": "code",
   "execution_count": 226,
   "metadata": {},
   "outputs": [],
   "source": [
    "merged.loc[(merged['아파트명'].isin(apartment_before_2023)) & (merged['기초'] == '과천시') & (merged['법정동주소'].str.contains('별양|부림|원문|주암|중앙')), '분양가상한제_before'] = 1\n",
    "merged.loc[(merged['아파트명'].isin(apartment_before_2023)) & (merged['기초'] == '하남시') & (merged['법정동주소'].str.contains('창우|신장|덕풍|풍산')), '분양가상한제_before'] = 1\n",
    "merged.loc[(merged['아파트명'].isin(apartment_before_2023)) & (merged['기초'] == '광명시') & (merged['법정동주소'].str.contains('광명|소하|철산|하안')), '분양가상한제_before'] = 1"
   ]
  },
  {
   "cell_type": "code",
   "execution_count": 227,
   "metadata": {},
   "outputs": [
    {
     "data": {
      "text/plain": [
       "분양가상한제_before\n",
       "0.0    2987\n",
       "1.0     340\n",
       "Name: count, dtype: int64"
      ]
     },
     "execution_count": 227,
     "metadata": {},
     "output_type": "execute_result"
    }
   ],
   "source": [
    "merged['분양가상한제_before'] = merged['분양가상한제_before'].fillna(0)\n",
    "merged['분양가상한제_before'].value_counts()"
   ]
  },
  {
   "cell_type": "markdown",
   "metadata": {},
   "source": [
    "아래는 확인"
   ]
  },
  {
   "cell_type": "code",
   "execution_count": 228,
   "metadata": {},
   "outputs": [
    {
     "data": {
      "text/plain": [
       "[]"
      ]
     },
     "execution_count": 228,
     "metadata": {},
     "output_type": "execute_result"
    }
   ],
   "source": [
    "# 2023년 이전 투기과열지구였던 과천시/하남시/광명시/성남시(수정/분당) 아파트 중에 2023년 이후 분양 아파트에 속한 아파트가 있는지 확인\n",
    "apartments_matching_condition = merged[(merged['기초'].isin(['과천시', '광명시', '하남시', '성남시'])) & (merged['투기과열지구_before'] == 1)]['아파트명'].unique()\n",
    "non_matching_apartments = [apartment for apartment in apartments_matching_condition if apartment in apartment_after_2023]\n",
    "non_matching_apartments"
   ]
  },
  {
   "cell_type": "code",
   "execution_count": 229,
   "metadata": {},
   "outputs": [
    {
     "data": {
      "text/html": [
       "<div>\n",
       "<style scoped>\n",
       "    .dataframe tbody tr th:only-of-type {\n",
       "        vertical-align: middle;\n",
       "    }\n",
       "\n",
       "    .dataframe tbody tr th {\n",
       "        vertical-align: top;\n",
       "    }\n",
       "\n",
       "    .dataframe thead th {\n",
       "        text-align: right;\n",
       "    }\n",
       "</style>\n",
       "<table border=\"1\" class=\"dataframe\">\n",
       "  <thead>\n",
       "    <tr style=\"text-align: right;\">\n",
       "      <th></th>\n",
       "      <th>아파트명</th>\n",
       "      <th>법정동주소</th>\n",
       "    </tr>\n",
       "  </thead>\n",
       "  <tbody>\n",
       "    <tr>\n",
       "      <th>140</th>\n",
       "      <td>산성역자이푸르지오(성남)</td>\n",
       "      <td>경기도 성남시 수정구 신흥동 1132</td>\n",
       "    </tr>\n",
       "    <tr>\n",
       "      <th>165</th>\n",
       "      <td>위례자이더시티</td>\n",
       "      <td>경기도 성남시 수정구 창곡동 512</td>\n",
       "    </tr>\n",
       "    <tr>\n",
       "      <th>173</th>\n",
       "      <td>판교밸리자이1단지</td>\n",
       "      <td>경기도 성남수정구 고등동 582</td>\n",
       "    </tr>\n",
       "    <tr>\n",
       "      <th>174</th>\n",
       "      <td>판교밸리자이2단지</td>\n",
       "      <td>경기도 성남수정구 고등동 585</td>\n",
       "    </tr>\n",
       "    <tr>\n",
       "      <th>178</th>\n",
       "      <td>판교밸리자이3단지</td>\n",
       "      <td>경기도 성남수정구 고등동 601</td>\n",
       "    </tr>\n",
       "  </tbody>\n",
       "</table>\n",
       "</div>"
      ],
      "text/plain": [
       "              아파트명                 법정동주소\n",
       "140  산성역자이푸르지오(성남)  경기도 성남시 수정구 신흥동 1132\n",
       "165        위례자이더시티   경기도 성남시 수정구 창곡동 512\n",
       "173      판교밸리자이1단지     경기도 성남수정구 고등동 582\n",
       "174      판교밸리자이2단지     경기도 성남수정구 고등동 585\n",
       "178      판교밸리자이3단지     경기도 성남수정구 고등동 601"
      ]
     },
     "execution_count": 229,
     "metadata": {},
     "output_type": "execute_result"
    }
   ],
   "source": [
    "# 2023년 이전 투기과열지구였던 성남시 아파트 중 수정구 / 분당구가 아닌 아파트가 포함됐는지 주소 확인\n",
    "merged[(merged['기초'].isin(['성남시'])) & (merged['투기과열지구_before'] == 1)][['아파트명', '법정동주소']].drop_duplicates()"
   ]
  },
  {
   "cell_type": "code",
   "execution_count": 230,
   "metadata": {},
   "outputs": [
    {
     "data": {
      "text/plain": [
       "[]"
      ]
     },
     "execution_count": 230,
     "metadata": {},
     "output_type": "execute_result"
    }
   ],
   "source": [
    "# 2023년 이전 분양가상한제 적용을 받은 강서구/노원구/동대문구/성북구/은평구 아파트 중에 2023년 이후 분양 아파트에 속한 아파트가 있는지 확인\n",
    "apartments_matching_condition = merged[(merged['기초'].isin(['강서구', '노원구', '동대문구', '성북구', '은평구'])) & (merged['분양가상한제_before'] == 1)]['아파트명'].unique()\n",
    "non_matching_apartments = [apartment for apartment in apartments_matching_condition if apartment in apartment_after_2023]\n",
    "non_matching_apartments"
   ]
  },
  {
   "cell_type": "code",
   "execution_count": 231,
   "metadata": {},
   "outputs": [
    {
     "data": {
      "text/plain": [
       "[]"
      ]
     },
     "execution_count": 231,
     "metadata": {},
     "output_type": "execute_result"
    }
   ],
   "source": [
    "# 2023년 이전 분양가상한제 적용을 받은 광명시/하남시/과천시 아파트 중에 2023년 이후 분양 아파트에 속한 아파트가 있는지 확인\n",
    "apartments_matching_condition = merged.loc[(merged['기초'].isin(['광명시', '하남시', '과천시'])) & (merged['분양가상한제_before'] == 1), '법정동주소'].unique()\n",
    "non_matching_apartments = [apartment for apartment in apartments_matching_condition if apartment in apartment_after_2023]\n",
    "non_matching_apartments"
   ]
  },
  {
   "cell_type": "markdown",
   "metadata": {},
   "source": [
    "### **8. 타시군구 통근인구/시군구내 통근인구 변수 추가**"
   ]
  },
  {
   "cell_type": "code",
   "execution_count": 232,
   "metadata": {},
   "outputs": [],
   "source": [
    "commute = pd.read_csv(\"commute.csv\")"
   ]
  },
  {
   "cell_type": "code",
   "execution_count": 233,
   "metadata": {},
   "outputs": [],
   "source": [
    "merged = pd.merge(merged, commute, left_on=['광역', '기초'], right_on=['광역', '기초'], how='inner')"
   ]
  },
  {
   "cell_type": "markdown",
   "metadata": {},
   "source": [
    "### **9. 평당공급액 변수 추가**"
   ]
  },
  {
   "cell_type": "code",
   "execution_count": 234,
   "metadata": {},
   "outputs": [],
   "source": [
    "merged['평당_공급액'] = (merged['공급액(만원)'] / merged['공급면적']) * 3.3"
   ]
  },
  {
   "cell_type": "code",
   "execution_count": 235,
   "metadata": {},
   "outputs": [
    {
     "name": "stdout",
     "output_type": "stream",
     "text": [
      "<class 'pandas.core.frame.DataFrame'>\n",
      "RangeIndex: 3327 entries, 0 to 3326\n",
      "Data columns (total 49 columns):\n",
      " #   Column         Non-Null Count  Dtype  \n",
      "---  ------         --------------  -----  \n",
      " 0   아파트명           3327 non-null   object \n",
      " 1   법정동주소          3327 non-null   object \n",
      " 2   위도             3327 non-null   float64\n",
      " 3   경도             3327 non-null   float64\n",
      " 4   세대수            3327 non-null   int64  \n",
      " 5   임대세대수          3093 non-null   float64\n",
      " 6   최고층            3297 non-null   float64\n",
      " 7   최저층            3284 non-null   float64\n",
      " 8   최대공급면적         3327 non-null   float64\n",
      " 9   최소공급면적         3327 non-null   float64\n",
      " 10  총아파트동수         3303 non-null   float64\n",
      " 11  용적률            3327 non-null   float64\n",
      " 12  건폐율            3327 non-null   float64\n",
      " 13  세대평균_주차대수      3259 non-null   float64\n",
      " 14  공급면적           3327 non-null   float64\n",
      " 15  전용면적           3327 non-null   float64\n",
      " 16  전용율            3327 non-null   float64\n",
      " 17  방수             3245 non-null   float64\n",
      " 18  욕실수            3245 non-null   float64\n",
      " 19  현관구조           3133 non-null   object \n",
      " 20  입주예정연도         3327 non-null   int64  \n",
      " 21  공급액(만원)        3327 non-null   int64  \n",
      " 22  대형건설사          3327 non-null   bool   \n",
      " 23  지하철역           3327 non-null   object \n",
      " 24  지하철역_거리        3327 non-null   float64\n",
      " 25  역사명            3327 non-null   object \n",
      " 26  노선명_리스트        3327 non-null   object \n",
      " 27  1차병원           3327 non-null   int32  \n",
      " 28  2차병원           3327 non-null   int32  \n",
      " 29  3차병원           3327 non-null   int32  \n",
      " 30  공원             3327 non-null   int32  \n",
      " 31  대학             3327 non-null   int32  \n",
      " 32  광역             3327 non-null   object \n",
      " 33  기초             3327 non-null   object \n",
      " 34  소매             3327 non-null   object \n",
      " 35  음식             3327 non-null   object \n",
      " 36  교육             3327 non-null   object \n",
      " 37  장례식장           3327 non-null   int64  \n",
      " 38  보건의료           3327 non-null   object \n",
      " 39  유원지오락          3327 non-null   object \n",
      " 40  총인구수           3327 non-null   object \n",
      " 41  투기과열지구_after   3327 non-null   float64\n",
      " 42  분양가상한제_after   3327 non-null   float64\n",
      " 43  투기과열지구_before  3327 non-null   float64\n",
      " 44  분양가상한제_before  3327 non-null   float64\n",
      " 45  시군구내_통근통학      3327 non-null   object \n",
      " 46  타시군구_통근통학      3327 non-null   object \n",
      " 47  타시군구/시군구내      3327 non-null   float64\n",
      " 48  평당_공급액         3327 non-null   float64\n",
      "dtypes: bool(1), float64(23), int32(5), int64(4), object(16)\n",
      "memory usage: 1.2+ MB\n"
     ]
    }
   ],
   "source": [
    "merged.info()"
   ]
  },
  {
   "cell_type": "markdown",
   "metadata": {},
   "source": [
    "### **타입 변경**\n",
    "\n",
    "<object -> int>   \n",
    "소매 / 음식 / 교육 / 보건의료 / 유원지오락 / 총인구수 / 시군구내_통근통학 / 타시군구_통근통학"
   ]
  },
  {
   "cell_type": "code",
   "execution_count": 236,
   "metadata": {},
   "outputs": [],
   "source": [
    "columns_to_convert = ['소매', '음식', '교육', '보건의료', '유원지오락', '총인구수', '시군구내_통근통학', '타시군구_통근통학']\n",
    "merged[columns_to_convert] = merged[columns_to_convert].apply(lambda x: x.str.replace(\",\", \"\"))\n",
    "merged[columns_to_convert] = merged[columns_to_convert].astype(int)"
   ]
  },
  {
   "cell_type": "code",
   "execution_count": 237,
   "metadata": {},
   "outputs": [],
   "source": [
    "merged.to_csv(\"apartment_20230830.csv\", encoding='UTF-8', index=False)"
   ]
  }
 ],
 "metadata": {
  "kernelspec": {
   "display_name": "mlearning",
   "language": "python",
   "name": "python3"
  },
  "language_info": {
   "codemirror_mode": {
    "name": "ipython",
    "version": 3
   },
   "file_extension": ".py",
   "mimetype": "text/x-python",
   "name": "python",
   "nbconvert_exporter": "python",
   "pygments_lexer": "ipython3",
   "version": "3.8.15"
  },
  "orig_nbformat": 4
 },
 "nbformat": 4,
 "nbformat_minor": 2
}

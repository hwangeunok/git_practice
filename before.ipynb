{
 "cells": [
  {
   "attachments": {},
   "cell_type": "markdown",
   "metadata": {},
   "source": [
    "EXERCISE 01. 숫자 맞히기 게임  \n",
    "* guessing_game이라는 매개변수 없는 함수를 만들고   \n",
    "* 이 함수를 실행하면 0~100 사이의 숫자 중에서 랜덤한 숫자 하나를 뽑아   \n",
    "* 이어서 사용자에게 숫자를 맞혀보라며 숫자 입력 요구    \n",
    "* 사용자가 숫자를 입력할 때마다, 숫자에 따라 다음과 같은 결과 출력 : Too High / Too Low / Just Right  \n",
    "* 숫자를 맞혔다면 프로그램 종료 틀렸다면 다시 입력 요구  \n",
    "* 프로그램은 사용자가 숫자를 맞혔을 경우에만 종료\n"
   ]
  },
  {
   "cell_type": "code",
   "execution_count": 29,
   "metadata": {},
   "outputs": [
    {
     "name": "stdout",
     "output_type": "stream",
     "text": [
      "27 is Too Low\n",
      "45 is Too Low\n",
      "66 is Too Low\n",
      "80 is Too Low\n",
      "90 is Too Low\n",
      "Just Right! The answer is 99\n"
     ]
    }
   ],
   "source": [
    "import random\n",
    "def guessing_game():\n",
    "    wanted_number = random.randint(0, 100)\n",
    "    while True:\n",
    "        input_number = int(input('Guessing Number: '))\n",
    "        if wanted_number == input_number:\n",
    "            print(f\"Just Right! The answer is {input_number}\")\n",
    "            break\n",
    "        if input_number > wanted_number:\n",
    "            print(f\"{input_number} is Too High\")\n",
    "        elif input_number < wanted_number:\n",
    "            print(f\"{input_number} is Too Low\")\n",
    "    \n",
    "guessing_game()"
   ]
  },
  {
   "cell_type": "code",
   "execution_count": 89,
   "metadata": {},
   "outputs": [
    {
     "name": "stdout",
     "output_type": "stream",
     "text": [
      "43 is Too Low\n",
      "99 is Too High\n",
      "72\n",
      "Right\n"
     ]
    }
   ],
   "source": [
    "def guessing_number():\n",
    "    answer = random.randint(0,100)\n",
    "    guess = 0\n",
    "\n",
    "    while answer != guess:\n",
    "        guess = int(input())\n",
    "\n",
    "        if answer > guess: \n",
    "            print(f'{guess} is Too Low')\n",
    "        elif answer < guess:\n",
    "            print(f'{guess} is Too High')\n",
    "        else: \n",
    "            print('Right')\n",
    "            break\n",
    "        \n",
    "        \n",
    "guessing_number()  "
   ]
  },
  {
   "attachments": {},
   "cell_type": "markdown",
   "metadata": {},
   "source": [
    "* 프로그램을 수정해서 사용자가 숫자를 예측해볼 기회를 3번까지로 "
   ]
  },
  {
   "cell_type": "code",
   "execution_count": null,
   "metadata": {},
   "outputs": [],
   "source": [
    "number = random.randint(1, 100)\n",
    "print(f'Shhh, the number to be guessed is {number}')\n",
    "\n",
    "while True:\n",
    "    guess = int(input(\"Enter a guess: \"))   \n",
    "    \n",
    "    if guess == number:\n",
    "        print(f'You got it right!')\n",
    "        break\n",
    "        \n",
    "    elif guess < number:\n",
    "        print(f'{guess} is too low; try again')\n",
    "        \n",
    "    else:\n",
    "        print(f'{guess} is too high; try again')"
   ]
  },
  {
   "cell_type": "code",
   "execution_count": 30,
   "metadata": {},
   "outputs": [
    {
     "name": "stdout",
     "output_type": "stream",
     "text": [
      "Wrong, 27 is too low\n",
      "Wrong, 39 is too low\n",
      "Right\n"
     ]
    }
   ],
   "source": [
    "wanted_number = random.randint(1,100)\n",
    "\n",
    "while True: \n",
    "    input_number = int(input(\"Guessing Number: \"))\n",
    "    if wanted_number == input_number:\n",
    "        print('Right')\n",
    "        break\n",
    "    elif wanted_number > input_number:\n",
    "        print(f\"Wrong, {input_number} is too low\")\n",
    "    else:\n",
    "        print(f\"Wrong, {input_number} is too high\")"
   ]
  },
  {
   "cell_type": "code",
   "execution_count": 85,
   "metadata": {},
   "outputs": [
    {
     "name": "stdout",
     "output_type": "stream",
     "text": [
      "0\n",
      "1\n",
      "2\n"
     ]
    }
   ],
   "source": [
    "for i in range(10):\n",
    "    if i == 3:\n",
    "        break\n",
    "    \n",
    "    print(i)\n",
    "   "
   ]
  },
  {
   "cell_type": "code",
   "execution_count": 35,
   "metadata": {},
   "outputs": [],
   "source": [
    "def guessing_num():\n",
    "    wanted_number = random.randint(1,100)\n",
    "\n",
    "    while True: \n",
    "        input_number = int(input(\"Guessing Number: \"))\n",
    "        if wanted_number == input_number:\n",
    "            print('Right')\n",
    "            break\n",
    "        elif wanted_number > input_number:\n",
    "            print(f\"Wrong, {input_number} is too low\")\n",
    "        else:\n",
    "            print(f\"Wrong, {input_number} is too high\")    "
   ]
  },
  {
   "cell_type": "code",
   "execution_count": 36,
   "metadata": {},
   "outputs": [
    {
     "name": "stdout",
     "output_type": "stream",
     "text": [
      "Wrong, 27 is too low\n",
      "Wrong, 45 is too low\n",
      "Wrong, 68 is too high\n",
      "Wrong, 55 is too high\n",
      "Wrong, 55 is too high\n",
      "Wrong, 50 is too low\n",
      "Wrong, 45 is too low\n",
      "Right\n"
     ]
    }
   ],
   "source": [
    "guessing_num()"
   ]
  },
  {
   "cell_type": "code",
   "execution_count": 95,
   "metadata": {},
   "outputs": [],
   "source": [
    "def guessing_game_3(wanted_number = random.randint(1,100)):\n",
    "    i = 0\n",
    "    answer = False\n",
    "    while i < 3: \n",
    "        input_number = int(input(\"Guessing Number: \"))\n",
    "        if wanted_number == input_number:\n",
    "            print(f\"Right, The answer is {input_number}\")\n",
    "            answer = True\n",
    "            break\n",
    "        if input_number > wanted_number:\n",
    "            print(f\"{input_number} is Too High\")\n",
    "            i +=1\n",
    "        else:\n",
    "            print(f\"{input_number} is Too Low\")\n",
    "            i += 1\n",
    "            \n",
    "    if answer is False: \n",
    "        print(\"You Couldn't get the answer.\")"
   ]
  },
  {
   "cell_type": "code",
   "execution_count": 96,
   "metadata": {},
   "outputs": [
    {
     "name": "stdout",
     "output_type": "stream",
     "text": [
      "Right, The answer is 20\n"
     ]
    }
   ],
   "source": [
    "guessing_game_3(20)"
   ]
  },
  {
   "cell_type": "code",
   "execution_count": 91,
   "metadata": {},
   "outputs": [
    {
     "name": "stdout",
     "output_type": "stream",
     "text": [
      "high\n",
      "high\n",
      "high\n",
      "You couldn't get the answer\n"
     ]
    }
   ],
   "source": [
    "for i in range(3):\n",
    "    answer = False\n",
    "    wanted_number = random.randint(1, 100)\n",
    "    input_number = int(input())\n",
    "    if wanted_number == input_number:\n",
    "        print('right')\n",
    "        answer = True\n",
    "        break\n",
    "    elif input_number > wanted_number:\n",
    "        print('high')\n",
    "    else:\n",
    "        print('low')\n",
    "\n",
    "if answer is False:\n",
    "    print(\"You couldn't get the answer\")"
   ]
  },
  {
   "cell_type": "code",
   "execution_count": 41,
   "metadata": {},
   "outputs": [
    {
     "name": "stdout",
     "output_type": "stream",
     "text": [
      "13 is Too Low\n",
      "56 is Too High\n",
      "33 is Too High\n",
      "You Couldn't get the answer.\n"
     ]
    }
   ],
   "source": [
    "guessing_game_3()"
   ]
  },
  {
   "attachments": {},
   "cell_type": "markdown",
   "metadata": {},
   "source": [
    "EXERCISE 02. 숫자 더하기  \n",
    "* sum 함수와 비슷한 기능을 가진 mysum 함수 구현  \n",
    "* 다만 매개변수로 시퀀스 하나를 받지 않고, 여러 개의 숫자를 받을 수 있도록 구현"
   ]
  },
  {
   "cell_type": "code",
   "execution_count": 113,
   "metadata": {},
   "outputs": [],
   "source": [
    "def mysum(*numbers):\n",
    "    total = 0\n",
    "    for number in numbers:\n",
    "        total += number\n",
    "    print(total)\n"
   ]
  },
  {
   "cell_type": "code",
   "execution_count": 70,
   "metadata": {},
   "outputs": [
    {
     "name": "stdout",
     "output_type": "stream",
     "text": [
      "10\n"
     ]
    }
   ],
   "source": [
    "mysum(1,2,3,4)"
   ]
  },
  {
   "attachments": {},
   "cell_type": "markdown",
   "metadata": {},
   "source": [
    "total += number 의 의미가 total+number = total 인데 왜 아래는 틀려요\n",
    "순서 -> total = total + number 저장할 변수 = 저장할 값"
   ]
  },
  {
   "attachments": {},
   "cell_type": "markdown",
   "metadata": {},
   "source": [
    "EXERCISE 03 달린 시간 계산하기  \n",
    "* 함수 run_timing(): 10km를 뛰는 데 시간이 얼마나 걸렸는지, 아무것도 입력하지 않고 단순하게 엔터 키만 입력할 때까지 계속 묻는다. 사용자가 아무 것도 입력하지 않고 엔터 키만 입력하면, 10km를 달리는 데 걸린 평균 시간을 출력하고 프로그램을 종료한다.  \n",
    "* 모든 숫자 입력과 출력은 부동소수점(실수)으로 처리한다\n",
    "* 예를 들어 3개의 자료를 입력받아 결과를 출력하는 경우   \n",
    "* Enter 10 km run time: 15  \n",
    "* Enter 10 km run time: 20  \n",
    "* Enter 10 km run time: 10  \n",
    "* Enter 10 km run time: <Enter>  \n",
    "* Average of 15.0, over 3 runs  \n"
   ]
  },
  {
   "cell_type": "code",
   "execution_count": 14,
   "metadata": {},
   "outputs": [
    {
     "name": "stdout",
     "output_type": "stream",
     "text": [
      "Enter 10 km run time: 34.0\n",
      "Enter 10 km run time: 2.0\n",
      "Average of 18.0, over 2 runs\n"
     ]
    }
   ],
   "source": [
    "import pandas as pd\n",
    "\n",
    "total_runtime = []\n",
    "\n",
    "while True:\n",
    "    try:\n",
    "        run_time = float(input(\"Enter run time: \"))  # run_time을 try문 밖에 쓰면 오류\n",
    "        print(f\"Enter 10 km run time: {run_time}\")\n",
    "        total_runtime.append(run_time)\n",
    "\n",
    "    except ValueError:\n",
    "        break\n",
    "    \n",
    "print(\"Average of {0}, over {1} runs\" \\\n",
    "             .format(sum(total_runtime)/len(total_runtime), len(total_runtime)))\n",
    "        "
   ]
  },
  {
   "attachments": {},
   "cell_type": "markdown",
   "metadata": {},
   "source": [
    "EXERCISE 04 16진수 출력하기  \n",
    "* 함수 hex_output(): 16진수를 입력받고, 10진수로 변환해서 리턴하는 함수.  \n",
    "* 사용자가 50을 입력하면 이것을 16진수(0X50)으로 보고 10진수로 변환한 80을 리턴\n",
    "* 16진수는 hex함수로 간단히 구할 수 있음\n",
    "* 정수가 들어있는 문자열을 입력받고, 각각의 숫자를 10진수 숫자로 변경할 때 int  \n",
    "* int는 2개의 매개변수를 받는데 첫 번째 매개변수는 필수 매개변수이고, 정수로 변환할 문자열을 입력한다. 두 번째 매개변수는 옵션 매개변수로, 숫자의 진법을 입력한다. 이번 예제에서는 16진수로 변환해야 하므로, 두 번째 매개변수로 16을 전달"
   ]
  },
  {
   "cell_type": "code",
   "execution_count": null,
   "metadata": {},
   "outputs": [],
   "source": [
    "A5  -> 1010 0101  -> 128 + 32 + 4 + 1\n",
    "dict\n",
    "key   value\n",
    "  0     0000\n",
    "  1      0001\n",
    "  2      0010\n",
    "  3      0011\n",
    "  4      0100\n",
    "  5      0101\n",
    "  6      0110\n",
    "  7      0111\n",
    "  8      1000\n",
    "  9      1001\n",
    "  A      1010\n",
    "  B      1010\n",
    "  C      1100\n",
    "  D      1101\n",
    "  E       1110\n",
    "  F       1111\n",
    "\n",
    "\n",
    "50 string\n",
    "str[0] 5\n",
    "\n",
    "for i in input\n",
    "5 -> 0101\n",
    "0 -> 0000\n",
    "str += \n",
    "\n",
    "0101 0000\n",
    "for seq i in enumerate(reverse(var)):\n",
    "    i int \n",
    "    sum += i * 2 seq"
   ]
  },
  {
   "attachments": {},
   "cell_type": "markdown",
   "metadata": {},
   "source": [
    "EXERCISE 05 피그 라틴 단어 만들기\n",
    "* pig_latin이라는 함수 만들어 피그 라틴 규칙에 따라 피그 라틴 단어로 만들어 리턴\n",
    "* 피그 라틴의 규칙: 단어가 모음(a, e, i, o, u)으로 시작한다면 끝에 'way'를 추가. 단어가 자음으로 시작한다면 첫 글자를 마지막으로 옮긴 뒤에, 끝에 'ay' 추가. \n",
    "* 예를 들어 'air'는 'airway'가 되고, 'python'은 'ythonpay'가 된다"
   ]
  },
  {
   "cell_type": "code",
   "execution_count": 5,
   "metadata": {},
   "outputs": [],
   "source": [
    "def pig_latin():\n",
    "    word = input(\"Your Word: \")\n",
    "\n",
    "    if word[0] in ['a', 'e', 'i', 'o', 'u']:\n",
    "        word = word + 'way'\n",
    "        print(word)\n",
    "    else :\n",
    "        word = word[1:] + word[0] + 'way'\n",
    "        print(word)"
   ]
  },
  {
   "cell_type": "code",
   "execution_count": 9,
   "metadata": {},
   "outputs": [
    {
     "name": "stdout",
     "output_type": "stream",
     "text": [
      "ythonpay\n"
     ]
    }
   ],
   "source": [
    "# 해답\n",
    "def pig_latin(word):\n",
    "    if word[0] in 'aeiou':\n",
    "        return f'{word}way'\n",
    "    return f'{word[1:]}{word[0]}ay'\n",
    "\n",
    "print(pig_latin('python'))"
   ]
  },
  {
   "attachments": {},
   "cell_type": "markdown",
   "metadata": {},
   "source": [
    "EXERCISE 06 피그 라틴 문장 만들기\n",
    "\n",
    "* pl_sentence 함수: 여러 단어가 공백으로 구분된 영어 문장을 매개변수로 입력받아 피그 라틴 규칙에 맞게 변환"
   ]
  },
  {
   "cell_type": "code",
   "execution_count": 19,
   "metadata": {},
   "outputs": [],
   "source": [
    "s= 'this is a test translation'\n",
    "x= s.split(' ')"
   ]
  },
  {
   "cell_type": "code",
   "execution_count": 26,
   "metadata": {},
   "outputs": [
    {
     "name": "stdout",
     "output_type": "stream",
     "text": [
      "['histway', 'isway', 'away', 'esttway', 'ranslationtway']\n",
      "histway isway away esttway ranslationtway\n"
     ]
    }
   ],
   "source": [
    "c =[]\n",
    "\n",
    "for i in x:\n",
    "    if i[0] in 'aeiou':\n",
    "        c.append(i+'way')\n",
    "    else:\n",
    "        c.append(i[1:]+i[0]+'way')\n",
    "print(c)\n",
    "wanted = \" \".join(c)\n",
    "print(wanted)"
   ]
  },
  {
   "cell_type": "code",
   "execution_count": 35,
   "metadata": {},
   "outputs": [
    {
     "data": {
      "text/plain": [
       "'histway isway away esttway ranslationtway'"
      ]
     },
     "execution_count": 35,
     "metadata": {},
     "output_type": "execute_result"
    }
   ],
   "source": [
    "def pl_sentence(sentence):\n",
    "    words = sentence.split(\" \")\n",
    "    pig = []\n",
    "    \n",
    "    for word in words:\n",
    "        if word[0] in 'aeiou':\n",
    "            pig.append(word + 'way')\n",
    "        else:\n",
    "            pig.append(word[1:]+word[0]+'way')\n",
    "    \n",
    "    wanted = \" \".join(pig)\n",
    "    return wanted\n",
    "    \n",
    "pl_sentence(\"this is a test translation\")"
   ]
  },
  {
   "attachments": {},
   "cell_type": "markdown",
   "metadata": {},
   "source": [
    "EXERCISE 07 비밀 언어 우비두비 단어 만들기\n",
    "* ubbi_dubbi 함수: 매개변수로 단어를 입력받고, 이를 우비두비로 번역해서 리턴\n",
    "* 우비두비 단어 규칙: 모든 모음 앞에 ub를 붙인다 \n",
    "* 예를 들어 octopus 전달하면 uboctubopubus 리턴"
   ]
  },
  {
   "cell_type": "code",
   "execution_count": 39,
   "metadata": {},
   "outputs": [
    {
     "name": "stdout",
     "output_type": "stream",
     "text": [
      "uboctubopubus\n"
     ]
    }
   ],
   "source": [
    "word = 'octopus'\n",
    "list = []\n",
    "for w in word:\n",
    "    if w in 'aeiou':\n",
    "       list.append('ub'+w)\n",
    "    else:\n",
    "        list.append(w) \n",
    "print(\"\".join(list))"
   ]
  },
  {
   "cell_type": "code",
   "execution_count": 42,
   "metadata": {},
   "outputs": [
    {
     "data": {
      "text/plain": [
       "'uboctubopubus'"
      ]
     },
     "execution_count": 42,
     "metadata": {},
     "output_type": "execute_result"
    }
   ],
   "source": [
    "def ubbi_dubbi(word):\n",
    "    list = []\n",
    "    for w in word:\n",
    "        if w in 'aeiou':\n",
    "            list.append('ub'+w)\n",
    "        else:\n",
    "            list.append(w)\n",
    "    return \"\".join(list)\n",
    "\n",
    "ubbi_dubbi('octopus')"
   ]
  },
  {
   "attachments": {},
   "cell_type": "markdown",
   "metadata": {},
   "source": [
    "EXERCISE 08 문자열 정렬하기\n",
    "* strsort 함수: 매개변수로 받은 문자열의 모든 글자를 유니코드 순서로 정렬한 새로운 문자열을 만들어 리턴하는 함수\n",
    "* 예를 들어 strsort('cba')라고 입력하면 'abc' 리턴"
   ]
  },
  {
   "cell_type": "code",
   "execution_count": 46,
   "metadata": {},
   "outputs": [
    {
     "data": {
      "text/plain": [
       "'abc'"
      ]
     },
     "execution_count": 46,
     "metadata": {},
     "output_type": "execute_result"
    }
   ],
   "source": [
    "\"\".join(sorted('cba'))"
   ]
  },
  {
   "cell_type": "code",
   "execution_count": 49,
   "metadata": {},
   "outputs": [
    {
     "data": {
      "text/plain": [
       "'abc'"
      ]
     },
     "execution_count": 49,
     "metadata": {},
     "output_type": "execute_result"
    }
   ],
   "source": [
    "def strsort(word):\n",
    "    return \"\".join(sorted(word))\n",
    "\n",
    "strsort('cba')"
   ]
  },
  {
   "attachments": {},
   "cell_type": "markdown",
   "metadata": {},
   "source": [
    "EXERCISE 09 처음과 마지막 요소 찾기\n",
    "\n",
    "* firstlast 함수: 시퀀스(문자열, 리스트, 튜플)의 처음과 마지막 요소를 추출하고 둘을 결합해서 원래 자료형으로 리턴\n",
    "* 예를 들어 firstlast('abc')는 'ac'리턴, firstlast([1,2,3,4])는 [1,4]를 리턴"
   ]
  },
  {
   "cell_type": "code",
   "execution_count": 104,
   "metadata": {},
   "outputs": [
    {
     "name": "stdout",
     "output_type": "stream",
     "text": [
      "(10, 40)\n"
     ]
    }
   ],
   "source": [
    "b = (10,20,30,40)\n",
    "b = [*b]\n",
    "br = c[1:-1]\n",
    "\n",
    "for i in br:\n",
    "    b.remove(i)\n",
    "    w = tuple(b)\n",
    "print(w)\n"
   ]
  },
  {
   "cell_type": "code",
   "execution_count": 111,
   "metadata": {},
   "outputs": [
    {
     "data": {
      "text/plain": [
       "[10, 40]"
      ]
     },
     "execution_count": 111,
     "metadata": {},
     "output_type": "execute_result"
    }
   ],
   "source": [
    "def firstlast(sequence):\n",
    "    wanted = sequence[:1] + sequence[-1:]\n",
    "    return wanted\n",
    "\n",
    "firstlast('abc')\n",
    "firstlast(('a', 'b'))\n",
    "firstlast([10, 20, 30, 40])"
   ]
  },
  {
   "attachments": {},
   "cell_type": "markdown",
   "metadata": {},
   "source": [
    "EXERCISE 10. 아무것이나 더하기\n",
    "\n",
    "* mysum 함수를 기반으로, + 연산자를 갖고 있는 자료형(숫자, 문자열, 리스트, 튜플 등)을 매개변수로 받게 확장. 더해야 하는 매개변수는 같은 자료형으로 입력된다.\n",
    "* 예를 들어 mysum('abc', 'def')는 abcdef 라는 문자열, mysum([1,2,3],[4,5,6])이라는 리스트 리턴\n"
   ]
  },
  {
   "cell_type": "code",
   "execution_count": 123,
   "metadata": {},
   "outputs": [
    {
     "data": {
      "text/plain": [
       "(1, 2, 3, 4, 5, 6, 7, 8, 9)"
      ]
     },
     "execution_count": 123,
     "metadata": {},
     "output_type": "execute_result"
    }
   ],
   "source": [
    "'abc'+'def'\n",
    "[1,2,3]+[4,5,6]\n",
    "(1,2,3)+(4,5,6)+(7,8,9)"
   ]
  },
  {
   "cell_type": "code",
   "execution_count": 7,
   "metadata": {},
   "outputs": [],
   "source": [
    "def mysum(*smthng):\n",
    "    s = smthng[0]\n",
    "    for i in smthng[1:]:\n",
    "        s += i\n",
    "    print(s)"
   ]
  },
  {
   "cell_type": "code",
   "execution_count": 12,
   "metadata": {},
   "outputs": [
    {
     "name": "stdout",
     "output_type": "stream",
     "text": [
      "[1, 2, 3, 4, 5, 6]\n",
      "abcdef\n",
      "(1, 2, 3, 4, 5, 6, 7, 8, 9)\n"
     ]
    }
   ],
   "source": [
    "mysum([1,2,3], [4,5,6])\n",
    "mysum('abc', 'def')\n",
    "mysum((1,2,3), (4,5,6),(7,8,9))"
   ]
  },
  {
   "attachments": {},
   "cell_type": "markdown",
   "metadata": {},
   "source": [
    "EXERCISE 11 이름을 알파벳 순서로 정렬하기\n",
    "\n",
    "* alphabetize_names 함수: PEOPLE 리스트를 매개변수로 받고, 리스트 내부에 있는 딕셔너리의 last 속성을 기준으로 리스트를 정렬한 뒤 리턴. \n",
    "* last 속성이 같을 경우 first 속성으로 정렬"
   ]
  },
  {
   "cell_type": "code",
   "execution_count": 14,
   "metadata": {},
   "outputs": [],
   "source": [
    "PEOPLE = [{\n",
    "    'first': 'Reuven',    \n",
    "    'last': 'Lerner',  \n",
    "    'email': 'reuven@lerner.co.il'  \n",
    "}, {  \n",
    "    'first': 'Donald',  \n",
    "    'last': 'Trump',  \n",
    "    'email': 'president@whitehouse.gov'  \n",
    "}, {  \n",
    "    'first': 'Vladimir',  \n",
    "    'last': 'Putin',  \n",
    "    'email': 'president@kremvax.ru'  \n",
    "}]  "
   ]
  },
  {
   "attachments": {},
   "cell_type": "markdown",
   "metadata": {},
   "source": [
    "EXERCISE 12 특정 글자를 가장 많이 가진 단어 찾기\n",
    "* most_repeating_word 함수: 해당 단어에서 특정 글자를 가장 많이 포함된 문자열을 리턴\n",
    "* 즉, 각 단어에서 가장 많이 등장하는 글자의 수를 세고, 그 글자의 수가 가장 많은 단어를 리턴\n",
    "* 예를 들어 words = ['this', 'is', 'an', 'elementary', 'test', 'example'] 문자열 시퀀스에서 elementary 리턴   \n",
    "* (this, is, an 반복되는 글자 없고 elementary는 3가 3번, test는 t가 2번, example은 e가 2번이니까)\n",
    "* 반복되는 문자의 수가 같은 경우 둘 중 아무거나 하나 리턴\n",
    "* collections 모듈의 Counter 클래스 활용 & max함수의 key 키워드 매개변수 활용할 것"
   ]
  },
  {
   "attachments": {},
   "cell_type": "markdown",
   "metadata": {},
   "source": [
    "EXERCISE 13 튜플 레코드 출력\n",
    "* format_sort_records 함수: 튜플로 구성된 리스트를 읽어들이고, 테이블 형태의 문자열로 변환해서 출력\n",
    "* PEOPLE = [('Donald', 'Trump', 7.85), ('Vladimir', 'Putin', 3.626), ('Jinping', 'Xi', 10.603)]   \n",
    "* 가장 앞에 last name, first name, 도착 시간까지. 성과 이름을 기준으로 알파벳 순서로. \n",
    "* 각각의 이름은 10글자 필드에 출력되어야 하며 시간은 5글자 필드에 출력. 각각의 필드 사이에는 공백 문자 하나. 이동시간은 소수점 아래 둘째 자리"
   ]
  },
  {
   "cell_type": "markdown",
   "metadata": {},
   "source": [
    "#### 4장 딕셔너리와 세트"
   ]
  },
  {
   "attachments": {},
   "cell_type": "markdown",
   "metadata": {},
   "source": [
    "EXERCISE 14 식당 주문 프로그램 만들기   \n",
    "* 사용자가 메뉴에 있는 음식 이름을 입력하면 해당 음식의 가격과 지금까지의 합계 출력. 그리고 사용자에게 다시 입력 요쳥   \n",
    "* 사용자가 메뉴에 없는 음식 이름을 입력하면 사용자에게 입력이 잘못되었다고 알리고 사용자에게 다시 입력 요청\n",
    "* 사용자가 빈 문자열을 입력하면 지금까지의 합계를 출력하고 프로그램 종료"
   ]
  },
  {
   "attachments": {},
   "cell_type": "markdown",
   "metadata": {},
   "source": [
    "EXERCISE 15. 강수량 계산하기  \n",
    "* 여러 도시의 강수량을 추적하는 get_rainfall() 함수   \n",
    "* 도시를 입력받고 해당 도시의 강수량을 입력받기를 반복하다가 사용자가 아무것도 입력하지 않으면 보고서를 출력하고 프로그램을 종료"
   ]
  },
  {
   "cell_type": "code",
   "execution_count": 23,
   "metadata": {},
   "outputs": [
    {
     "name": "stdout",
     "output_type": "stream",
     "text": [
      "seoul: 90\n",
      "newyork: 10\n"
     ]
    }
   ],
   "source": [
    "def get_rainfall():\n",
    "    rainfall = {}\n",
    "    while True:\n",
    "        city = input(\"city: \")\n",
    "        if not city:\n",
    "            break\n",
    "        rain = int(input(\"rain: \"))\n",
    "        rainfall[city] = rainfall.get(city, 0) + rain\n",
    "\n",
    "    for city, rain in rainfall.items():\n",
    "        print(f\"{city}: {rain}\")\n",
    "\n",
    "get_rainfall()"
   ]
  },
  {
   "attachments": {},
   "cell_type": "markdown",
   "metadata": {},
   "source": [
    "조금 더 나아가기  \n",
    "* 도시의 강수량 합계만 출력하지 말고, 평균도 함께 출력"
   ]
  },
  {
   "cell_type": "code",
   "execution_count": 32,
   "metadata": {},
   "outputs": [
    {
     "name": "stdout",
     "output_type": "stream",
     "text": [
      "seoul total: 20, avg: 10.0\n",
      "newyork total: 10, avg: 10.0\n"
     ]
    }
   ],
   "source": [
    "rainfall = {}\n",
    "while True:\n",
    "    city = input(\"city: \")\n",
    "    if not city:\n",
    "        break\n",
    "    \n",
    "    rain = int(input(\"rain\"))\n",
    "    \n",
    "    if city not in rainfall.keys():\n",
    "        rainfall[city] = []\n",
    "        \n",
    "    rainfall[city].append(rain)\n",
    "    \n",
    "for city, rain in rainfall.items():\n",
    "    print(f\"{city} total: {sum(rain)}, avg: {sum(rain)/len(rain)}\")"
   ]
  },
  {
   "attachments": {},
   "cell_type": "markdown",
   "metadata": {},
   "source": [
    "~ "
   ]
  },
  {
   "attachments": {},
   "cell_type": "markdown",
   "metadata": {},
   "source": [
    "EXERCISE 16. 두 딕셔너리의 차이 찾기  \n",
    "* dictdiff(dict1, dict2) 함수: 두 딕셔너리에 차이가 있는 부분을 리턴 \n"
   ]
  },
  {
   "cell_type": "code",
   "execution_count": 4,
   "metadata": {},
   "outputs": [
    {
     "data": {
      "text/plain": [
       "{'d': [None, 4], 'c': [3, None]}"
      ]
     },
     "execution_count": 4,
     "metadata": {},
     "output_type": "execute_result"
    }
   ],
   "source": [
    "# 내가 푼 것\n",
    "first = {'a': 1, 'b': 2, 'c': 3, 'd': 4, 'e': 5}\n",
    "second = {'a': 1, 'b': 2, 'c': 3, 'd': 5, 'f': 7}\n",
    "\n",
    "def dictdiff(first, second):\n",
    "    output = {}\n",
    "    both = first.keys() | second.keys()\n",
    "    for idx in both:\n",
    "        try:\n",
    "            if first[idx] != second[idx]:\n",
    "                output[idx] = [first[idx], second[idx]]\n",
    "        except KeyError:\n",
    "            try: \n",
    "                output[idx] = [None, second[idx]]\n",
    "            except KeyError:\n",
    "                output[idx] = [first[idx], None]\n",
    "    return output\n",
    "\n",
    "d1 = {'a': 1, 'b': 2, 'c': 3}\n",
    "d2 = {'a': 1, 'b': 2, 'd': 4}\n",
    "dictdiff(d1, d2)"
   ]
  },
  {
   "cell_type": "code",
   "execution_count": 3,
   "metadata": {},
   "outputs": [
    {
     "data": {
      "text/plain": [
       "{'d': [None, 4], 'c': [3, None]}"
      ]
     },
     "execution_count": 3,
     "metadata": {},
     "output_type": "execute_result"
    }
   ],
   "source": [
    "# 해답\n",
    "\n",
    "def dictdiff(first, second):\n",
    "    output = {}\n",
    "    all_keys = first.keys() | second.keys()\n",
    "    \n",
    "    for key in all_keys:\n",
    "        if first.get(key) != second.get(key):\n",
    "            output[key] = [first.get(key), second.get(key)]\n",
    "    return output\n",
    "\n",
    "d1 = {'a': 1, 'b': 2, 'c': 3}\n",
    "d2 = {'a': 1, 'b': 2, 'd': 4}\n",
    "dictdiff(d1, d2)"
   ]
  },
  {
   "attachments": {},
   "cell_type": "markdown",
   "metadata": {},
   "source": [
    "조금 더 나아가기 1  \n",
    "* dict.update 메서드는 두 딕셔너리를 결합. 2개 이상의 딕셔너리를 매개변수로 받고, 이를 모두 결합해서 리턴하는 함수 \n",
    "* 만약 같은 키가 중복되는 경우에는 마지막에 결합한 딕셔너리의 값을 지정  "
   ]
  },
  {
   "cell_type": "code",
   "execution_count": 1,
   "metadata": {},
   "outputs": [
    {
     "name": "stdout",
     "output_type": "stream",
     "text": [
      "{'a': 3, 'b': 3, 'd': 3, 'c': 5, 'e': 7}\n"
     ]
    }
   ],
   "source": [
    "d3 = {'a': 1, 'b': 2, 'd': 3}\n",
    "d4 = {'a': 1, 'b': 2, 'c': 4}\n",
    "d5 = {'a': 2, 'b': 3, 'e': 5}\n",
    "d6 = {'a': 3, 'c': 5, 'e': 7}\n",
    "# d3.update(d4)\n",
    "# print(d3)\n",
    "# d3.update(d5)\n",
    "# print(d3)\n",
    "\n",
    "\n",
    "def variables(dict1, *dicts):\n",
    "    for dict in dicts:\n",
    "        dict1.update(dict)\n",
    "    print(dict1)\n",
    "           \n",
    "variables(d3, d4, d5, d6)"
   ]
  },
  {
   "attachments": {},
   "cell_type": "markdown",
   "metadata": {},
   "source": [
    "조금 더 나아가기 2  \n",
    "* 짝수 개의 매개변수를 입력받고, 이를 기반으로 딕셔너리를 만들어 리턴하는 함수  \n",
    "* 짝수 위치에 있는 매개변수가 딕셔너리의 키로, 홀수 위치에 있는 매개변수가 딕셔너리의 값으로  \n",
    "* 예를 들어 ('a', 1, 'b', 2)라는 형태로 호출했다면 {'a': 1, 'b': 2}를 리턴  "
   ]
  },
  {
   "cell_type": "code",
   "execution_count": 6,
   "metadata": {},
   "outputs": [
    {
     "data": {
      "text/plain": [
       "{'a': 1, 'b': 2}"
      ]
     },
     "execution_count": 6,
     "metadata": {},
     "output_type": "execute_result"
    }
   ],
   "source": [
    "def evenfunc(*args):\n",
    "    output = {}\n",
    "    for i in range(0, len(args), 2):\n",
    "        output[args[i]] = args[i+1]\n",
    "    return output\n",
    "\n",
    "evenfunc('a', 1, 'b', 2)"
   ]
  },
  {
   "attachments": {},
   "cell_type": "markdown",
   "metadata": {},
   "source": [
    "EXERCISE 17 서로 다른 숫자의 개수 찾기\n",
    "* 매개변수로 정수 리스트 하나를 받고, 그 안에 있는 서로 다른 숫자의 개수를 출력하는 how_many_different_numbers 함수\n",
    "* 세트는 딕셔너리의 키처럼 요소의 유일성을 보장한다"
   ]
  },
  {
   "cell_type": "code",
   "execution_count": 19,
   "metadata": {},
   "outputs": [
    {
     "data": {
      "text/plain": [
       "4"
      ]
     },
     "execution_count": 19,
     "metadata": {},
     "output_type": "execute_result"
    }
   ],
   "source": [
    "def how_many_different_numbers(ints):\n",
    "    return len(set(ints))    \n",
    "\n",
    "numbers = [1, 2, 3, 1, 2, 3, 4, 1]\n",
    "how_many_different_numbers(numbers)"
   ]
  },
  {
   "cell_type": "markdown",
   "metadata": {},
   "source": [
    "#### 6장 함수"
   ]
  },
  {
   "cell_type": "markdown",
   "metadata": {},
   "source": [
    "EXERCISE 25 XML 생성기 만들기  \n",
    "* 간단한 XML 문자열 출력을 만들어내는 myxml 함수 작성\n",
    "* myxml('foo') -> <foo></foo>  \n",
    "* myxml('foo', 'bar') -> <foo>bar</foo>  \n",
    "* myxml('foo', 'bar', a=1, b=2, c=2) -> <foo a='1', b='2', c='3'>bar</foo>"
   ]
  },
  {
   "cell_type": "code",
   "execution_count": 5,
   "metadata": {},
   "outputs": [
    {
     "name": "stdout",
     "output_type": "stream",
     "text": [
      "<foo>, </foo>\n"
     ]
    }
   ],
   "source": [
    "def myxml(tagname):\n",
    "    print(f\"<{tagname}>, </{tagname}>\")\n",
    "    \n",
    "myxml('foo')"
   ]
  },
  {
   "cell_type": "code",
   "execution_count": null,
   "metadata": {},
   "outputs": [],
   "source": [
    "def myxml(tagname, content='', **kwargs): \n",
    "    attrs = ''.join(f'[{key} = \"{value}\"]')"
   ]
  },
  {
   "cell_type": "markdown",
   "metadata": {},
   "source": [
    "EXERCISE 26 전위 표기법 계산기 만들기"
   ]
  },
  {
   "cell_type": "markdown",
   "metadata": {},
   "source": [
    "EXERCISE 27 비밀번호 생성기 만들기"
   ]
  },
  {
   "cell_type": "markdown",
   "metadata": {},
   "source": [
    "#### 7장 함수형 프로그래밍"
   ]
  }
 ],
 "metadata": {
  "kernelspec": {
   "display_name": "base",
   "language": "python",
   "name": "python3"
  },
  "language_info": {
   "codemirror_mode": {
    "name": "ipython",
    "version": 3
   },
   "file_extension": ".py",
   "mimetype": "text/x-python",
   "name": "python",
   "nbconvert_exporter": "python",
   "pygments_lexer": "ipython3",
   "version": "3.10.10"
  },
  "orig_nbformat": 4
 },
 "nbformat": 4,
 "nbformat_minor": 2
}

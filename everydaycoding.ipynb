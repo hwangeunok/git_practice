{
 "cells": [
  {
   "attachments": {},
   "cell_type": "markdown",
   "metadata": {},
   "source": [
    "EXERCISE 01. 숫자 맞히기 게임  \n",
    "* guessing_game이라는 매개변수 없는 함수를 만들고   \n",
    "* 이 함수를 실행하면 0~100 사이의 숫자 중에서 랜덤한 숫자 하나를 뽑아   \n",
    "* 이어서 사용자에게 숫자를 맞혀보라며 숫자 입력 요구    \n",
    "* 사용자가 숫자를 입력할 때마다, 숫자에 따라 다음과 같은 결과 출력 : Too High / Too Low / Just Right  \n",
    "* 숫자를 맞혔다면 프로그램 종료 틀렸다면 다시 입력 요구  \n",
    "* 프로그램은 사용자가 숫자를 맞혔을 경우에만 종료\n"
   ]
  },
  {
   "cell_type": "code",
   "execution_count": 1,
   "metadata": {},
   "outputs": [
    {
     "name": "stdout",
     "output_type": "stream",
     "text": [
      "28 is Too High\n",
      "15 is Too Low\n",
      "20 is Too Low\n",
      "25 is Too High\n",
      "23 is Too High\n",
      "22 is Too High\n",
      "Just Right! The answer is 21\n"
     ]
    }
   ],
   "source": [
    "import random\n",
    "def guessing_game():\n",
    "    wanted_number = random.randint(0, 100)\n",
    "    while True:\n",
    "        input_number = int(input('Guessing Number: '))\n",
    "        if wanted_number == input_number:\n",
    "            print(f\"Just Right! The answer is {input_number}\")\n",
    "            break\n",
    "        if input_number > wanted_number:\n",
    "            print(f\"{input_number} is Too High\")\n",
    "        elif input_number < wanted_number:\n",
    "            print(f\"{input_number} is Too Low\")\n",
    "    \n",
    "guessing_game()"
   ]
  },
  {
   "cell_type": "code",
   "execution_count": 3,
   "metadata": {},
   "outputs": [
    {
     "name": "stdout",
     "output_type": "stream",
     "text": [
      "27 is Too Low\n",
      "55 is Too High\n",
      "40 is Too Low\n",
      "34 is Too Low\n",
      "48 is Too High\n",
      "45 is Too High\n",
      "Right\n"
     ]
    }
   ],
   "source": [
    "def guessing_number():\n",
    "    answer = random.randint(0,100)\n",
    "    guess = 0\n",
    "\n",
    "    while answer != guess:\n",
    "        guess = int(input())\n",
    "\n",
    "        if answer > guess: \n",
    "            print(f'{guess} is Too Low')\n",
    "        elif answer < guess:\n",
    "            print(f'{guess} is Too High')\n",
    "        else: \n",
    "            print('Right')\n",
    "            break\n",
    "        \n",
    "        \n",
    "guessing_number()  "
   ]
  },
  {
   "attachments": {},
   "cell_type": "markdown",
   "metadata": {},
   "source": [
    "* 프로그램을 수정해서 사용자가 숫자를 예측해볼 기회를 3번까지로 "
   ]
  },
  {
   "cell_type": "code",
   "execution_count": null,
   "metadata": {},
   "outputs": [],
   "source": [
    "number = random.randint(1, 100)\n",
    "print(f'Shhh, the number to be guessed is {number}')\n",
    "\n",
    "while True:\n",
    "    guess = int(input(\"Enter a guess: \"))   \n",
    "    \n",
    "    if guess == number:\n",
    "        print(f'You got it right!')\n",
    "        break\n",
    "        \n",
    "    elif guess < number:\n",
    "        print(f'{guess} is too low; try again')\n",
    "        \n",
    "    else:\n",
    "        print(f'{guess} is too high; try again')"
   ]
  },
  {
   "cell_type": "code",
   "execution_count": null,
   "metadata": {},
   "outputs": [
    {
     "name": "stdout",
     "output_type": "stream",
     "text": [
      "Wrong, 27 is too low\n",
      "Wrong, 39 is too low\n",
      "Right\n"
     ]
    }
   ],
   "source": [
    "wanted_number = random.randint(1,100)\n",
    "\n",
    "while True: \n",
    "    input_number = int(input(\"Guessing Number: \"))\n",
    "    if wanted_number == input_number:\n",
    "        print('Right')\n",
    "        break\n",
    "    elif wanted_number > input_number:\n",
    "        print(f\"Wrong, {input_number} is too low\")\n",
    "    else:\n",
    "        print(f\"Wrong, {input_number} is too high\")"
   ]
  },
  {
   "cell_type": "code",
   "execution_count": null,
   "metadata": {},
   "outputs": [
    {
     "name": "stdout",
     "output_type": "stream",
     "text": [
      "0\n",
      "1\n",
      "2\n"
     ]
    }
   ],
   "source": [
    "for i in range(10):\n",
    "    if i == 3:\n",
    "        break\n",
    "    \n",
    "    print(i)"
   ]
  },
  {
   "cell_type": "code",
   "execution_count": null,
   "metadata": {},
   "outputs": [],
   "source": [
    "def guessing_num():\n",
    "    wanted_number = random.randint(1,100)\n",
    "\n",
    "    while True: \n",
    "        input_number = int(input(\"Guessing Number: \"))\n",
    "        if wanted_number == input_number:\n",
    "            print('Right')\n",
    "            break\n",
    "        elif wanted_number > input_number:\n",
    "            print(f\"Wrong, {input_number} is too low\")\n",
    "        else:\n",
    "            print(f\"Wrong, {input_number} is too high\")    "
   ]
  },
  {
   "cell_type": "code",
   "execution_count": null,
   "metadata": {},
   "outputs": [
    {
     "name": "stdout",
     "output_type": "stream",
     "text": [
      "Wrong, 27 is too low\n",
      "Wrong, 45 is too low\n",
      "Wrong, 68 is too high\n",
      "Wrong, 55 is too high\n",
      "Wrong, 55 is too high\n",
      "Wrong, 50 is too low\n",
      "Wrong, 45 is too low\n",
      "Right\n"
     ]
    }
   ],
   "source": [
    "guessing_num()"
   ]
  },
  {
   "cell_type": "code",
   "execution_count": null,
   "metadata": {},
   "outputs": [],
   "source": [
    "def guessing_game_3(wanted_number = random.randint(1,100)):\n",
    "    i = 0\n",
    "    answer = False\n",
    "    while i < 3: \n",
    "        input_number = int(input(\"Guessing Number: \"))\n",
    "        if wanted_number == input_number:\n",
    "            print(f\"Right, The answer is {input_number}\")\n",
    "            answer = True\n",
    "            break\n",
    "        if input_number > wanted_number:\n",
    "            print(f\"{input_number} is Too High\")\n",
    "            i +=1\n",
    "        else:\n",
    "            print(f\"{input_number} is Too Low\")\n",
    "            i += 1\n",
    "            \n",
    "    if answer is False: \n",
    "        print(\"You Couldn't get the answer.\")"
   ]
  },
  {
   "cell_type": "code",
   "execution_count": null,
   "metadata": {},
   "outputs": [
    {
     "name": "stdout",
     "output_type": "stream",
     "text": [
      "Right, The answer is 20\n"
     ]
    }
   ],
   "source": [
    "guessing_game_3(20)"
   ]
  },
  {
   "cell_type": "code",
   "execution_count": null,
   "metadata": {},
   "outputs": [
    {
     "name": "stdout",
     "output_type": "stream",
     "text": [
      "high\n",
      "high\n",
      "high\n",
      "You couldn't get the answer\n"
     ]
    }
   ],
   "source": [
    "for i in range(3):\n",
    "    answer = False\n",
    "    wanted_number = random.randint(1, 100)\n",
    "    input_number = int(input())\n",
    "    if wanted_number == input_number:\n",
    "        print('right')\n",
    "        answer = True\n",
    "        break\n",
    "    elif input_number > wanted_number:\n",
    "        print('high')\n",
    "    else:\n",
    "        print('low')\n",
    "\n",
    "if answer is False:\n",
    "    print(\"You couldn't get the answer\")"
   ]
  },
  {
   "cell_type": "code",
   "execution_count": null,
   "metadata": {},
   "outputs": [
    {
     "name": "stdout",
     "output_type": "stream",
     "text": [
      "13 is Too Low\n",
      "56 is Too High\n",
      "33 is Too High\n",
      "You Couldn't get the answer.\n"
     ]
    }
   ],
   "source": [
    "guessing_game_3()"
   ]
  },
  {
   "attachments": {},
   "cell_type": "markdown",
   "metadata": {},
   "source": [
    "EXERCISE 02. 숫자 더하기  \n",
    "* sum 함수와 비슷한 기능을 가진 mysum 함수 구현  \n",
    "* 다만 매개변수로 시퀀스 하나를 받지 않고, 여러 개의 숫자를 받을 수 있도록 구현"
   ]
  },
  {
   "cell_type": "code",
   "execution_count": null,
   "metadata": {},
   "outputs": [],
   "source": [
    "def mysum(*numbers):\n",
    "    total = 0\n",
    "    for number in numbers:\n",
    "        total += number\n",
    "    print(total)"
   ]
  },
  {
   "cell_type": "code",
   "execution_count": null,
   "metadata": {},
   "outputs": [
    {
     "name": "stdout",
     "output_type": "stream",
     "text": [
      "10\n"
     ]
    }
   ],
   "source": [
    "mysum(1,2,3,4)"
   ]
  },
  {
   "attachments": {},
   "cell_type": "markdown",
   "metadata": {},
   "source": [
    "total += number 의 의미가 total+number = total 인데 왜 아래는 틀려요\n",
    "순서 -> total = total + number 저장할 변수 = 저장할 값"
   ]
  },
  {
   "attachments": {},
   "cell_type": "markdown",
   "metadata": {},
   "source": [
    "EXERCISE 03 달린 시간 계산하기  \n",
    "* 함수 run_timing(): 10km를 뛰는 데 시간이 얼마나 걸렸는지, 아무것도 입력하지 않고 단순하게 엔터 키만 입력할 때까지 계속 묻는다. 사용자가 아무 것도 입력하지 않고 엔터 키만 입력하면, 10km를 달리는 데 걸린 평균 시간을 출력하고 프로그램을 종료한다.  \n",
    "* 모든 숫자 입력과 출력은 부동소수점(실수)으로 처리한다\n",
    "* 예를 들어 3개의 자료를 입력받아 결과를 출력하는 경우   \n",
    "* Enter 10 km run time: 15  \n",
    "* Enter 10 km run time: 20  \n",
    "* Enter 10 km run time: 10  \n",
    "* Enter 10 km run time: <Enter>  \n",
    "* Average of 15.0, over 3 runs  \n"
   ]
  },
  {
   "cell_type": "code",
   "execution_count": null,
   "metadata": {},
   "outputs": [
    {
     "name": "stdout",
     "output_type": "stream",
     "text": [
      "Enter 10 km run time: 34.0\n",
      "Enter 10 km run time: 2.0\n",
      "Average of 18.0, over 2 runs\n"
     ]
    }
   ],
   "source": [
    "import pandas as pd\n",
    "\n",
    "total_runtime = []\n",
    "\n",
    "while True:\n",
    "    try:\n",
    "        run_time = float(input(\"Enter run time: \"))  # run_time을 try문 밖에 쓰면 오류\n",
    "        print(f\"Enter 10 km run time: {run_time}\")\n",
    "        total_runtime.append(run_time)\n",
    "\n",
    "    except ValueError:\n",
    "        break\n",
    "    \n",
    "print(\"Average of {0}, over {1} runs\" \\\n",
    "             .format(sum(total_runtime)/len(total_runtime), len(total_runtime)))\n",
    "        "
   ]
  },
  {
   "attachments": {},
   "cell_type": "markdown",
   "metadata": {},
   "source": [
    "EXERCISE 04 16진수 출력하기  \n",
    "* 함수 hex_output(): 16진수를 입력받고, 10진수로 변환해서 리턴하는 함수.  \n",
    "* 사용자가 50을 입력하면 이것을 16진수(0X50)으로 보고 10진수로 변환한 80을 리턴\n",
    "* 16진수는 hex함수로 간단히 구할 수 있음\n",
    "* 정수가 들어있는 문자열을 입력받고, 각각의 숫자를 10진수 숫자로 변경할 때 int  \n",
    "* int는 2개의 매개변수를 받는데 첫 번째 매개변수는 필수 매개변수이고, 정수로 변환할 문자열을 입력한다. 두 번째 매개변수는 옵션 매개변수로, 숫자의 진법을 입력한다. 이번 예제에서는 16진수로 변환해야 하므로, 두 번째 매개변수로 16을 전달"
   ]
  },
  {
   "cell_type": "code",
   "execution_count": null,
   "metadata": {},
   "outputs": [],
   "source": [
    "A5  -> 1010 0101  -> 128 + 32 + 4 + 1\n",
    "dict\n",
    "key   value\n",
    "  0     0000\n",
    "  1      0001\n",
    "  2      0010\n",
    "  3      0011\n",
    "  4      0100\n",
    "  5      0101\n",
    "  6      0110\n",
    "  7      0111\n",
    "  8      1000\n",
    "  9      1001\n",
    "  A      1010\n",
    "  B      1010\n",
    "  C      1100\n",
    "  D      1101\n",
    "  E       1110\n",
    "  F       1111\n",
    "\n",
    "\n",
    "50 string\n",
    "str[0] 5\n",
    "\n",
    "for i in input\n",
    "5 -> 0101\n",
    "0 -> 0000\n",
    "str += \n",
    "\n",
    "0101 0000\n",
    "for seq i in enumerate(reverse(var)):\n",
    "    i int \n",
    "    sum += i * 2 seq"
   ]
  },
  {
   "attachments": {},
   "cell_type": "markdown",
   "metadata": {},
   "source": [
    "EXERCISE 05 피그 라틴 단어 만들기\n",
    "* pig_latin이라는 함수 만들어 피그 라틴 규칙에 따라 피그 라틴 단어로 만들어 리턴\n",
    "* 피그 라틴의 규칙: 단어가 모음(a, e, i, o, u)으로 시작한다면 끝에 'way'를 추가. 단어가 자음으로 시작한다면 첫 글자를 마지막으로 옮긴 뒤에, 끝에 'ay' 추가. \n",
    "* 예를 들어 'air'는 'airway'가 되고, 'python'은 'ythonpay'가 된다"
   ]
  },
  {
   "cell_type": "code",
   "execution_count": null,
   "metadata": {},
   "outputs": [],
   "source": [
    "def pig_latin():\n",
    "    word = input(\"Your Word: \")\n",
    "\n",
    "    if word[0] in ['a', 'e', 'i', 'o', 'u']:\n",
    "        word = word + 'way'\n",
    "        print(word)\n",
    "    else :\n",
    "        word = word[1:] + word[0] + 'way'\n",
    "        print(word)"
   ]
  },
  {
   "cell_type": "code",
   "execution_count": null,
   "metadata": {},
   "outputs": [
    {
     "name": "stdout",
     "output_type": "stream",
     "text": [
      "ythonpay\n"
     ]
    }
   ],
   "source": [
    "# 해답\n",
    "def pig_latin(word):\n",
    "    if word[0] in 'aeiou':\n",
    "        return f'{word}way'\n",
    "    return f'{word[1:]}{word[0]}ay'\n",
    "\n",
    "print(pig_latin('python'))"
   ]
  },
  {
   "attachments": {},
   "cell_type": "markdown",
   "metadata": {},
   "source": [
    "EXERCISE 06 피그 라틴 문장 만들기\n",
    "\n",
    "* pl_sentence 함수: 여러 단어가 공백으로 구분된 영어 문장을 매개변수로 입력받아 피그 라틴 규칙에 맞게 변환"
   ]
  },
  {
   "cell_type": "code",
   "execution_count": 6,
   "metadata": {},
   "outputs": [
    {
     "name": "stdout",
     "output_type": "stream",
     "text": [
      "['histway', 'isway', 'away', 'esttway', 'ranslationtway']\n",
      "histway isway away esttway ranslationtway\n"
     ]
    }
   ],
   "source": [
    "s= 'this is a test translation'\n",
    "x= s.split(' ')\n",
    "c =[]\n",
    "\n",
    "for i in x:\n",
    "    if i[0] in 'aeiou':\n",
    "        c.append(i+'way')\n",
    "    else:\n",
    "        c.append(i[1:]+i[0]+'way')\n",
    "print(c)\n",
    "wanted = \" \".join(c)\n",
    "print(wanted)"
   ]
  },
  {
   "cell_type": "code",
   "execution_count": null,
   "metadata": {},
   "outputs": [
    {
     "data": {
      "text/plain": [
       "'histway isway away esttway ranslationtway'"
      ]
     },
     "execution_count": 2,
     "metadata": {},
     "output_type": "execute_result"
    }
   ],
   "source": [
    "def pl_sentence(sentence):\n",
    "    words = sentence.split(\" \")\n",
    "    pig = []\n",
    "    \n",
    "    for word in words:\n",
    "        if word[0] in 'aeiou':\n",
    "            pig.append(word + 'way')\n",
    "        else:\n",
    "            pig.append(word[1:]+word[0]+'way')\n",
    "    \n",
    "    wanted = \" \".join(pig)\n",
    "    return wanted\n",
    "    \n",
    "pl_sentence(\"this is a test translation\")"
   ]
  },
  {
   "attachments": {},
   "cell_type": "markdown",
   "metadata": {},
   "source": [
    "EXERCISE 07 비밀 언어 우비두비 단어 만들기\n",
    "* ubbi_dubbi 함수: 매개변수로 단어를 입력받고, 이를 우비두비로 번역해서 리턴\n",
    "* 우비두비 단어 규칙: 모든 모음 앞에 ub를 붙인다 \n",
    "* 예를 들어 octopus 전달하면 uboctubopubus 리턴"
   ]
  },
  {
   "cell_type": "code",
   "execution_count": null,
   "metadata": {},
   "outputs": [
    {
     "name": "stdout",
     "output_type": "stream",
     "text": [
      "uboctubopubus\n"
     ]
    }
   ],
   "source": [
    "word = 'octopus'\n",
    "list = []\n",
    "for w in word:\n",
    "    if w in 'aeiou':\n",
    "       list.append('ub'+w)\n",
    "    else:\n",
    "        list.append(w) \n",
    "print(\"\".join(list))"
   ]
  },
  {
   "cell_type": "code",
   "execution_count": null,
   "metadata": {},
   "outputs": [
    {
     "data": {
      "text/plain": [
       "'uboctubopubus'"
      ]
     },
     "execution_count": 42,
     "metadata": {},
     "output_type": "execute_result"
    }
   ],
   "source": [
    "def ubbi_dubbi(word):\n",
    "    list = []\n",
    "    for w in word:\n",
    "        if w in 'aeiou':\n",
    "            list.append('ub'+w)\n",
    "        else:\n",
    "            list.append(w)\n",
    "    return \"\".join(list)\n",
    "\n",
    "ubbi_dubbi('octopus')"
   ]
  },
  {
   "attachments": {},
   "cell_type": "markdown",
   "metadata": {},
   "source": [
    "EXERCISE 08 문자열 정렬하기\n",
    "* strsort 함수: 매개변수로 받은 문자열의 모든 글자를 유니코드 순서로 정렬한 새로운 문자열을 만들어 리턴하는 함수\n",
    "* 예를 들어 strsort('cba')라고 입력하면 'abc' 리턴"
   ]
  },
  {
   "cell_type": "code",
   "execution_count": null,
   "metadata": {},
   "outputs": [
    {
     "data": {
      "text/plain": [
       "'abc'"
      ]
     },
     "execution_count": 46,
     "metadata": {},
     "output_type": "execute_result"
    }
   ],
   "source": [
    "\"\".join(sorted('cba'))"
   ]
  },
  {
   "cell_type": "code",
   "execution_count": null,
   "metadata": {},
   "outputs": [
    {
     "data": {
      "text/plain": [
       "'abc'"
      ]
     },
     "execution_count": 49,
     "metadata": {},
     "output_type": "execute_result"
    }
   ],
   "source": [
    "def strsort(word):\n",
    "    return \"\".join(sorted(word))\n",
    "\n",
    "strsort('cba')"
   ]
  },
  {
   "attachments": {},
   "cell_type": "markdown",
   "metadata": {},
   "source": [
    "EXERCISE 09 처음과 마지막 요소 찾기\n",
    "\n",
    "* firstlast 함수: 시퀀스(문자열, 리스트, 튜플)의 처음과 마지막 요소를 추출하고 둘을 결합해서 원래 자료형으로 리턴\n",
    "* 예를 들어 firstlast('abc')는 'ac'리턴, firstlast([1,2,3,4])는 [1,4]를 리턴"
   ]
  },
  {
   "cell_type": "code",
   "execution_count": null,
   "metadata": {},
   "outputs": [
    {
     "name": "stdout",
     "output_type": "stream",
     "text": [
      "(10, 40)\n"
     ]
    }
   ],
   "source": [
    "b = (10,20,30,40)\n",
    "b = [*b]\n",
    "br = c[1:-1]\n",
    "\n",
    "for i in br:\n",
    "    b.remove(i)\n",
    "    w = tuple(b)\n",
    "print(w)\n"
   ]
  },
  {
   "cell_type": "code",
   "execution_count": null,
   "metadata": {},
   "outputs": [
    {
     "data": {
      "text/plain": [
       "[10, 40]"
      ]
     },
     "execution_count": 111,
     "metadata": {},
     "output_type": "execute_result"
    }
   ],
   "source": [
    "def firstlast(sequence):\n",
    "    wanted = sequence[:1] + sequence[-1:]\n",
    "    return wanted\n",
    "\n",
    "firstlast('abc')\n",
    "firstlast(('a', 'b'))\n",
    "firstlast([10, 20, 30, 40])"
   ]
  },
  {
   "attachments": {},
   "cell_type": "markdown",
   "metadata": {},
   "source": [
    "EXERCISE 10. 아무것이나 더하기\n",
    "\n",
    "* mysum 함수를 기반으로, + 연산자를 갖고 있는 자료형(숫자, 문자열, 리스트, 튜플 등)을 매개변수로 받게 확장. 더해야 하는 매개변수는 같은 자료형으로 입력된다.\n",
    "* 예를 들어 mysum('abc', 'def')는 abcdef 라는 문자열, mysum([1,2,3],[4,5,6])이라는 리스트 리턴\n"
   ]
  },
  {
   "cell_type": "code",
   "execution_count": null,
   "metadata": {},
   "outputs": [
    {
     "data": {
      "text/plain": [
       "(1, 2, 3, 4, 5, 6, 7, 8, 9)"
      ]
     },
     "execution_count": 123,
     "metadata": {},
     "output_type": "execute_result"
    }
   ],
   "source": [
    "'abc'+'def'\n",
    "[1,2,3]+[4,5,6]\n",
    "(1,2,3)+(4,5,6)+(7,8,9)"
   ]
  },
  {
   "cell_type": "code",
   "execution_count": null,
   "metadata": {},
   "outputs": [],
   "source": [
    "def mysum(*smthng):\n",
    "    s = smthng[0]\n",
    "    for i in smthng[1:]:\n",
    "        s += i\n",
    "    print(s)"
   ]
  },
  {
   "cell_type": "code",
   "execution_count": null,
   "metadata": {},
   "outputs": [
    {
     "name": "stdout",
     "output_type": "stream",
     "text": [
      "[1, 2, 3, 4, 5, 6]\n",
      "abcdef\n",
      "(1, 2, 3, 4, 5, 6, 7, 8, 9)\n"
     ]
    }
   ],
   "source": [
    "mysum([1,2,3], [4,5,6])\n",
    "mysum('abc', 'def')\n",
    "mysum((1,2,3), (4,5,6),(7,8,9))"
   ]
  },
  {
   "attachments": {},
   "cell_type": "markdown",
   "metadata": {},
   "source": [
    "EXERCISE 11 이름을 알파벳 순서로 정렬하기\n",
    "\n",
    "* alphabetize_names 함수: PEOPLE 리스트를 매개변수로 받고, 리스트 내부에 있는 딕셔너리의 last 속성을 기준으로 리스트를 정렬한 뒤 리턴. \n",
    "* last 속성이 같을 경우 first 속성으로 정렬\n",
    "* sorted의 key 매개변수 활용"
   ]
  },
  {
   "cell_type": "code",
   "execution_count": 9,
   "metadata": {},
   "outputs": [
    {
     "name": "stdout",
     "output_type": "stream",
     "text": [
      "Lerner\n",
      "Trump\n",
      "Putin\n"
     ]
    }
   ],
   "source": [
    "people = [{\n",
    "    'first': 'Reuven',    \n",
    "    'last': 'Lerner',  \n",
    "    'email': 'reuven@lerner.co.il'  \n",
    "}, {  \n",
    "    'first': 'Donald',  \n",
    "    'last': 'Trump',  \n",
    "    'email': 'president@whitehouse.gov'  \n",
    "}, {  \n",
    "    'first': 'Vladimir',  \n",
    "    'last': 'Putin',  \n",
    "    'email': 'president@kremvax.ru'  \n",
    "}]  \n",
    "\n",
    "newpeople =[]\n",
    "for person in people:\n",
    "    newperson = [person['last'], person['first'], person['email']]\n",
    "    newpeople.append(newperson)    \n",
    "    for i in range(len(newpeople)):\n",
    "        name = newpeople[i][0]\n",
    "    print(name)"
   ]
  },
  {
   "cell_type": "code",
   "execution_count": 5,
   "metadata": {},
   "outputs": [
    {
     "data": {
      "text/plain": [
       "3"
      ]
     },
     "execution_count": 5,
     "metadata": {},
     "output_type": "execute_result"
    }
   ],
   "source": [
    "len(newpeople)"
   ]
  },
  {
   "cell_type": "code",
   "execution_count": 15,
   "metadata": {},
   "outputs": [
    {
     "data": {
      "text/plain": [
       "['abcd', 'efg', 'hi', 'j']"
      ]
     },
     "execution_count": 15,
     "metadata": {},
     "output_type": "execute_result"
    }
   ],
   "source": [
    "mylist = ['abcd', 'efg', 'hi', 'j']\n",
    "mylist = sorted(mylist, key=len, reverse=True)\n",
    "mylist"
   ]
  },
  {
   "cell_type": "code",
   "execution_count": 10,
   "metadata": {},
   "outputs": [
    {
     "name": "stdout",
     "output_type": "stream",
     "text": [
      "{'first': 'Reuven', 'last': 'Lerner', 'email': 'reuven@lerner.co.il'}\n",
      "{'first': 'Donald', 'last': 'Trump', 'email': 'president@whitehouse.gov'}\n",
      "{'first': 'Vladimir', 'last': 'Putin', 'email': 'president@kremvax.ru'}\n"
     ]
    },
    {
     "data": {
      "text/plain": [
       "[{'first': 'Reuven', 'last': 'Lerner', 'email': 'reuven@lerner.co.il'},\n",
       " {'first': 'Donald', 'last': 'Trump', 'email': 'president@whitehouse.gov'},\n",
       " {'first': 'Vladimir', 'last': 'Putin', 'email': 'president@kremvax.ru'}]"
      ]
     },
     "execution_count": 10,
     "metadata": {},
     "output_type": "execute_result"
    }
   ],
   "source": [
    "people = [{\n",
    "    'first': 'Reuven',    \n",
    "    'last': 'Lerner',  \n",
    "    'email': 'reuven@lerner.co.il'  \n",
    "}, {  \n",
    "    'first': 'Donald',  \n",
    "    'last': 'Trump',  \n",
    "    'email': 'president@whitehouse.gov'  \n",
    "}, {  \n",
    "    'first': 'Vladimir',  \n",
    "    'last': 'Putin',  \n",
    "    'email': 'president@kremvax.ru'  \n",
    "}]  \n",
    "\n",
    "def func(arr):\n",
    "    print(arr)\n",
    "    return arr['first']\n",
    "\n",
    "sorted(people, key=func)\n",
    "\n",
    "\n",
    "{'first': 'Reuven', 'last': 'Lerner', 'email': 'reuven@lerner.co.il'}\n"
   ]
  },
  {
   "cell_type": "code",
   "execution_count": 1,
   "metadata": {},
   "outputs": [],
   "source": [
    "from operator import itemgetter\n",
    "\n",
    "dict = {\n",
    "    'first': 'Reuven',    \n",
    "    'last': 'Lerner',  \n",
    "    'email': 'reuven@lerner.co.il'  \n",
    "}\n",
    "\n"
   ]
  },
  {
   "attachments": {},
   "cell_type": "markdown",
   "metadata": {},
   "source": [
    "EXERCISE 12 특정 글자를 가장 많이 가진 단어 찾기\n",
    "* most_repeating_word 함수: 해당 단어에서 특정 글자를 가장 많이 포함된 문자열을 리턴\n",
    "* 즉, 각 단어에서 가장 많이 등장하는 글자의 수를 세고, 그 글자의 수가 가장 많은 단어를 리턴\n",
    "* 예를 들어 words = ['this', 'is', 'an', 'elementary', 'test', 'example'] 문자열 시퀀스에서 elementary 리턴   \n",
    "* (this, is, an 반복되는 글자 없고 elementary는 e가 3번, test는 t가 2번, example은 e가 2번이니까)\n",
    "* 반복되는 문자의 수가 같은 경우 둘 중 아무거나 하나 리턴\n",
    "* collections 모듈의 Counter 클래스 활용 & max함수의 key 키워드 매개변수 활용할 것"
   ]
  },
  {
   "cell_type": "code",
   "execution_count": 6,
   "metadata": {},
   "outputs": [
    {
     "data": {
      "text/plain": [
       "Counter({'hi': 3, 'hey': 2, 'hello': 1})"
      ]
     },
     "execution_count": 6,
     "metadata": {},
     "output_type": "execute_result"
    }
   ],
   "source": [
    "from collections import Counter\n",
    "Counter([\"hi\", \"hey\", \"hi\", \"hi\", \"hello\", \"hey\"])"
   ]
  },
  {
   "cell_type": "code",
   "execution_count": 71,
   "metadata": {},
   "outputs": [
    {
     "data": {
      "text/plain": [
       "3"
      ]
     },
     "execution_count": 71,
     "metadata": {},
     "output_type": "execute_result"
    }
   ],
   "source": [
    "words = ['this', 'is', 'an', 'elementary', 'test', 'example']\n",
    "Counter('elementary')\n",
    "Counter('elementary').values()"
   ]
  },
  {
   "cell_type": "code",
   "execution_count": 29,
   "metadata": {},
   "outputs": [
    {
     "data": {
      "text/plain": [
       "{'h': 1, 'e': 1, 'l': 3, 'o': 2, ' ': 1, 'w': 1, 'r': 1, 'd': 1}"
      ]
     },
     "execution_count": 29,
     "metadata": {},
     "output_type": "execute_result"
    }
   ],
   "source": [
    "def countLetters(word):\n",
    "    counter = {}\n",
    "    for letter in word:\n",
    "        if letter not in counter:\n",
    "            counter[letter] = 0\n",
    "        counter[letter] += 1\n",
    "    return counter\n",
    "\n",
    "countLetters('hello world')"
   ]
  },
  {
   "cell_type": "code",
   "execution_count": 65,
   "metadata": {},
   "outputs": [
    {
     "name": "stdout",
     "output_type": "stream",
     "text": [
      "3\n",
      "3\n"
     ]
    },
    {
     "data": {
      "text/plain": [
       "'elementary'"
      ]
     },
     "execution_count": 65,
     "metadata": {},
     "output_type": "execute_result"
    }
   ],
   "source": [
    "words = ['this', 'is', 'an', 'elementary', 'test', 'example']\n",
    "idxlist = []\n",
    "for idx, word in enumerate(words):\n",
    "    counter = {}\n",
    "    for letter in word:\n",
    "        if letter not in counter:\n",
    "            counter[letter] = 0\n",
    "        counter[letter] += 1\n",
    "    max_letter = max(counter, key= lambda x: counter[x])\n",
    "    # print(counter)\n",
    "    # print(max_letter)\n",
    "    idxlist.append(counter[max_letter])\n",
    "print(max(idxlist))\n",
    "idx = idxlist.index(max(idxlist)) # 3의 인덱스?\n",
    "print(idxlist.index(max(idxlist)))\n",
    "words[idx]"
   ]
  },
  {
   "cell_type": "code",
   "execution_count": 55,
   "metadata": {},
   "outputs": [
    {
     "data": {
      "text/plain": [
       "'e'"
      ]
     },
     "execution_count": 55,
     "metadata": {},
     "output_type": "execute_result"
    }
   ],
   "source": [
    "dict_nums = {1:-5, 5:3, 10:0}\n",
    "max(dict_nums, key= lambda x : dict_nums[x])\n",
    "\n",
    "counter = {'e': 3, 'l': 1, 'm': 1, 'n': 1, 't': 1, 'a': 1, 'r': 1, 'y': 1}\n",
    "max(counter, key= lambda x: counter[x])"
   ]
  },
  {
   "cell_type": "code",
   "execution_count": 85,
   "metadata": {},
   "outputs": [
    {
     "name": "stdout",
     "output_type": "stream",
     "text": [
      "elementary\n"
     ]
    }
   ],
   "source": [
    "words = ['this', 'is', 'an', 'elementary', 'test', 'example']\n",
    "\n",
    "def most_repeating_words(words): \n",
    "    idxlist = []\n",
    "    for word in words:  \n",
    "        for letter in word:\n",
    "            wanted = Counter(word).most_common(1)[-1][-1]\n",
    "        idxlist.append(wanted)\n",
    "        idx = idxlist.index(max(idxlist))\n",
    "\n",
    "    print(words[idx])\n",
    "\n",
    "most_repeating_words(words)"
   ]
  },
  {
   "cell_type": "code",
   "execution_count": 86,
   "metadata": {},
   "outputs": [
    {
     "name": "stdout",
     "output_type": "stream",
     "text": [
      "elementary\n"
     ]
    }
   ],
   "source": [
    "# 예제 파일 풀이\n",
    "\n",
    "from collections import Counter\n",
    "\n",
    "def most_repeating_letter_count(word):\n",
    "    return Counter(word).most_common(1)[0][1]\n",
    "\n",
    "# most_repeating_letter_count('elementary')\n",
    "\n",
    "def most_repeating_word(words):\n",
    "    return max(words, key=most_repeating_letter_count)\n",
    "    \n",
    "\n",
    "print(most_repeating_word(words))"
   ]
  },
  {
   "cell_type": "code",
   "execution_count": 82,
   "metadata": {},
   "outputs": [
    {
     "name": "stdout",
     "output_type": "stream",
     "text": [
      "hello\n"
     ]
    }
   ],
   "source": [
    "words = [\"hi\", \"hey\", \"hi\", \"hi\", \"hello\", \"hey\"]\n",
    "most_repeating_words(words)"
   ]
  },
  {
   "attachments": {},
   "cell_type": "markdown",
   "metadata": {},
   "source": [
    "EXERCISE 13 튜플 레코드 출력\n",
    "* format_sort_records 함수: 튜플로 구성된 리스트를 읽어들이고, 테이블 형태의 문자열로 변환해서 출력\n",
    "* PEOPLE = [('Donald', 'Trump', 7.85), ('Vladimir', 'Putin', 3.626), ('Jinping', 'Xi', 10.603)]   \n",
    "* 가장 앞에 last name, first name, 도착 시간까지. 성과 이름을 기준으로 알파벳 순서로. \n",
    "* 각각의 이름은 10글자 필드에 출력되어야 하며 시간은 5글자 필드에 출력. 각각의 필드 사이에는 공백 문자 하나. 이동시간은 소수점 아래 둘째 자리"
   ]
  },
  {
   "cell_type": "markdown",
   "metadata": {},
   "source": [
    "EXERCISE 14 식당 주문 프로그램 만들기\n",
    "* MENU 딕셔너리 키로 음식 이름, 값으로 가격 저장\n",
    "* restaurant() 함수로 주문 요청\n",
    "* 사용자가 메뉴에 있는 음식 이름 입력하면 해당 음식의 가격과 지금까지의 합계 출력, 다시 입력 요청\n",
    "* 메뉴에 없는 음식을 입력하면 사용자에게 입력이 잘못되었다고 알리고 다시 입력 요청\n",
    "* 만약 빈 문자열을 입력하면 지금까지의 합계 출력하고 프로그램 종료"
   ]
  },
  {
   "cell_type": "code",
   "execution_count": null,
   "metadata": {},
   "outputs": [],
   "source": [
    "# 내가 푼 것\n",
    "\n",
    "MENU = {'sandwich': 10, \n",
    "        'tea': 7,\n",
    "        'salad': 9}\n",
    "\n",
    "def restaurant():\n",
    "    total = []\n",
    "    while True:\n",
    "        ordered = input(\"order: \")\n",
    "        if len(ordered) != 0:\n",
    "            if ordered in MENU.keys():\n",
    "                total.append(MENU[ordered])\n",
    "                print(f'{ordered} cost: {MENU[ordered]}, total is {sum(total)}')\n",
    "            else:\n",
    "                print(f'Sorry, we are fresh out of {ordered} today')\n",
    "        else:\n",
    "            print(f'your total is {sum(total)}')\n",
    "            break\n",
    "\n",
    "restaurant()"
   ]
  },
  {
   "cell_type": "code",
   "execution_count": null,
   "metadata": {},
   "outputs": [],
   "source": [
    "# 교재와 chat GPT version\n",
    "\n",
    "MENU = {'sandwich': 10, \n",
    "        'tea': 7,\n",
    "        'salad': 9}\n",
    "\n",
    "total = 0\n",
    "\n",
    "while True:\n",
    "    ordered = input(\"order: \")\n",
    "    if not ordered:\n",
    "        break\n",
    "\n",
    "    if ordered in MENU:\n",
    "        price = MENU[ordered]\n",
    "        total += price\n",
    "        print(f\"{ordered} costs: {price}, total is {total}\")\n",
    "    else:\n",
    "        print(f\"sorry, we are fresh out of {ordered} today\")\n",
    "\n",
    "print(f\"Your total is {total}\")"
   ]
  },
  {
   "cell_type": "markdown",
   "metadata": {},
   "source": [
    "EXERCISE 15. 강수량 계산하기  \n",
    "* 여러 도시의 강수량 추적하는 함수 get_rainfall()\n",
    "* 사용자에게 도시명을 입력받은 뒤 해당 도시의 강수량을 입력받기를 반복\n",
    "* 사용자가 아무것도 입력하지 않으면 보고서를 출력하고 프로그램을 종료"
   ]
  },
  {
   "cell_type": "code",
   "execution_count": 1,
   "metadata": {},
   "outputs": [],
   "source": [
    "rainfall = {}\n",
    "\n",
    "def get_rainfall():\n",
    "    while True:\n",
    "        city = input(\"Enter city: \")\n",
    "        if not city:\n",
    "            break\n",
    "\n",
    "        rain = input(\"Enter rain: \")\n",
    "        rainfall[city] = rainfall.get(city,0) + int(rain)\n",
    "    \n",
    "    for city, rain in rainfall.items():\n",
    "        print(f'{city}: {rain}')    \n"
   ]
  },
  {
   "cell_type": "code",
   "execution_count": 2,
   "metadata": {},
   "outputs": [
    {
     "name": "stdout",
     "output_type": "stream",
     "text": [
      "boston: 20\n",
      "seoul: 25\n",
      "london: 17\n"
     ]
    }
   ],
   "source": [
    "get_rainfall()"
   ]
  },
  {
   "cell_type": "code",
   "execution_count": 4,
   "metadata": {},
   "outputs": [
    {
     "name": "stdout",
     "output_type": "stream",
     "text": [
      "boston 강수량 SUM: 30, MEAN: 15.0\n",
      "seoul 강수량 SUM: 20, MEAN: 20.0\n",
      "london 강수량 SUM: 18, MEAN: 18.0\n"
     ]
    }
   ],
   "source": [
    "rainfall = {}\n",
    "\n",
    "def get_rainfall_avg():\n",
    "    while True:\n",
    "        city = input(\"Enter city: \")\n",
    "        \n",
    "        if not city:\n",
    "            break\n",
    "\n",
    "        if city not in rainfall.keys():\n",
    "            rainfall[city] = []\n",
    "        else:\n",
    "            pass\n",
    "        rain = int(input(\"Enter rain: \")) \n",
    "        rainfall[city].append(rain)\n",
    "\n",
    "    for idx in rainfall.keys():\n",
    "        \n",
    "        print(f\"{idx} 강수량 SUM: {sum(rainfall[idx])}, MEAN: {sum(rainfall[idx])/len(rainfall[idx])}\")\n",
    "\n",
    "\n",
    "\n",
    "get_rainfall_avg()\n",
    "        "
   ]
  },
  {
   "cell_type": "markdown",
   "metadata": {},
   "source": [
    "EXERCISE 16 두 딕셔너리의 차이 찾기  \n",
    "* dictdiff(): 매개변수로 2개의 딕셔너리를 입력받아 두 딕셔너리에 차이가 있는 부분을 딕셔너리로 리턴  \n",
    "* 키로 서로 다른 점이 있는 키, 값으로 각 딕셔너리의 값을 요소로 갖는 리스트를 가지도록(한쪽 딕셔너리에만 있고 다른 쪽 딕셔너리에 없는 값은 None을 활용해 차이를 출력)  "
   ]
  },
  {
   "cell_type": "code",
   "execution_count": 1,
   "metadata": {},
   "outputs": [
    {
     "data": {
      "text/plain": [
       "{'d': [None, 4], 'c': [3, None]}"
      ]
     },
     "execution_count": 1,
     "metadata": {},
     "output_type": "execute_result"
    }
   ],
   "source": [
    "\n",
    "# 내가 푼 것\n",
    "first = {'a': 1, 'b': 2, 'c': 3, 'd': 4, 'e': 5}\n",
    "second = {'a': 1, 'b': 2, 'c': 3, 'd': 5, 'f': 7}\n",
    "\n",
    "def dictdiff(first, second):\n",
    "    output = {}\n",
    "    both = first.keys() | second.keys()\n",
    "    for idx in both:\n",
    "        try:\n",
    "            if first[idx] != second[idx]:\n",
    "                output[idx] = [first[idx], second[idx]]\n",
    "        except KeyError:\n",
    "            try: \n",
    "                output[idx] = [None, second[idx]]\n",
    "            except KeyError:\n",
    "                output[idx] = [first[idx], None]\n",
    "    return output\n",
    "\n",
    "d1 = {'a': 1, 'b': 2, 'c': 3}\n",
    "d2 = {'a': 1, 'b': 2, 'd': 4}\n",
    "dictdiff(d1, d2)"
   ]
  },
  {
   "cell_type": "code",
   "execution_count": null,
   "metadata": {},
   "outputs": [],
   "source": [
    "# 해답\n",
    "\n",
    "def dictdiff(first, second):\n",
    "    output = {}\n",
    "    all_keys = first.keys() | second.keys()\n",
    "    \n",
    "    for key in all_keys:\n",
    "        if first.get(key) != second.get(key):\n",
    "            output[key] = [first.get(key), second.get(key)]\n",
    "    return output\n",
    "\n",
    "d1 = {'a': 1, 'b': 2, 'c': 3}\n",
    "d2 = {'a': 1, 'b': 2, 'd': 4}\n",
    "dictdiff(d1, d2)"
   ]
  },
  {
   "cell_type": "markdown",
   "metadata": {},
   "source": [
    "조금 더 나아가기 1  \n",
    "* dict.update 메서드는 두 딕셔너리를 결합. 2개 이상의 딕셔너리를 매개변수로 받고, 이를 모두 결합해서 리턴하는 함수 \n",
    "* 만약 같은 키가 중복되는 경우에는 마지막에 결합한 딕셔너리의 값을 지정  "
   ]
  },
  {
   "cell_type": "code",
   "execution_count": 2,
   "metadata": {},
   "outputs": [
    {
     "name": "stdout",
     "output_type": "stream",
     "text": [
      "{'a': 3, 'b': 3, 'd': 3, 'c': 5, 'e': 7}\n"
     ]
    }
   ],
   "source": [
    "d3 = {'a': 1, 'b': 2, 'd': 3}\n",
    "d4 = {'a': 1, 'b': 2, 'c': 4}\n",
    "d5 = {'a': 2, 'b': 3, 'e': 5}\n",
    "d6 = {'a': 3, 'c': 5, 'e': 7}\n",
    "# d3.update(d4)\n",
    "# print(d3)\n",
    "# d3.update(d5)\n",
    "# print(d3)\n",
    "\n",
    "\n",
    "def variables(dict1, *dicts):\n",
    "    for dict in dicts:\n",
    "        dict1.update(dict)\n",
    "    print(dict1)\n",
    "           \n",
    "variables(d3, d4, d5, d6)"
   ]
  },
  {
   "cell_type": "markdown",
   "metadata": {},
   "source": [
    "조금 더 나아가기 2  \n",
    "* 짝수 개의 매개변수를 입력받고, 이를 기반으로 딕셔너리를 만들어 리턴하는 함수  \n",
    "* 짝수 위치에 있는 매개변수가 딕셔너리의 키로, 홀수 위치에 있는 매개변수가 딕셔너리의 값으로  \n",
    "* 예를 들어 ('a', 1, 'b', 2)라는 형태로 호출했다면 {'a': 1, 'b': 2}를 리턴  "
   ]
  },
  {
   "cell_type": "code",
   "execution_count": 3,
   "metadata": {},
   "outputs": [
    {
     "data": {
      "text/plain": [
       "{'a': 1, 'b': 2}"
      ]
     },
     "execution_count": 3,
     "metadata": {},
     "output_type": "execute_result"
    }
   ],
   "source": [
    "def evenfunc(*args):\n",
    "    output = {}\n",
    "    for i in range(0, len(args), 2):\n",
    "        output[args[i]] = args[i+1]\n",
    "    return output\n",
    "\n",
    "evenfunc('a', 1, 'b', 2)"
   ]
  },
  {
   "cell_type": "markdown",
   "metadata": {},
   "source": [
    "EXERCISE 17 서로 다른 숫자의 개수 찾기\n",
    "* 매개변수로 정수 리스트 하나를 받고, 그 안에 있는 서로 다른 숫자의 개수를 출력하는 how_many_different_numbers 함수\n",
    "* 세트는 딕셔너리의 키처럼 요소의 유일성을 보장한다"
   ]
  },
  {
   "cell_type": "code",
   "execution_count": 4,
   "metadata": {},
   "outputs": [
    {
     "data": {
      "text/plain": [
       "4"
      ]
     },
     "execution_count": 4,
     "metadata": {},
     "output_type": "execute_result"
    }
   ],
   "source": [
    "def how_many_different_numbers(ints):\n",
    "    return len(set(ints))    \n",
    "\n",
    "numbers = [1, 2, 3, 1, 2, 3, 4, 1]\n",
    "how_many_different_numbers(numbers)"
   ]
  },
  {
   "cell_type": "markdown",
   "metadata": {},
   "source": [
    "#### 6장 함수"
   ]
  },
  {
   "cell_type": "markdown",
   "metadata": {},
   "source": [
    "EXERCISE 25 XML 생성기 만들기\n",
    "* XML 문자열 출력을 만들어내는 myxml 함수 작성"
   ]
  },
  {
   "cell_type": "code",
   "execution_count": 19,
   "metadata": {},
   "outputs": [],
   "source": [
    "def myxml(tagname, content='', **kwargs):\n",
    "    attrs =  ', '.join([f'{key}=\"{value}\"' for key, value in kwargs.items()])\n",
    "    return f\"<{tagname} {attrs}>{content}</{tagname}>\""
   ]
  },
  {
   "cell_type": "code",
   "execution_count": 20,
   "metadata": {},
   "outputs": [
    {
     "data": {
      "text/plain": [
       "'<foo a=\"1\", b=\"2\", c=\"3\">bar</foo>'"
      ]
     },
     "execution_count": 20,
     "metadata": {},
     "output_type": "execute_result"
    }
   ],
   "source": [
    "myxml('foo', 'bar', a=1, b=2, c=3)"
   ]
  },
  {
   "cell_type": "markdown",
   "metadata": {},
   "source": []
  },
  {
   "cell_type": "markdown",
   "metadata": {},
   "source": [
    "#### 7장 함수형 프로그래밍"
   ]
  },
  {
   "cell_type": "markdown",
   "metadata": {},
   "source": [
    "EXERCISE 28 숫자 결합하기  \n",
    "* range를 매개변수로 받아서 숫자들을 쉼표(,)로 연결해 리턴하는 join_numbers 함수\n",
    "* student_age라는 함수로 학생들의 나이를 정수로 리턴받을 때 [student_age(one_student) for one_student in all_students] \n",
    "* daily_rain 함수로 특정 날의 강수량을 알 수 있다고 할 때 [daily_rain(one_day) for one_day in month] \n",
    "* number_of_vowels 함수로 어떤 단어의 모음 개수를 확인할 수 있을 때 [number_of_vowels(one_word) for one_word in open(filename).read().split()] \n",
    "\n",
    "* 리스트 내포: 원본 이터러블과 각각의 요소에 적용할 표현식   "
   ]
  },
  {
   "cell_type": "code",
   "execution_count": 5,
   "metadata": {},
   "outputs": [
    {
     "data": {
      "text/plain": [
       "'0,1,2,3,4,5,6,7,8,9,10,11,12,13,14'"
      ]
     },
     "execution_count": 5,
     "metadata": {},
     "output_type": "execute_result"
    }
   ],
   "source": [
    "def join_numbers(x):\n",
    "    return \",\".join([str(number) for number in range(x)])\n",
    "\n",
    "join_numbers(15)"
   ]
  },
  {
   "cell_type": "markdown",
   "metadata": {},
   "source": [
    "조금 더 나아가기 \n",
    "* 이번 예제와 마찬가지로 정수 리스트를 입력받고, 이를 문자열로 반환하는데 0~10 범위에 있는 숫자만 문자열로 변환"
   ]
  },
  {
   "cell_type": "code",
   "execution_count": 14,
   "metadata": {},
   "outputs": [
    {
     "data": {
      "text/plain": [
       "'0,1,2,3,4,5,6,7,8,9,10'"
      ]
     },
     "execution_count": 14,
     "metadata": {},
     "output_type": "execute_result"
    }
   ],
   "source": [
    "def join_numbers_10(x):\n",
    "    return \",\".join(str(number) for number in range(x) if number < 11)\n",
    "\n",
    "join_numbers_10(15)"
   ]
  },
  {
   "cell_type": "markdown",
   "metadata": {},
   "source": [
    "EXERCISE 29 숫자 더하기\n",
    "* 숫자로 변환할 수 없는 문자열이 포함된 문자열 시퀀스에서 숫자로 변환할 수 있는 요소를 추출하여 더하는 함수  "
   ]
  },
  {
   "cell_type": "code",
   "execution_count": 18,
   "metadata": {},
   "outputs": [
    {
     "data": {
      "text/plain": [
       "10"
      ]
     },
     "execution_count": 18,
     "metadata": {},
     "output_type": "execute_result"
    }
   ],
   "source": [
    "def sum_numbers(sentence):\n",
    "    return sum(int(word) for word in sentence.split() if word.isdigit())\n",
    "\n",
    "sum_numbers('1 2 3 A B C 4')"
   ]
  },
  {
   "cell_type": "markdown",
   "metadata": {},
   "source": [
    "조금 더 나아가기\n",
    "* 전화번호 XXX-YYY-ZZZZ: YYY가 0~5로 시작하는 지역 번호는 지역 번호가 XXX+1로 변경  \n",
    "* 예를 들어 ['123-456-7890', '123-333-4444', '123-777-8888']을 입력받으면 ['124-456-7890', '124-333-4444', '123-777-8888']  리턴"
   ]
  },
  {
   "cell_type": "code",
   "execution_count": 5,
   "metadata": {},
   "outputs": [],
   "source": [
    "def change_local_number(numbers):\n",
    "    changed = []\n",
    "    for number in numbers:  \n",
    "        if int(number.split('-')[1][0]) <= 5:\n",
    "            local_number = int(number.split('-')[0])+1  \n",
    "        else:\n",
    "            local_number = (number.split('-'))[0]\n",
    "        local_number = str(local_number)          \n",
    "        mid = number.split('-')[1]\n",
    "        end = number.split('-')[2]    \n",
    "        changed.append([local_number, mid, end])\n",
    "        \n",
    "    return [\"-\".join(chnum) for chnum in changed]"
   ]
  },
  {
   "cell_type": "code",
   "execution_count": 1,
   "metadata": {},
   "outputs": [],
   "source": [
    "def change_local_number(numbers):\n",
    "    changed = []\n",
    "    for seq, number in enumerate(numbers):\n",
    "        temp_number = list(map(int, number.split('-')))\n",
    "\n",
    "        if temp_number[1] // 100 <= 5:\n",
    "            temp_number[0] = temp_number[0] + 1\n",
    "            \n",
    "        for seq, temp in enumerate(temp_number):\n",
    "            temp_number[seq] = str(temp)\n",
    "            \n",
    "        changed.append('-'.join(temp_number))\n",
    "\n",
    "    return changed\n",
    "\n",
    "\n",
    "def change_local_number_origin(numbers):\n",
    "    changed = []\n",
    "    for number in numbers:\n",
    "        temp_number = number.split('-')\n",
    "\n",
    "        if int(temp_number[1][0]) <= 5:\n",
    "            temp_number[0] = str(int(temp_number[0]) + 1)\n",
    "\n",
    "        changed.append(temp_number)\n",
    "\n",
    "    return [\"-\".join(chnum) for chnum in changed]"
   ]
  },
  {
   "cell_type": "code",
   "execution_count": 2,
   "metadata": {},
   "outputs": [
    {
     "data": {
      "text/plain": [
       "['124-456-7890', '124-333-4444', '123-777-8888']"
      ]
     },
     "execution_count": 2,
     "metadata": {},
     "output_type": "execute_result"
    }
   ],
   "source": [
    "numbers = ['123-456-7890', '123-333-4444', '123-777-8888']\n",
    "\n",
    "change_local_number(numbers)"
   ]
  },
  {
   "cell_type": "code",
   "execution_count": 62,
   "metadata": {},
   "outputs": [
    {
     "data": {
      "text/plain": [
       "['128-345-7890', '125-204-6927', '125-706-8948']"
      ]
     },
     "execution_count": 62,
     "metadata": {},
     "output_type": "execute_result"
    }
   ],
   "source": [
    "numbers = ['127-345-7890', '124-204-6927', '125-706-8948']\n",
    "\n",
    "change_local_number(numbers)"
   ]
  },
  {
   "cell_type": "markdown",
   "metadata": {},
   "source": [
    "조금 더 나아가기\n",
    "* 사람의 이름과 나이가 저장되어 있는 딕셔너리를 5개 포함하는 리스트\n",
    "* 리스트 내포를 활용하여 딕셔너리에 태어난 지 몇 개월 되었는지를 나타내는 age_in_months를 추가한 새로운 리스트 리턴\n",
    "* 추가로 20세 이상의 사람은 최종 출력에서 제외"
   ]
  },
  {
   "cell_type": "code",
   "execution_count": 54,
   "metadata": {},
   "outputs": [],
   "source": [
    "info = [{'A': 11, 'B': 17, 'C': 21},\n",
    "        {'D': 8, 'E': 10},\n",
    "        {'F': 32, 'G': 9},\n",
    "        {'H': 41, 'I': 2, 'K': 73},\n",
    "        {'L': 27}]\n"
   ]
  },
  {
   "cell_type": "code",
   "execution_count": 55,
   "metadata": {},
   "outputs": [
    {
     "data": {
      "text/plain": [
       "[{'A': 11, 'B': 17, 'C': 21},\n",
       " {'D': 8, 'E': 10},\n",
       " {'F': 32, 'G': 9},\n",
       " {'H': 41, 'I': 2, 'K': 73},\n",
       " {'L': 27}]"
      ]
     },
     "execution_count": 55,
     "metadata": {},
     "output_type": "execute_result"
    }
   ],
   "source": [
    "[{name: age for name, age in dict.items()} for dict in info]"
   ]
  },
  {
   "cell_type": "code",
   "execution_count": 57,
   "metadata": {},
   "outputs": [
    {
     "data": {
      "text/plain": [
       "[{'A': 11, 'B': 17}, {'D': 8, 'E': 10}, {'G': 9}, {'I': 2}, {}]"
      ]
     },
     "execution_count": 57,
     "metadata": {},
     "output_type": "execute_result"
    }
   ],
   "source": [
    "[{name: age for name, age in dict.items() if age <= 20} for dict in info]"
   ]
  },
  {
   "cell_type": "code",
   "execution_count": 46,
   "metadata": {},
   "outputs": [
    {
     "data": {
      "text/plain": [
       "[{'A': [11, 132], 'B': [17, 204], 'C': [21, 252]},\n",
       " {'D': [8, 96], 'E': [10, 120]},\n",
       " {'F': [32, 384], 'G': [9, 108]},\n",
       " {'H': [41, 492], 'I': [2, 24], 'K': [73, 876]},\n",
       " {'L': [27, 324]}]"
      ]
     },
     "execution_count": 46,
     "metadata": {},
     "output_type": "execute_result"
    }
   ],
   "source": [
    "# 리스트 내포 활용..?\n",
    "newinfo = []\n",
    "for dict in info:\n",
    "    for name, age in dict.items():\n",
    "        age_in_month = age*12\n",
    "        dict[name] = [age, age_in_month] \n",
    "    newinfo.append(dict)\n",
    "\n",
    "newinfo"
   ]
  },
  {
   "cell_type": "code",
   "execution_count": null,
   "metadata": {},
   "outputs": [],
   "source": [
    "# 이건 오류 \n",
    "# [dict[name]: [age, age*12] for name, age in dict.items() for dict in info]\n",
    "\n",
    "newinfo = [{name: [age, age*12] for name, age in dict.items()} for dict in info]\n",
    "newinfo"
   ]
  },
  {
   "cell_type": "markdown",
   "metadata": {},
   "source": [
    "EXERCISE 30 리스트 평탄화하기\n",
    "* 2차원 리스트를 매개변수로 받아 이를 1차원 리스트로 평탄화해서 리턴하는 flatten 함수  \n",
    "* flatten([[1,2], [3,4]]) -> [1,2,3,4]"
   ]
  },
  {
   "cell_type": "code",
   "execution_count": 47,
   "metadata": {},
   "outputs": [
    {
     "name": "stdout",
     "output_type": "stream",
     "text": [
      "1\n",
      "2\n",
      "3\n",
      "4\n"
     ]
    },
    {
     "data": {
      "text/plain": [
       "[1, 2, 3, 4]"
      ]
     },
     "execution_count": 47,
     "metadata": {},
     "output_type": "execute_result"
    }
   ],
   "source": [
    "lst2d = [[1,2],[3,4]]\n",
    "\n",
    "for lst1d in lst2d:\n",
    "    for lst in lst1d:\n",
    "        print(lst)\n",
    "        \n",
    "[lst for lst1d in lst2d for lst in lst1d]"
   ]
  },
  {
   "cell_type": "code",
   "execution_count": 48,
   "metadata": {},
   "outputs": [
    {
     "data": {
      "text/plain": [
       "[1, 2, 3, 4, 5, 6, 7, 8, 9]"
      ]
     },
     "execution_count": 48,
     "metadata": {},
     "output_type": "execute_result"
    }
   ],
   "source": [
    "def flatten(lst2d):\n",
    "    return [lst for lst1d in lst2d for lst in lst1d]\n",
    "\n",
    "flatten([[1,2,3], [4,5,6], [7,8,9]])"
   ]
  },
  {
   "cell_type": "markdown",
   "metadata": {},
   "source": [
    "조금 더 나아가기\n",
    "* flatten_odd_ints 함수: flatten과 동일한 처리하지만 최종 출력에 홀수 정수만 포함  \n",
    "* 홀수로 판정되어도 정수가 아니라면 입력에서 제외  \n",
    "* 정수로 변환할 수 있는 문자열은 정수로 변환한 뒤, 조건을 비교하고 포함"
   ]
  },
  {
   "cell_type": "code",
   "execution_count": 4,
   "metadata": {},
   "outputs": [
    {
     "name": "stdout",
     "output_type": "stream",
     "text": [
      "1\n",
      "3\n",
      "4\n"
     ]
    }
   ],
   "source": [
    "lst2d = [[1, 2.4],[3, 4, '5']]\n",
    "\n",
    "for lst1d in lst2d:\n",
    "    for lst in lst1d:\n",
    "        if int(lst) == lst:\n",
    "            print(lst)\n",
    "        if int(lst) ==  \n",
    "isinstance\n",
    "int(x) == x\n",
    "type(lst) == 'int'\n",
    "# 입력에서 제외 vs 최종 출력에 홀수 정수만 포함"
   ]
  },
  {
   "cell_type": "markdown",
   "metadata": {},
   "source": [
    "EXERCISE 32 딕셔너리 반전하기\n",
    "* 딕셔너리의 키와 값을 반전하기"
   ]
  },
  {
   "cell_type": "code",
   "execution_count": 5,
   "metadata": {},
   "outputs": [
    {
     "data": {
      "text/plain": [
       "{1: 'A', 2: 'B', 3: 'C', 4: 'D'}"
      ]
     },
     "execution_count": 5,
     "metadata": {},
     "output_type": "execute_result"
    }
   ],
   "source": [
    "def twist_dict(dict):\n",
    "    return {value: key for key, value in dict.items()}\n",
    "    \n",
    "dict = {'A': 1, 'B': 2, 'C': 3, 'D': 4}\n",
    "twist_dict(dict)"
   ]
  },
  {
   "cell_type": "markdown",
   "metadata": {},
   "source": [
    "조금 더 나아가기\n",
    "* 띄어쓰기로 단어가 구분되어 있는 문자열을 기반으로, 각 단어에서 모음이 몇 번 출현하는지를 나타내는 빈도 딕셔너리  \n",
    "* 'this is an easy test'라면 결과 딕셔너리는 {'this':1, 'is':1, 'an':1, 'easy':2, 'test':1}"
   ]
  },
  {
   "cell_type": "code",
   "execution_count": 17,
   "metadata": {},
   "outputs": [
    {
     "data": {
      "text/plain": [
       "{'this': 1, 'is': 1, 'an': 1, 'easy': 2, 'test': 1}"
      ]
     },
     "execution_count": 17,
     "metadata": {},
     "output_type": "execute_result"
    }
   ],
   "source": [
    "sentence = 'this is an easy test'\n",
    "temp = {}\n",
    "\n",
    "for word in sentence.split():\n",
    "    dict[word] = 0\n",
    "    for spell in word:\n",
    "        if spell in 'aeiou':\n",
    "            dict[word] = dict[word] + len(spell)\n",
    "dict"
   ]
  },
  {
   "cell_type": "code",
   "execution_count": 21,
   "metadata": {},
   "outputs": [
    {
     "data": {
      "text/plain": [
       "{'this': 1, 'is': 1, 'an': 1, 'easy': 1, 'test': 1}"
      ]
     },
     "execution_count": 21,
     "metadata": {},
     "output_type": "execute_result"
    }
   ],
   "source": [
    "{word: len(spell) for word in sentence.split() for spell in word if spell in 'aeiou'} # 틀린 것"
   ]
  },
  {
   "cell_type": "code",
   "execution_count": 25,
   "metadata": {},
   "outputs": [
    {
     "data": {
      "text/plain": [
       "{'this': 1, 'is': 1, 'an': 1, 'easy': 2, 'test': 1}"
      ]
     },
     "execution_count": 25,
     "metadata": {},
     "output_type": "execute_result"
    }
   ],
   "source": [
    "{word: sum(1 for spell in word if spell in 'aeiou') for word in sentence.split()} # 맞는 것"
   ]
  },
  {
   "cell_type": "markdown",
   "metadata": {},
   "source": [
    "EXERCISE 33 값 변환하기  \n",
    "* 함수와 딕셔너리를 매개변수로 받고, 새로운 딕셔너리를 만드는 transform_values() 함수\n",
    "* 이때 새로운 딕셔너리는 입력 딕셔너리의 키를 그대로 갖고, 값만 함수 적용했을 때의 리턴 값으로 변경\n",
    "* d = {'a': 1, 'b': 2, 'c': 3} transfrom_values(lambda x: x*x, d) -> {'a': 1, 'b': 4, 'c': 9}"
   ]
  },
  {
   "cell_type": "code",
   "execution_count": 37,
   "metadata": {},
   "outputs": [
    {
     "data": {
      "text/plain": [
       "{'a': 1, 'b': 4, 'c': 9, 'd': 16}"
      ]
     },
     "execution_count": 37,
     "metadata": {},
     "output_type": "execute_result"
    }
   ],
   "source": [
    "def transform_values(func, dict):\n",
    "    return {key: func(val) for key, val in dict.items()}\n",
    "    \n",
    "dict = {'a': 1, 'b': 2, 'c': 3, 'd': 4}\n",
    "transform_values(lambda x: x*x, dict)"
   ]
  },
  {
   "cell_type": "markdown",
   "metadata": {},
   "source": [
    "조금 더 나아가기  \n",
    "* transform_values 예제 확장 -> 매개변수로 2개의 함수를 받도록. 첫 번째 함수 매개변수는 기존과 같이 값에 적용하고 두 번째 함수 매개변수는 True/False 리턴해서 True일 때만 최종 딕셔너리에 해당 키와 값을 포함시키는 데 사용"
   ]
  },
  {
   "cell_type": "code",
   "execution_count": 36,
   "metadata": {},
   "outputs": [
    {
     "data": {
      "text/plain": [
       "{'b': 4, 'd': 16}"
      ]
     },
     "execution_count": 36,
     "metadata": {},
     "output_type": "execute_result"
    }
   ],
   "source": [
    "def transform_values(func1, func2, dict):\n",
    "    return {key: func1(val) for key, val in dict.items() if func2(val) == True}\n",
    "    \n",
    "dict = {'a': 1, 'b': 2, 'c': 3, 'd': 4}\n",
    "transform_values(lambda x: x*x, lambda x: x%2 == 0, dict)"
   ]
  },
  {
   "cell_type": "markdown",
   "metadata": {},
   "source": [
    "EXERCISE 35A. 제마트리아(1)\n",
    "* 히브리어로 '제마트리아'는 과거부터 성경 구절에 번호를 붙여온 방식"
   ]
  }
 ],
 "metadata": {
  "kernelspec": {
   "display_name": "py3.8.15",
   "language": "python",
   "name": "py3.8.15"
  },
  "language_info": {
   "codemirror_mode": {
    "name": "ipython",
    "version": 3
   },
   "file_extension": ".py",
   "mimetype": "text/x-python",
   "name": "python",
   "nbconvert_exporter": "python",
   "pygments_lexer": "ipython3",
   "version": "3.10.9"
  },
  "orig_nbformat": 4
 },
 "nbformat": 4,
 "nbformat_minor": 2
}
